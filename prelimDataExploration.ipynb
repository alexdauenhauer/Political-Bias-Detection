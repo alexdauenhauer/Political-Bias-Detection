{
 "cells": [
  {
   "cell_type": "code",
   "execution_count": 1,
   "metadata": {},
   "outputs": [],
   "source": [
    "import treeUtil\n",
    "import pickle\n",
    "import pandas as pd\n",
    "import os\n",
    "# import matplotlib.pyplot as plt\n",
    "# plt.style.use('ggplot')"
   ]
  },
  {
   "cell_type": "code",
   "execution_count": 2,
   "metadata": {},
   "outputs": [],
   "source": [
    "import pickle\n",
    "with open('../data/filteredConvote.pickle', 'rb') as f:\n",
    "    convote = pickle.load(f)\n",
    "with open('../data/filteredIBC.pickle', 'rb') as f:\n",
    "    ibc = pickle.load(f)\n",
    "df = convote.append(ibc)"
   ]
  },
  {
   "cell_type": "code",
   "execution_count": 3,
   "metadata": {},
   "outputs": [
    {
     "data": {
      "text/plain": [
       "(27562, 2)"
      ]
     },
     "execution_count": 3,
     "metadata": {},
     "output_type": "execute_result"
    }
   ],
   "source": [
    "convote.shape"
   ]
  },
  {
   "cell_type": "code",
   "execution_count": 4,
   "metadata": {},
   "outputs": [
    {
     "data": {
      "text/plain": [
       "(22621, 2)"
      ]
     },
     "execution_count": 4,
     "metadata": {},
     "output_type": "execute_result"
    }
   ],
   "source": [
    "ibc.shape"
   ]
  },
  {
   "cell_type": "code",
   "execution_count": 5,
   "metadata": {},
   "outputs": [
    {
     "data": {
      "text/plain": [
       "(50183, 2)"
      ]
     },
     "execution_count": 5,
     "metadata": {},
     "output_type": "execute_result"
    }
   ],
   "source": [
    "df = convote.append(ibc)\n",
    "df.shape"
   ]
  },
  {
   "cell_type": "markdown",
   "metadata": {},
   "source": [
    "# Load data"
   ]
  },
  {
   "cell_type": "code",
   "execution_count": 2,
   "metadata": {},
   "outputs": [
    {
     "name": "stdout",
     "output_type": "stream",
     "text": [
      "total 787088\n",
      "-rw-rw-r-- 1 alex alex 203539364 Aug 20  2017 articles1.csv\n",
      "-rw-rw-r-- 1 alex alex 225757056 Aug 20  2017 articles2.csv\n",
      "-rw-rw-r-- 1 alex alex 240344348 Aug 20  2017 articles3.csv\n",
      "-rw-r--r-- 1 alex alex  90963694 Jun 30 13:34 filtered_sentences.pickle\n",
      "-rw------- 1 alex alex  45357539 Apr 26  2014 ibcData.pkl\n"
     ]
    }
   ],
   "source": [
    "!ls -l ~/data"
   ]
  },
  {
   "cell_type": "code",
   "execution_count": 3,
   "metadata": {},
   "outputs": [
    {
     "data": {
      "text/plain": [
       "['ibcData.pkl',\n",
       " 'articles2.csv',\n",
       " 'conGrams.pickle',\n",
       " 'conCons.pickle',\n",
       " 'libGrams.pickle',\n",
       " 'convote_v1.1.tar.gz',\n",
       " 'articles3.csv',\n",
       " 'filteredIBC.pickle',\n",
       " 'libCons.pickle',\n",
       " 'filtered_sentences.pickle',\n",
       " 'articles1.csv',\n",
       " 'convote_v1.1',\n",
       " 'filteredConvote.pickle']"
      ]
     },
     "execution_count": 3,
     "metadata": {},
     "output_type": "execute_result"
    }
   ],
   "source": [
    "os.listdir('../data')"
   ]
  },
  {
   "cell_type": "code",
   "execution_count": 6,
   "metadata": {},
   "outputs": [],
   "source": [
    "with open(r'../data/ibcData.pkl', 'rb') as f:\n",
    "    [lib, con, neutral] = pickle.load(f)"
   ]
  },
  {
   "cell_type": "code",
   "execution_count": 5,
   "metadata": {},
   "outputs": [
    {
     "name": "stdout",
     "output_type": "stream",
     "text": [
      "Forcing middle-class workers to bear a greater share of the cost of government weakens their support for needed investments and stirs resentment toward those who depend on public services the most .\n"
     ]
    }
   ],
   "source": [
    "print(lib[0].get_words())"
   ]
  },
  {
   "cell_type": "code",
   "execution_count": 6,
   "metadata": {},
   "outputs": [
    {
     "name": "stdout",
     "output_type": "stream",
     "text": [
      "Gore is getting rich from environmentalism , not just by being paid a whopping $ 175,000 per speech but by using political pressure to force government policy in a direction that benefits his business interests .\n"
     ]
    }
   ],
   "source": [
    "print(con[0].get_words())"
   ]
  },
  {
   "cell_type": "code",
   "execution_count": 7,
   "metadata": {},
   "outputs": [
    {
     "name": "stdout",
     "output_type": "stream",
     "text": [
      "In this country , the beneficiaries of Apple 's success are , first , the designers , who have done wonders working with Steve Jobs to produce products that are beautiful and effective .\n"
     ]
    }
   ],
   "source": [
    "print(neutral[0].get_words())"
   ]
  },
  {
   "cell_type": "code",
   "execution_count": 8,
   "metadata": {},
   "outputs": [
    {
     "data": {
      "text/plain": [
       "True"
      ]
     },
     "execution_count": 8,
     "metadata": {},
     "output_type": "execute_result"
    }
   ],
   "source": [
    "type(lib[0]) == treeUtil.nodeObj"
   ]
  },
  {
   "cell_type": "markdown",
   "metadata": {},
   "source": [
    "# Figure out how to work with custom data types"
   ]
  },
  {
   "cell_type": "code",
   "execution_count": 9,
   "metadata": {},
   "outputs": [
    {
     "name": "stdout",
     "output_type": "stream",
     "text": [
      "ROOT+S : Liberal : Forcing middle-class workers to bear a greater share of the cost of government weakens their support for needed investments and stirs resentment toward those who depend on public services the most .\n",
      "S+VP : No Label : Forcing middle-class workers to bear a greater share of the cost of government\n",
      "VP|<NP-S> : No Label : middle-class workers to bear a greater share of the cost of government\n",
      "NP : No Label : middle-class workers\n",
      "S+VP : No Label : to bear a greater share of the cost of government\n",
      "VP : No Label : bear a greater share of the cost of government\n",
      "NP : No Label : a greater share of the cost of government\n",
      "NP : No Label : a greater share\n",
      "NP|<JJR-NN> : No Label : greater share\n",
      "PP : No Label : of the cost of government\n",
      "NP : No Label : the cost of government\n",
      "NP : No Label : the cost\n",
      "PP : No Label : of government\n",
      "S|<VP-.> : No Label : weakens their support for needed investments and stirs resentment toward those who depend on public services the most .\n",
      "VP : Liberal : weakens their support for needed investments and stirs resentment toward those who depend on public services the most\n",
      "VP : No Label : weakens their support for needed investments\n",
      "VP|<NP-PP> : No Label : their support for needed investments\n",
      "NP : No Label : their support\n",
      "PP : No Label : for needed investments\n",
      "NP : No Label : needed investments\n",
      "VP|<CC-VP> : No Label : and stirs resentment toward those who depend on public services the most\n",
      "VP : Liberal : stirs resentment toward those who depend on public services the most\n",
      "VP|<NP-PP> : No Label : resentment toward those who depend on public services the most\n",
      "PP : No Label : toward those who depend on public services the most\n",
      "NP : No Label : those who depend on public services the most\n",
      "SBAR : No Label : who depend on public services the most\n",
      "S+VP : No Label : depend on public services the most\n",
      "VP|<PP-NP> : No Label : on public services the most\n",
      "PP : No Label : on public services\n",
      "NP : No Label : public services\n",
      "NP : No Label : the most\n"
     ]
    }
   ],
   "source": [
    "tree = lib[0]\n",
    "for node in tree:\n",
    "    if isinstance(node, treeUtil.nodeObj):\n",
    "        if hasattr(node, 'label'):\n",
    "            print(node.pos,':', node.label, ':', node.get_words())\n",
    "        else:\n",
    "            print(node.pos,':', 'No Label', ':', node.get_words())"
   ]
  },
  {
   "cell_type": "code",
   "execution_count": 10,
   "metadata": {},
   "outputs": [
    {
     "name": "stdout",
     "output_type": "stream",
     "text": [
      "Forcing :  VBG\n",
      "middle-class :  NN\n",
      "workers :  NNS\n",
      "to :  TO\n",
      "bear :  VB\n",
      "a :  DT\n",
      "greater :  JJR\n",
      "share :  NN\n",
      "of :  IN\n",
      "the :  DT\n",
      "cost :  NN\n",
      "of :  IN\n",
      "government :  NP+NN\n",
      "weakens :  VBZ\n",
      "their :  PRP$\n",
      "support :  NN\n",
      "for :  IN\n",
      "needed :  JJ\n",
      "investments :  NNS\n",
      "and :  CC\n",
      "stirs :  VBZ\n",
      "resentment :  NP+NN\n",
      "toward :  IN\n",
      "those :  NP+DT\n",
      "who :  WHNP+WP\n",
      "depend :  VBP\n",
      "on :  IN\n",
      "public :  JJ\n",
      "services :  NNS\n",
      "the :  DT\n",
      "most :  JJS\n",
      ". :  .\n"
     ]
    }
   ],
   "source": [
    "for leaf in tree.get_leaves():\n",
    "    leaf.print_leaf()"
   ]
  },
  {
   "cell_type": "code",
   "execution_count": 11,
   "metadata": {},
   "outputs": [
    {
     "name": "stdout",
     "output_type": "stream",
     "text": [
      "Liberal : Forcing middle-class workers to bear a greater share of the cost of government weakens their support for needed investments and stirs resentment toward those who depend on public services the most .\n",
      "None : Forcing middle-class workers to bear a greater share of the cost of government\n",
      "None : middle-class workers to bear a greater share of the cost of government\n",
      "None : middle-class workers\n",
      "None : to bear a greater share of the cost of government\n",
      "None : bear a greater share of the cost of government\n",
      "None : a greater share of the cost of government\n",
      "None : a greater share\n",
      "None : greater share\n",
      "None : of the cost of government\n",
      "None : the cost of government\n",
      "None : the cost\n",
      "None : of government\n",
      "None : weakens their support for needed investments and stirs resentment toward those who depend on public services the most .\n",
      "Liberal : weakens their support for needed investments and stirs resentment toward those who depend on public services the most\n",
      "None : weakens their support for needed investments\n",
      "None : their support for needed investments\n",
      "None : their support\n",
      "None : for needed investments\n",
      "None : needed investments\n",
      "None : and stirs resentment toward those who depend on public services the most\n",
      "Liberal : stirs resentment toward those who depend on public services the most\n",
      "None : resentment toward those who depend on public services the most\n",
      "None : toward those who depend on public services the most\n",
      "None : those who depend on public services the most\n",
      "None : who depend on public services the most\n",
      "None : depend on public services the most\n",
      "None : on public services the most\n",
      "None : on public services\n",
      "None : public services\n",
      "None : the most\n"
     ]
    }
   ],
   "source": [
    "t = lib[0]\n",
    "for node in t:\n",
    "    if isinstance(node, treeUtil.nodeObj):\n",
    "        if hasattr(node, 'label'):\n",
    "            label = node.label\n",
    "        else:\n",
    "            label = None\n",
    "        print(label, ':', node.get_words())"
   ]
  },
  {
   "cell_type": "markdown",
   "metadata": {},
   "source": [
    "# Pull data into individual DataFrames"
   ]
  },
  {
   "cell_type": "code",
   "execution_count": 7,
   "metadata": {},
   "outputs": [],
   "source": [
    "def readNodes(tree, root_id):\n",
    "    treeList = []\n",
    "    for node in tree:\n",
    "        if isinstance(node, treeUtil.nodeObj):\n",
    "            if hasattr(node, 'label'):\n",
    "                label = node.label.lower()\n",
    "            else:\n",
    "                label = None\n",
    "            is_root = True if 'root' in node.pos.lower() else False\n",
    "            text = node.get_words()\n",
    "            treeList.append([text, label, node.pos, is_root, root_id])\n",
    "    return treeList"
   ]
  },
  {
   "cell_type": "code",
   "execution_count": 8,
   "metadata": {},
   "outputs": [],
   "source": [
    "def trees_to_df(trees):\n",
    "    cols = [\n",
    "        'text','label','position','is_root','root_id',\n",
    "    ]\n",
    "    treeList = []\n",
    "    for root_id, tree in enumerate(trees):\n",
    "        t = readNodes(tree, root_id)\n",
    "        treeList.extend(t)\n",
    "    df = pd.DataFrame(treeList, columns=cols)\n",
    "    \n",
    "    return df"
   ]
  },
  {
   "cell_type": "markdown",
   "metadata": {},
   "source": [
    "## original individual DFs"
   ]
  },
  {
   "cell_type": "code",
   "execution_count": 14,
   "metadata": {},
   "outputs": [
    {
     "data": {
      "text/html": [
       "<div>\n",
       "<style scoped>\n",
       "    .dataframe tbody tr th:only-of-type {\n",
       "        vertical-align: middle;\n",
       "    }\n",
       "\n",
       "    .dataframe tbody tr th {\n",
       "        vertical-align: top;\n",
       "    }\n",
       "\n",
       "    .dataframe thead th {\n",
       "        text-align: right;\n",
       "    }\n",
       "</style>\n",
       "<table border=\"1\" class=\"dataframe\">\n",
       "  <thead>\n",
       "    <tr style=\"text-align: right;\">\n",
       "      <th></th>\n",
       "      <th>text</th>\n",
       "      <th>label</th>\n",
       "      <th>position</th>\n",
       "      <th>is_root</th>\n",
       "      <th>root_id</th>\n",
       "    </tr>\n",
       "  </thead>\n",
       "  <tbody>\n",
       "    <tr>\n",
       "      <th>0</th>\n",
       "      <td>Forcing middle-class workers to bear a greater...</td>\n",
       "      <td>liberal</td>\n",
       "      <td>ROOT+S</td>\n",
       "      <td>True</td>\n",
       "      <td>0</td>\n",
       "    </tr>\n",
       "    <tr>\n",
       "      <th>1</th>\n",
       "      <td>Forcing middle-class workers to bear a greater...</td>\n",
       "      <td>None</td>\n",
       "      <td>S+VP</td>\n",
       "      <td>False</td>\n",
       "      <td>0</td>\n",
       "    </tr>\n",
       "    <tr>\n",
       "      <th>2</th>\n",
       "      <td>middle-class workers to bear a greater share o...</td>\n",
       "      <td>None</td>\n",
       "      <td>VP|&lt;NP-S&gt;</td>\n",
       "      <td>False</td>\n",
       "      <td>0</td>\n",
       "    </tr>\n",
       "    <tr>\n",
       "      <th>3</th>\n",
       "      <td>middle-class workers</td>\n",
       "      <td>None</td>\n",
       "      <td>NP</td>\n",
       "      <td>False</td>\n",
       "      <td>0</td>\n",
       "    </tr>\n",
       "    <tr>\n",
       "      <th>4</th>\n",
       "      <td>to bear a greater share of the cost of government</td>\n",
       "      <td>None</td>\n",
       "      <td>S+VP</td>\n",
       "      <td>False</td>\n",
       "      <td>0</td>\n",
       "    </tr>\n",
       "  </tbody>\n",
       "</table>\n",
       "</div>"
      ],
      "text/plain": [
       "                                                text    label   position  \\\n",
       "0  Forcing middle-class workers to bear a greater...  liberal     ROOT+S   \n",
       "1  Forcing middle-class workers to bear a greater...     None       S+VP   \n",
       "2  middle-class workers to bear a greater share o...     None  VP|<NP-S>   \n",
       "3                               middle-class workers     None         NP   \n",
       "4  to bear a greater share of the cost of government     None       S+VP   \n",
       "\n",
       "   is_root  root_id  \n",
       "0     True        0  \n",
       "1    False        0  \n",
       "2    False        0  \n",
       "3    False        0  \n",
       "4    False        0  "
      ]
     },
     "execution_count": 14,
     "metadata": {},
     "output_type": "execute_result"
    }
   ],
   "source": [
    "libDf = trees_to_df(lib)\n",
    "libDf.head()"
   ]
  },
  {
   "cell_type": "code",
   "execution_count": 15,
   "metadata": {},
   "outputs": [
    {
     "data": {
      "text/plain": [
       "(84345, 5)"
      ]
     },
     "execution_count": 15,
     "metadata": {},
     "output_type": "execute_result"
    }
   ],
   "source": [
    "libDf.loc[libDf.label != None].shape"
   ]
  },
  {
   "cell_type": "code",
   "execution_count": 16,
   "metadata": {},
   "outputs": [
    {
     "data": {
      "text/html": [
       "<div>\n",
       "<style scoped>\n",
       "    .dataframe tbody tr th:only-of-type {\n",
       "        vertical-align: middle;\n",
       "    }\n",
       "\n",
       "    .dataframe tbody tr th {\n",
       "        vertical-align: top;\n",
       "    }\n",
       "\n",
       "    .dataframe thead th {\n",
       "        text-align: right;\n",
       "    }\n",
       "</style>\n",
       "<table border=\"1\" class=\"dataframe\">\n",
       "  <thead>\n",
       "    <tr style=\"text-align: right;\">\n",
       "      <th></th>\n",
       "      <th>text</th>\n",
       "      <th>label</th>\n",
       "      <th>position</th>\n",
       "      <th>is_root</th>\n",
       "      <th>root_id</th>\n",
       "    </tr>\n",
       "  </thead>\n",
       "  <tbody>\n",
       "    <tr>\n",
       "      <th>0</th>\n",
       "      <td>Gore is getting rich from environmentalism , n...</td>\n",
       "      <td>conservative</td>\n",
       "      <td>ROOT+S</td>\n",
       "      <td>True</td>\n",
       "      <td>0</td>\n",
       "    </tr>\n",
       "    <tr>\n",
       "      <th>1</th>\n",
       "      <td>is getting rich from environmentalism , not ju...</td>\n",
       "      <td>None</td>\n",
       "      <td>S|&lt;VP-.&gt;</td>\n",
       "      <td>False</td>\n",
       "      <td>0</td>\n",
       "    </tr>\n",
       "    <tr>\n",
       "      <th>2</th>\n",
       "      <td>is getting rich from environmentalism , not ju...</td>\n",
       "      <td>conservative</td>\n",
       "      <td>VP</td>\n",
       "      <td>False</td>\n",
       "      <td>0</td>\n",
       "    </tr>\n",
       "    <tr>\n",
       "      <th>3</th>\n",
       "      <td>getting rich from environmentalism , not just ...</td>\n",
       "      <td>conservative</td>\n",
       "      <td>VP</td>\n",
       "      <td>False</td>\n",
       "      <td>0</td>\n",
       "    </tr>\n",
       "    <tr>\n",
       "      <th>4</th>\n",
       "      <td>getting rich from environmentalism , not just ...</td>\n",
       "      <td>conservative</td>\n",
       "      <td>VP</td>\n",
       "      <td>False</td>\n",
       "      <td>0</td>\n",
       "    </tr>\n",
       "  </tbody>\n",
       "</table>\n",
       "</div>"
      ],
      "text/plain": [
       "                                                text         label  position  \\\n",
       "0  Gore is getting rich from environmentalism , n...  conservative    ROOT+S   \n",
       "1  is getting rich from environmentalism , not ju...          None  S|<VP-.>   \n",
       "2  is getting rich from environmentalism , not ju...  conservative        VP   \n",
       "3  getting rich from environmentalism , not just ...  conservative        VP   \n",
       "4  getting rich from environmentalism , not just ...  conservative        VP   \n",
       "\n",
       "   is_root  root_id  \n",
       "0     True        0  \n",
       "1    False        0  \n",
       "2    False        0  \n",
       "3    False        0  \n",
       "4    False        0  "
      ]
     },
     "execution_count": 16,
     "metadata": {},
     "output_type": "execute_result"
    }
   ],
   "source": [
    "conDf = trees_to_df(con)\n",
    "conDf.head()"
   ]
  },
  {
   "cell_type": "code",
   "execution_count": 17,
   "metadata": {},
   "outputs": [
    {
     "data": {
      "text/plain": [
       "(69252, 5)"
      ]
     },
     "execution_count": 17,
     "metadata": {},
     "output_type": "execute_result"
    }
   ],
   "source": [
    "conDf.loc[conDf.label != None].shape"
   ]
  },
  {
   "cell_type": "code",
   "execution_count": 18,
   "metadata": {},
   "outputs": [
    {
     "data": {
      "text/html": [
       "<div>\n",
       "<style scoped>\n",
       "    .dataframe tbody tr th:only-of-type {\n",
       "        vertical-align: middle;\n",
       "    }\n",
       "\n",
       "    .dataframe tbody tr th {\n",
       "        vertical-align: top;\n",
       "    }\n",
       "\n",
       "    .dataframe thead th {\n",
       "        text-align: right;\n",
       "    }\n",
       "</style>\n",
       "<table border=\"1\" class=\"dataframe\">\n",
       "  <thead>\n",
       "    <tr style=\"text-align: right;\">\n",
       "      <th></th>\n",
       "      <th>text</th>\n",
       "      <th>label</th>\n",
       "      <th>position</th>\n",
       "      <th>is_root</th>\n",
       "      <th>root_id</th>\n",
       "    </tr>\n",
       "  </thead>\n",
       "  <tbody>\n",
       "    <tr>\n",
       "      <th>0</th>\n",
       "      <td>In this country , the beneficiaries of Apple '...</td>\n",
       "      <td>neutral</td>\n",
       "      <td>ROOT+S</td>\n",
       "      <td>True</td>\n",
       "      <td>0</td>\n",
       "    </tr>\n",
       "    <tr>\n",
       "      <th>1</th>\n",
       "      <td>In this country</td>\n",
       "      <td>None</td>\n",
       "      <td>PP</td>\n",
       "      <td>False</td>\n",
       "      <td>0</td>\n",
       "    </tr>\n",
       "    <tr>\n",
       "      <th>2</th>\n",
       "      <td>this country</td>\n",
       "      <td>None</td>\n",
       "      <td>NP</td>\n",
       "      <td>False</td>\n",
       "      <td>0</td>\n",
       "    </tr>\n",
       "    <tr>\n",
       "      <th>3</th>\n",
       "      <td>, the beneficiaries of Apple 's success are , ...</td>\n",
       "      <td>None</td>\n",
       "      <td>S|&lt;,-NP-VP-.&gt;</td>\n",
       "      <td>False</td>\n",
       "      <td>0</td>\n",
       "    </tr>\n",
       "    <tr>\n",
       "      <th>4</th>\n",
       "      <td>the beneficiaries of Apple 's success are , fi...</td>\n",
       "      <td>None</td>\n",
       "      <td>S|&lt;NP-VP-.&gt;</td>\n",
       "      <td>False</td>\n",
       "      <td>0</td>\n",
       "    </tr>\n",
       "  </tbody>\n",
       "</table>\n",
       "</div>"
      ],
      "text/plain": [
       "                                                text    label       position  \\\n",
       "0  In this country , the beneficiaries of Apple '...  neutral         ROOT+S   \n",
       "1                                    In this country     None             PP   \n",
       "2                                       this country     None             NP   \n",
       "3  , the beneficiaries of Apple 's success are , ...     None  S|<,-NP-VP-.>   \n",
       "4  the beneficiaries of Apple 's success are , fi...     None    S|<NP-VP-.>   \n",
       "\n",
       "   is_root  root_id  \n",
       "0     True        0  \n",
       "1    False        0  \n",
       "2    False        0  \n",
       "3    False        0  \n",
       "4    False        0  "
      ]
     },
     "execution_count": 18,
     "metadata": {},
     "output_type": "execute_result"
    }
   ],
   "source": [
    "neutDf = trees_to_df(neutral)\n",
    "neutDf.head()"
   ]
  },
  {
   "cell_type": "code",
   "execution_count": 19,
   "metadata": {},
   "outputs": [
    {
     "data": {
      "text/plain": [
       "(22554, 5)"
      ]
     },
     "execution_count": 19,
     "metadata": {},
     "output_type": "execute_result"
    }
   ],
   "source": [
    "neutDf.loc[neutDf.label != None].shape"
   ]
  },
  {
   "cell_type": "markdown",
   "metadata": {},
   "source": [
    "# Single df with all data"
   ]
  },
  {
   "cell_type": "code",
   "execution_count": 9,
   "metadata": {},
   "outputs": [],
   "source": [
    "def singleDf(lib, con, neutral):\n",
    "    cols = [\n",
    "        'text','label','position','is_root','root_id',\n",
    "    ]\n",
    "    treeList = []\n",
    "    root_id = 0\n",
    "    for trees in [lib, con, neutral]:\n",
    "        for tree in trees:\n",
    "            t = readNodes(tree, root_id)\n",
    "            treeList.extend(t)\n",
    "            root_id += 1\n",
    "    df = pd.DataFrame(treeList, columns=cols)\n",
    "    \n",
    "    return df"
   ]
  },
  {
   "cell_type": "code",
   "execution_count": 10,
   "metadata": {},
   "outputs": [
    {
     "data": {
      "text/plain": [
       "(176151, 5)"
      ]
     },
     "execution_count": 10,
     "metadata": {},
     "output_type": "execute_result"
    }
   ],
   "source": [
    "df = singleDf(lib, con, neutral)\n",
    "df.shape"
   ]
  },
  {
   "cell_type": "code",
   "execution_count": 22,
   "metadata": {},
   "outputs": [
    {
     "data": {
      "text/html": [
       "<div>\n",
       "<style scoped>\n",
       "    .dataframe tbody tr th:only-of-type {\n",
       "        vertical-align: middle;\n",
       "    }\n",
       "\n",
       "    .dataframe tbody tr th {\n",
       "        vertical-align: top;\n",
       "    }\n",
       "\n",
       "    .dataframe thead th {\n",
       "        text-align: right;\n",
       "    }\n",
       "</style>\n",
       "<table border=\"1\" class=\"dataframe\">\n",
       "  <thead>\n",
       "    <tr style=\"text-align: right;\">\n",
       "      <th></th>\n",
       "      <th>text</th>\n",
       "      <th>label</th>\n",
       "      <th>position</th>\n",
       "      <th>is_root</th>\n",
       "      <th>root_id</th>\n",
       "    </tr>\n",
       "  </thead>\n",
       "  <tbody>\n",
       "    <tr>\n",
       "      <th>35658</th>\n",
       "      <td>the Hebrew Bible evident in the New Testament ...</td>\n",
       "      <td>None</td>\n",
       "      <td>NP</td>\n",
       "      <td>False</td>\n",
       "      <td>853</td>\n",
       "    </tr>\n",
       "    <tr>\n",
       "      <th>19932</th>\n",
       "      <td>not hesitate to voice his opinion about his Re...</td>\n",
       "      <td>None</td>\n",
       "      <td>VP|&lt;RB-VP&gt;</td>\n",
       "      <td>False</td>\n",
       "      <td>478</td>\n",
       "    </tr>\n",
       "    <tr>\n",
       "      <th>23265</th>\n",
       "      <td>, Rendell has overseen the first state-level i...</td>\n",
       "      <td>None</td>\n",
       "      <td>S|&lt;,-NP-VP&gt;</td>\n",
       "      <td>False</td>\n",
       "      <td>554</td>\n",
       "    </tr>\n",
       "    <tr>\n",
       "      <th>107091</th>\n",
       "      <td>can benevolently pick the right winners and pu...</td>\n",
       "      <td>None</td>\n",
       "      <td>VP</td>\n",
       "      <td>False</td>\n",
       "      <td>2589</td>\n",
       "    </tr>\n",
       "    <tr>\n",
       "      <th>141939</th>\n",
       "      <td>ecological damage</td>\n",
       "      <td>None</td>\n",
       "      <td>NP|&lt;JJ-NN&gt;</td>\n",
       "      <td>False</td>\n",
       "      <td>3440</td>\n",
       "    </tr>\n",
       "  </tbody>\n",
       "</table>\n",
       "</div>"
      ],
      "text/plain": [
       "                                                     text label     position  \\\n",
       "35658   the Hebrew Bible evident in the New Testament ...  None           NP   \n",
       "19932   not hesitate to voice his opinion about his Re...  None   VP|<RB-VP>   \n",
       "23265   , Rendell has overseen the first state-level i...  None  S|<,-NP-VP>   \n",
       "107091  can benevolently pick the right winners and pu...  None           VP   \n",
       "141939                                  ecological damage  None   NP|<JJ-NN>   \n",
       "\n",
       "        is_root  root_id  \n",
       "35658     False      853  \n",
       "19932     False      478  \n",
       "23265     False      554  \n",
       "107091    False     2589  \n",
       "141939    False     3440  "
      ]
     },
     "execution_count": 22,
     "metadata": {},
     "output_type": "execute_result"
    }
   ],
   "source": [
    "df.sample(5)"
   ]
  },
  {
   "cell_type": "code",
   "execution_count": 11,
   "metadata": {},
   "outputs": [
    {
     "data": {
      "text/html": [
       "<div>\n",
       "<style scoped>\n",
       "    .dataframe tbody tr th:only-of-type {\n",
       "        vertical-align: middle;\n",
       "    }\n",
       "\n",
       "    .dataframe tbody tr th {\n",
       "        vertical-align: top;\n",
       "    }\n",
       "\n",
       "    .dataframe thead th {\n",
       "        text-align: right;\n",
       "    }\n",
       "</style>\n",
       "<table border=\"1\" class=\"dataframe\">\n",
       "  <thead>\n",
       "    <tr style=\"text-align: right;\">\n",
       "      <th></th>\n",
       "      <th>text</th>\n",
       "      <th>position</th>\n",
       "      <th>is_root</th>\n",
       "      <th>root_id</th>\n",
       "    </tr>\n",
       "    <tr>\n",
       "      <th>label</th>\n",
       "      <th></th>\n",
       "      <th></th>\n",
       "      <th></th>\n",
       "      <th></th>\n",
       "    </tr>\n",
       "  </thead>\n",
       "  <tbody>\n",
       "    <tr>\n",
       "      <th>conservative</th>\n",
       "      <td>5969</td>\n",
       "      <td>5969</td>\n",
       "      <td>5969</td>\n",
       "      <td>5969</td>\n",
       "    </tr>\n",
       "    <tr>\n",
       "      <th>liberal</th>\n",
       "      <td>7809</td>\n",
       "      <td>7809</td>\n",
       "      <td>7809</td>\n",
       "      <td>7809</td>\n",
       "    </tr>\n",
       "    <tr>\n",
       "      <th>neutral</th>\n",
       "      <td>8843</td>\n",
       "      <td>8843</td>\n",
       "      <td>8843</td>\n",
       "      <td>8843</td>\n",
       "    </tr>\n",
       "  </tbody>\n",
       "</table>\n",
       "</div>"
      ],
      "text/plain": [
       "              text  position  is_root  root_id\n",
       "label                                         \n",
       "conservative  5969      5969     5969     5969\n",
       "liberal       7809      7809     7809     7809\n",
       "neutral       8843      8843     8843     8843"
      ]
     },
     "execution_count": 11,
     "metadata": {},
     "output_type": "execute_result"
    }
   ],
   "source": [
    "df.groupby('label').count()"
   ]
  },
  {
   "cell_type": "code",
   "execution_count": 24,
   "metadata": {},
   "outputs": [
    {
     "data": {
      "text/plain": [
       "(176151, 5)"
      ]
     },
     "execution_count": 24,
     "metadata": {},
     "output_type": "execute_result"
    }
   ],
   "source": [
    "df.shape"
   ]
  },
  {
   "cell_type": "code",
   "execution_count": 25,
   "metadata": {},
   "outputs": [
    {
     "data": {
      "text/plain": [
       "(4326, 5)"
      ]
     },
     "execution_count": 25,
     "metadata": {},
     "output_type": "execute_result"
    }
   ],
   "source": [
    "df[df.is_root].shape"
   ]
  },
  {
   "cell_type": "code",
   "execution_count": 26,
   "metadata": {},
   "outputs": [
    {
     "data": {
      "text/plain": [
       "4326"
      ]
     },
     "execution_count": 26,
     "metadata": {},
     "output_type": "execute_result"
    }
   ],
   "source": [
    "len(df[df.is_root].root_id.unique())"
   ]
  },
  {
   "cell_type": "code",
   "execution_count": 27,
   "metadata": {},
   "outputs": [
    {
     "data": {
      "text/plain": [
       "(22621, 5)"
      ]
     },
     "execution_count": 27,
     "metadata": {},
     "output_type": "execute_result"
    }
   ],
   "source": [
    "df.loc[df.label.notna()].shape"
   ]
  },
  {
   "cell_type": "code",
   "execution_count": 28,
   "metadata": {},
   "outputs": [
    {
     "data": {
      "text/html": [
       "<div>\n",
       "<style scoped>\n",
       "    .dataframe tbody tr th:only-of-type {\n",
       "        vertical-align: middle;\n",
       "    }\n",
       "\n",
       "    .dataframe tbody tr th {\n",
       "        vertical-align: top;\n",
       "    }\n",
       "\n",
       "    .dataframe thead th {\n",
       "        text-align: right;\n",
       "    }\n",
       "</style>\n",
       "<table border=\"1\" class=\"dataframe\">\n",
       "  <thead>\n",
       "    <tr style=\"text-align: right;\">\n",
       "      <th></th>\n",
       "      <th>text</th>\n",
       "      <th>label</th>\n",
       "      <th>position</th>\n",
       "      <th>is_root</th>\n",
       "      <th>root_id</th>\n",
       "    </tr>\n",
       "  </thead>\n",
       "  <tbody>\n",
       "    <tr>\n",
       "      <th>110173</th>\n",
       "      <td>faced by future taxpayers</td>\n",
       "      <td>neutral</td>\n",
       "      <td>VP</td>\n",
       "      <td>False</td>\n",
       "      <td>2666</td>\n",
       "    </tr>\n",
       "    <tr>\n",
       "      <th>41772</th>\n",
       "      <td>a far smaller effect on interstate commerce</td>\n",
       "      <td>neutral</td>\n",
       "      <td>NP</td>\n",
       "      <td>False</td>\n",
       "      <td>1002</td>\n",
       "    </tr>\n",
       "    <tr>\n",
       "      <th>74886</th>\n",
       "      <td>Fung and his colleagues have catalogued fiftee...</td>\n",
       "      <td>liberal</td>\n",
       "      <td>ROOT+S</td>\n",
       "      <td>True</td>\n",
       "      <td>1798</td>\n",
       "    </tr>\n",
       "    <tr>\n",
       "      <th>11502</th>\n",
       "      <td>were to be `` a global agreement on a new ( st...</td>\n",
       "      <td>liberal</td>\n",
       "      <td>VP</td>\n",
       "      <td>False</td>\n",
       "      <td>278</td>\n",
       "    </tr>\n",
       "    <tr>\n",
       "      <th>127629</th>\n",
       "      <td>In the case of the retirement age , we should ...</td>\n",
       "      <td>conservative</td>\n",
       "      <td>ROOT+S</td>\n",
       "      <td>True</td>\n",
       "      <td>3096</td>\n",
       "    </tr>\n",
       "  </tbody>\n",
       "</table>\n",
       "</div>"
      ],
      "text/plain": [
       "                                                     text         label  \\\n",
       "110173                          faced by future taxpayers       neutral   \n",
       "41772         a far smaller effect on interstate commerce       neutral   \n",
       "74886   Fung and his colleagues have catalogued fiftee...       liberal   \n",
       "11502   were to be `` a global agreement on a new ( st...       liberal   \n",
       "127629  In the case of the retirement age , we should ...  conservative   \n",
       "\n",
       "       position  is_root  root_id  \n",
       "110173       VP    False     2666  \n",
       "41772        NP    False     1002  \n",
       "74886    ROOT+S     True     1798  \n",
       "11502        VP    False      278  \n",
       "127629   ROOT+S     True     3096  "
      ]
     },
     "execution_count": 28,
     "metadata": {},
     "output_type": "execute_result"
    }
   ],
   "source": [
    "df = df.dropna(subset=['label'])\n",
    "df.sample(5)"
   ]
  },
  {
   "cell_type": "code",
   "execution_count": 12,
   "metadata": {},
   "outputs": [],
   "source": [
    "savepath = r'../data'\n",
    "# with open(os.path.join(savepath, 'filteredIBC.pickle'), 'wb') as f:\n",
    "#     pickle.dump(df.loc[:,['label','text']], f, pickle.HIGHEST_PROTOCOL)\n",
    "with open(os.path.join(savepath, 'filteredIBC_rootOnly.pickle'), 'wb') as f:\n",
    "    pickle.dump(df[df.is_root].loc[:,['label','text']], f, pickle.HIGHEST_PROTOCOL)"
   ]
  },
  {
   "cell_type": "code",
   "execution_count": 13,
   "metadata": {},
   "outputs": [],
   "source": [
    "# with open(os.path.join(savepath, 'filteredIBC.pickle'), 'rb') as f:\n",
    "#     df2 = pickle.load(f)\n",
    "with open(os.path.join(savepath, 'filteredIBC_rootOnly.pickle'), 'rb') as f:\n",
    "    test = pickle.load(f)"
   ]
  },
  {
   "cell_type": "code",
   "execution_count": 14,
   "metadata": {},
   "outputs": [
    {
     "data": {
      "text/plain": [
       "(4326, 2)"
      ]
     },
     "execution_count": 14,
     "metadata": {},
     "output_type": "execute_result"
    }
   ],
   "source": [
    "test.shape"
   ]
  },
  {
   "cell_type": "code",
   "execution_count": null,
   "metadata": {},
   "outputs": [],
   "source": []
  },
  {
   "cell_type": "code",
   "execution_count": null,
   "metadata": {},
   "outputs": [],
   "source": []
  },
  {
   "cell_type": "code",
   "execution_count": null,
   "metadata": {},
   "outputs": [],
   "source": []
  },
  {
   "cell_type": "code",
   "execution_count": null,
   "metadata": {},
   "outputs": [],
   "source": []
  },
  {
   "cell_type": "markdown",
   "metadata": {},
   "source": [
    "# tokenizing (just messing around, not needed)"
   ]
  },
  {
   "cell_type": "code",
   "execution_count": 99,
   "metadata": {},
   "outputs": [],
   "source": [
    "from tensorflow.keras.preprocessing.text import Tokenizer"
   ]
  },
  {
   "cell_type": "code",
   "execution_count": 100,
   "metadata": {},
   "outputs": [
    {
     "data": {
      "text/plain": [
       "((176151, 5), (84345, 5))"
      ]
     },
     "execution_count": 100,
     "metadata": {},
     "output_type": "execute_result"
    }
   ],
   "source": [
    "df = libDf.append(conDf).append(neutDf)\n",
    "df.shape, libDf.shape"
   ]
  },
  {
   "cell_type": "code",
   "execution_count": 67,
   "metadata": {},
   "outputs": [],
   "source": [
    "filters='!\"#$%&()*+,./:;<=>?@[\\\\]^_`{|}~\\t\\n'\n",
    "t = Tokenizer(filters=filters)"
   ]
  },
  {
   "cell_type": "code",
   "execution_count": 68,
   "metadata": {},
   "outputs": [],
   "source": [
    "t.fit_on_texts(set(libWords))"
   ]
  },
  {
   "cell_type": "code",
   "execution_count": 69,
   "metadata": {},
   "outputs": [
    {
     "data": {
      "text/plain": [
       "992619"
      ]
     },
     "execution_count": 69,
     "metadata": {},
     "output_type": "execute_result"
    }
   ],
   "source": [
    "seq = t.texts_to_sequences(libWords)\n",
    "len(seq)"
   ]
  },
  {
   "cell_type": "code",
   "execution_count": 51,
   "metadata": {},
   "outputs": [
    {
     "data": {
      "text/plain": [
       "['angered', 'mere', 'credit-constrained', 'Gregory', 'dollars']"
      ]
     },
     "execution_count": 51,
     "metadata": {},
     "output_type": "execute_result"
    }
   ],
   "source": [
    "list(libWords)[:5]"
   ]
  },
  {
   "cell_type": "code",
   "execution_count": 52,
   "metadata": {},
   "outputs": [
    {
     "data": {
      "text/plain": [
       "[[871], [872], [873], [874], [875]]"
      ]
     },
     "execution_count": 52,
     "metadata": {},
     "output_type": "execute_result"
    }
   ],
   "source": [
    "seq[:5]"
   ]
  },
  {
   "cell_type": "code",
   "execution_count": 53,
   "metadata": {},
   "outputs": [
    {
     "data": {
      "text/plain": [
       "['8.46',\n",
       " '7.9',\n",
       " '352,000',\n",
       " 'AT&T',\n",
       " '2003.4',\n",
       " 'U.S.-India',\n",
       " 'oligarchy\\\\/plutocracy',\n",
       " '1.8',\n",
       " '30,000',\n",
       " '12\\\\/23\\\\/09',\n",
       " '25,000',\n",
       " '33.8',\n",
       " '2,000',\n",
       " '1\\\\/3\\\\/11',\n",
       " '1,200',\n",
       " '9\\\\/25\\\\/08',\n",
       " '3.3',\n",
       " 'creatures\\\\/who',\n",
       " 'IMF\\\\/World',\n",
       " 'created\\\\/humans',\n",
       " 'U.S.-led',\n",
       " 'them.As',\n",
       " 'U.S.',\n",
       " '1.5',\n",
       " 'F\\\\/A',\n",
       " '250,000',\n",
       " 'U.S.A.',\n",
       " 'O.sub',\n",
       " '1941.3',\n",
       " '57,000',\n",
       " '9\\\\/12',\n",
       " '0.6',\n",
       " '100,000',\n",
       " '20,000',\n",
       " 'OpenSecrets.org',\n",
       " '81.5',\n",
       " '3.2',\n",
       " 'ethics\\\\/social',\n",
       " '381,000',\n",
       " '3.6',\n",
       " 'D.C.',\n",
       " '9\\\\/11',\n",
       " '36,500',\n",
       " 'November\\\\/December',\n",
       " '5.7',\n",
       " '630,000',\n",
       " 'rich\\\\/poor',\n",
       " '150,000',\n",
       " 'food\\\\/energy',\n",
       " '6.5',\n",
       " '5,600',\n",
       " '0.1',\n",
       " 'and\\\\/or',\n",
       " '12.5',\n",
       " 'U.S.-based',\n",
       " '40,000',\n",
       " 'U.S.-bound',\n",
       " '109,858',\n",
       " 'CFR\\\\/SPLC',\n",
       " '4,000',\n",
       " '45.3',\n",
       " 'News\\\\/Washington',\n",
       " '0.01',\n",
       " 'R&D',\n",
       " '1.9',\n",
       " '1.28',\n",
       " 'work\\\\/family',\n",
       " '30.22',\n",
       " '200,000']"
      ]
     },
     "execution_count": 53,
     "metadata": {},
     "output_type": "execute_result"
    }
   ],
   "source": [
    "longWords = [w for w,s in zip(libWords, seq) if len(s) > 1]\n",
    "longWords"
   ]
  },
  {
   "cell_type": "code",
   "execution_count": 54,
   "metadata": {},
   "outputs": [
    {
     "data": {
      "text/plain": [
       "69"
      ]
     },
     "execution_count": 54,
     "metadata": {},
     "output_type": "execute_result"
    }
   ],
   "source": [
    "len(longWords)"
   ]
  },
  {
   "cell_type": "code",
   "execution_count": null,
   "metadata": {},
   "outputs": [],
   "source": [
    "def plotWordDist(df):\n",
    "    lab = df[df.label != None]\n",
    "    "
   ]
  },
  {
   "cell_type": "code",
   "execution_count": 75,
   "metadata": {},
   "outputs": [],
   "source": [
    "labs = pd.get_dummies(libDf.loc[libDf.label != None].label)"
   ]
  },
  {
   "cell_type": "code",
   "execution_count": 76,
   "metadata": {},
   "outputs": [
    {
     "data": {
      "text/html": [
       "<div>\n",
       "<style scoped>\n",
       "    .dataframe tbody tr th:only-of-type {\n",
       "        vertical-align: middle;\n",
       "    }\n",
       "\n",
       "    .dataframe tbody tr th {\n",
       "        vertical-align: top;\n",
       "    }\n",
       "\n",
       "    .dataframe thead th {\n",
       "        text-align: right;\n",
       "    }\n",
       "</style>\n",
       "<table border=\"1\" class=\"dataframe\">\n",
       "  <thead>\n",
       "    <tr style=\"text-align: right;\">\n",
       "      <th></th>\n",
       "      <th>Conservative</th>\n",
       "      <th>Liberal</th>\n",
       "      <th>Neutral</th>\n",
       "    </tr>\n",
       "  </thead>\n",
       "  <tbody>\n",
       "    <tr>\n",
       "      <th>0</th>\n",
       "      <td>0</td>\n",
       "      <td>1</td>\n",
       "      <td>0</td>\n",
       "    </tr>\n",
       "    <tr>\n",
       "      <th>1</th>\n",
       "      <td>0</td>\n",
       "      <td>0</td>\n",
       "      <td>0</td>\n",
       "    </tr>\n",
       "    <tr>\n",
       "      <th>2</th>\n",
       "      <td>0</td>\n",
       "      <td>0</td>\n",
       "      <td>0</td>\n",
       "    </tr>\n",
       "    <tr>\n",
       "      <th>3</th>\n",
       "      <td>0</td>\n",
       "      <td>0</td>\n",
       "      <td>0</td>\n",
       "    </tr>\n",
       "    <tr>\n",
       "      <th>4</th>\n",
       "      <td>0</td>\n",
       "      <td>0</td>\n",
       "      <td>0</td>\n",
       "    </tr>\n",
       "    <tr>\n",
       "      <th>5</th>\n",
       "      <td>0</td>\n",
       "      <td>0</td>\n",
       "      <td>0</td>\n",
       "    </tr>\n",
       "    <tr>\n",
       "      <th>6</th>\n",
       "      <td>0</td>\n",
       "      <td>0</td>\n",
       "      <td>0</td>\n",
       "    </tr>\n",
       "    <tr>\n",
       "      <th>7</th>\n",
       "      <td>0</td>\n",
       "      <td>0</td>\n",
       "      <td>0</td>\n",
       "    </tr>\n",
       "    <tr>\n",
       "      <th>8</th>\n",
       "      <td>0</td>\n",
       "      <td>0</td>\n",
       "      <td>0</td>\n",
       "    </tr>\n",
       "    <tr>\n",
       "      <th>9</th>\n",
       "      <td>0</td>\n",
       "      <td>0</td>\n",
       "      <td>0</td>\n",
       "    </tr>\n",
       "    <tr>\n",
       "      <th>10</th>\n",
       "      <td>0</td>\n",
       "      <td>0</td>\n",
       "      <td>0</td>\n",
       "    </tr>\n",
       "    <tr>\n",
       "      <th>11</th>\n",
       "      <td>0</td>\n",
       "      <td>0</td>\n",
       "      <td>0</td>\n",
       "    </tr>\n",
       "    <tr>\n",
       "      <th>12</th>\n",
       "      <td>0</td>\n",
       "      <td>0</td>\n",
       "      <td>0</td>\n",
       "    </tr>\n",
       "    <tr>\n",
       "      <th>13</th>\n",
       "      <td>0</td>\n",
       "      <td>0</td>\n",
       "      <td>0</td>\n",
       "    </tr>\n",
       "    <tr>\n",
       "      <th>14</th>\n",
       "      <td>0</td>\n",
       "      <td>1</td>\n",
       "      <td>0</td>\n",
       "    </tr>\n",
       "    <tr>\n",
       "      <th>15</th>\n",
       "      <td>0</td>\n",
       "      <td>0</td>\n",
       "      <td>0</td>\n",
       "    </tr>\n",
       "    <tr>\n",
       "      <th>16</th>\n",
       "      <td>0</td>\n",
       "      <td>0</td>\n",
       "      <td>0</td>\n",
       "    </tr>\n",
       "    <tr>\n",
       "      <th>17</th>\n",
       "      <td>0</td>\n",
       "      <td>0</td>\n",
       "      <td>0</td>\n",
       "    </tr>\n",
       "    <tr>\n",
       "      <th>18</th>\n",
       "      <td>0</td>\n",
       "      <td>0</td>\n",
       "      <td>0</td>\n",
       "    </tr>\n",
       "    <tr>\n",
       "      <th>19</th>\n",
       "      <td>0</td>\n",
       "      <td>0</td>\n",
       "      <td>0</td>\n",
       "    </tr>\n",
       "    <tr>\n",
       "      <th>20</th>\n",
       "      <td>0</td>\n",
       "      <td>0</td>\n",
       "      <td>0</td>\n",
       "    </tr>\n",
       "    <tr>\n",
       "      <th>21</th>\n",
       "      <td>0</td>\n",
       "      <td>1</td>\n",
       "      <td>0</td>\n",
       "    </tr>\n",
       "    <tr>\n",
       "      <th>22</th>\n",
       "      <td>0</td>\n",
       "      <td>0</td>\n",
       "      <td>0</td>\n",
       "    </tr>\n",
       "    <tr>\n",
       "      <th>23</th>\n",
       "      <td>0</td>\n",
       "      <td>0</td>\n",
       "      <td>0</td>\n",
       "    </tr>\n",
       "    <tr>\n",
       "      <th>24</th>\n",
       "      <td>0</td>\n",
       "      <td>0</td>\n",
       "      <td>0</td>\n",
       "    </tr>\n",
       "    <tr>\n",
       "      <th>25</th>\n",
       "      <td>0</td>\n",
       "      <td>0</td>\n",
       "      <td>0</td>\n",
       "    </tr>\n",
       "    <tr>\n",
       "      <th>26</th>\n",
       "      <td>0</td>\n",
       "      <td>0</td>\n",
       "      <td>0</td>\n",
       "    </tr>\n",
       "    <tr>\n",
       "      <th>27</th>\n",
       "      <td>0</td>\n",
       "      <td>0</td>\n",
       "      <td>0</td>\n",
       "    </tr>\n",
       "    <tr>\n",
       "      <th>28</th>\n",
       "      <td>0</td>\n",
       "      <td>0</td>\n",
       "      <td>0</td>\n",
       "    </tr>\n",
       "    <tr>\n",
       "      <th>29</th>\n",
       "      <td>0</td>\n",
       "      <td>0</td>\n",
       "      <td>0</td>\n",
       "    </tr>\n",
       "    <tr>\n",
       "      <th>...</th>\n",
       "      <td>...</td>\n",
       "      <td>...</td>\n",
       "      <td>...</td>\n",
       "    </tr>\n",
       "    <tr>\n",
       "      <th>84315</th>\n",
       "      <td>0</td>\n",
       "      <td>1</td>\n",
       "      <td>0</td>\n",
       "    </tr>\n",
       "    <tr>\n",
       "      <th>84316</th>\n",
       "      <td>0</td>\n",
       "      <td>0</td>\n",
       "      <td>0</td>\n",
       "    </tr>\n",
       "    <tr>\n",
       "      <th>84317</th>\n",
       "      <td>0</td>\n",
       "      <td>0</td>\n",
       "      <td>0</td>\n",
       "    </tr>\n",
       "    <tr>\n",
       "      <th>84318</th>\n",
       "      <td>0</td>\n",
       "      <td>0</td>\n",
       "      <td>0</td>\n",
       "    </tr>\n",
       "    <tr>\n",
       "      <th>84319</th>\n",
       "      <td>0</td>\n",
       "      <td>0</td>\n",
       "      <td>0</td>\n",
       "    </tr>\n",
       "    <tr>\n",
       "      <th>84320</th>\n",
       "      <td>0</td>\n",
       "      <td>0</td>\n",
       "      <td>0</td>\n",
       "    </tr>\n",
       "    <tr>\n",
       "      <th>84321</th>\n",
       "      <td>0</td>\n",
       "      <td>0</td>\n",
       "      <td>0</td>\n",
       "    </tr>\n",
       "    <tr>\n",
       "      <th>84322</th>\n",
       "      <td>0</td>\n",
       "      <td>0</td>\n",
       "      <td>0</td>\n",
       "    </tr>\n",
       "    <tr>\n",
       "      <th>84323</th>\n",
       "      <td>0</td>\n",
       "      <td>0</td>\n",
       "      <td>0</td>\n",
       "    </tr>\n",
       "    <tr>\n",
       "      <th>84324</th>\n",
       "      <td>0</td>\n",
       "      <td>0</td>\n",
       "      <td>0</td>\n",
       "    </tr>\n",
       "    <tr>\n",
       "      <th>84325</th>\n",
       "      <td>0</td>\n",
       "      <td>0</td>\n",
       "      <td>0</td>\n",
       "    </tr>\n",
       "    <tr>\n",
       "      <th>84326</th>\n",
       "      <td>0</td>\n",
       "      <td>0</td>\n",
       "      <td>0</td>\n",
       "    </tr>\n",
       "    <tr>\n",
       "      <th>84327</th>\n",
       "      <td>0</td>\n",
       "      <td>0</td>\n",
       "      <td>0</td>\n",
       "    </tr>\n",
       "    <tr>\n",
       "      <th>84328</th>\n",
       "      <td>0</td>\n",
       "      <td>0</td>\n",
       "      <td>0</td>\n",
       "    </tr>\n",
       "    <tr>\n",
       "      <th>84329</th>\n",
       "      <td>0</td>\n",
       "      <td>0</td>\n",
       "      <td>0</td>\n",
       "    </tr>\n",
       "    <tr>\n",
       "      <th>84330</th>\n",
       "      <td>0</td>\n",
       "      <td>0</td>\n",
       "      <td>0</td>\n",
       "    </tr>\n",
       "    <tr>\n",
       "      <th>84331</th>\n",
       "      <td>0</td>\n",
       "      <td>0</td>\n",
       "      <td>0</td>\n",
       "    </tr>\n",
       "    <tr>\n",
       "      <th>84332</th>\n",
       "      <td>0</td>\n",
       "      <td>0</td>\n",
       "      <td>0</td>\n",
       "    </tr>\n",
       "    <tr>\n",
       "      <th>84333</th>\n",
       "      <td>0</td>\n",
       "      <td>0</td>\n",
       "      <td>0</td>\n",
       "    </tr>\n",
       "    <tr>\n",
       "      <th>84334</th>\n",
       "      <td>0</td>\n",
       "      <td>0</td>\n",
       "      <td>0</td>\n",
       "    </tr>\n",
       "    <tr>\n",
       "      <th>84335</th>\n",
       "      <td>0</td>\n",
       "      <td>0</td>\n",
       "      <td>0</td>\n",
       "    </tr>\n",
       "    <tr>\n",
       "      <th>84336</th>\n",
       "      <td>0</td>\n",
       "      <td>0</td>\n",
       "      <td>0</td>\n",
       "    </tr>\n",
       "    <tr>\n",
       "      <th>84337</th>\n",
       "      <td>0</td>\n",
       "      <td>0</td>\n",
       "      <td>0</td>\n",
       "    </tr>\n",
       "    <tr>\n",
       "      <th>84338</th>\n",
       "      <td>0</td>\n",
       "      <td>0</td>\n",
       "      <td>0</td>\n",
       "    </tr>\n",
       "    <tr>\n",
       "      <th>84339</th>\n",
       "      <td>0</td>\n",
       "      <td>0</td>\n",
       "      <td>0</td>\n",
       "    </tr>\n",
       "    <tr>\n",
       "      <th>84340</th>\n",
       "      <td>0</td>\n",
       "      <td>0</td>\n",
       "      <td>1</td>\n",
       "    </tr>\n",
       "    <tr>\n",
       "      <th>84341</th>\n",
       "      <td>0</td>\n",
       "      <td>0</td>\n",
       "      <td>0</td>\n",
       "    </tr>\n",
       "    <tr>\n",
       "      <th>84342</th>\n",
       "      <td>0</td>\n",
       "      <td>0</td>\n",
       "      <td>1</td>\n",
       "    </tr>\n",
       "    <tr>\n",
       "      <th>84343</th>\n",
       "      <td>0</td>\n",
       "      <td>0</td>\n",
       "      <td>0</td>\n",
       "    </tr>\n",
       "    <tr>\n",
       "      <th>84344</th>\n",
       "      <td>0</td>\n",
       "      <td>0</td>\n",
       "      <td>0</td>\n",
       "    </tr>\n",
       "  </tbody>\n",
       "</table>\n",
       "<p>84345 rows × 3 columns</p>\n",
       "</div>"
      ],
      "text/plain": [
       "       Conservative  Liberal  Neutral\n",
       "0                 0        1        0\n",
       "1                 0        0        0\n",
       "2                 0        0        0\n",
       "3                 0        0        0\n",
       "4                 0        0        0\n",
       "5                 0        0        0\n",
       "6                 0        0        0\n",
       "7                 0        0        0\n",
       "8                 0        0        0\n",
       "9                 0        0        0\n",
       "10                0        0        0\n",
       "11                0        0        0\n",
       "12                0        0        0\n",
       "13                0        0        0\n",
       "14                0        1        0\n",
       "15                0        0        0\n",
       "16                0        0        0\n",
       "17                0        0        0\n",
       "18                0        0        0\n",
       "19                0        0        0\n",
       "20                0        0        0\n",
       "21                0        1        0\n",
       "22                0        0        0\n",
       "23                0        0        0\n",
       "24                0        0        0\n",
       "25                0        0        0\n",
       "26                0        0        0\n",
       "27                0        0        0\n",
       "28                0        0        0\n",
       "29                0        0        0\n",
       "...             ...      ...      ...\n",
       "84315             0        1        0\n",
       "84316             0        0        0\n",
       "84317             0        0        0\n",
       "84318             0        0        0\n",
       "84319             0        0        0\n",
       "84320             0        0        0\n",
       "84321             0        0        0\n",
       "84322             0        0        0\n",
       "84323             0        0        0\n",
       "84324             0        0        0\n",
       "84325             0        0        0\n",
       "84326             0        0        0\n",
       "84327             0        0        0\n",
       "84328             0        0        0\n",
       "84329             0        0        0\n",
       "84330             0        0        0\n",
       "84331             0        0        0\n",
       "84332             0        0        0\n",
       "84333             0        0        0\n",
       "84334             0        0        0\n",
       "84335             0        0        0\n",
       "84336             0        0        0\n",
       "84337             0        0        0\n",
       "84338             0        0        0\n",
       "84339             0        0        0\n",
       "84340             0        0        1\n",
       "84341             0        0        0\n",
       "84342             0        0        1\n",
       "84343             0        0        0\n",
       "84344             0        0        0\n",
       "\n",
       "[84345 rows x 3 columns]"
      ]
     },
     "execution_count": 76,
     "metadata": {},
     "output_type": "execute_result"
    }
   ],
   "source": [
    "labs"
   ]
  },
  {
   "cell_type": "code",
   "execution_count": null,
   "metadata": {},
   "outputs": [],
   "source": []
  }
 ],
 "metadata": {
  "kernelspec": {
   "display_name": "Python 3",
   "language": "python",
   "name": "python3"
  },
  "language_info": {
   "codemirror_mode": {
    "name": "ipython",
    "version": 3
   },
   "file_extension": ".py",
   "mimetype": "text/x-python",
   "name": "python",
   "nbconvert_exporter": "python",
   "pygments_lexer": "ipython3",
   "version": "3.7.3"
  }
 },
 "nbformat": 4,
 "nbformat_minor": 2
}
