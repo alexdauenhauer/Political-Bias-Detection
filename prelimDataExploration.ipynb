{
 "cells": [
  {
   "cell_type": "code",
   "execution_count": 1,
   "metadata": {},
   "outputs": [],
   "source": [
    "import treeUtil\n",
    "import pickle"
   ]
  },
  {
   "cell_type": "code",
   "execution_count": 2,
   "metadata": {},
   "outputs": [],
   "source": [
    "# !python data/loadIBC.py"
   ]
  },
  {
   "cell_type": "code",
   "execution_count": 3,
   "metadata": {},
   "outputs": [],
   "source": [
    "with open(r'data/ibcData.pkl', 'rb') as f:\n",
    "    [lib, con, neutral] = pickle.load(f)"
   ]
  },
  {
   "cell_type": "code",
   "execution_count": 4,
   "metadata": {},
   "outputs": [
    {
     "name": "stdout",
     "output_type": "stream",
     "text": [
      "Forcing middle-class workers to bear a greater share of the cost of government weakens their support for needed investments and stirs resentment toward those who depend on public services the most .\n"
     ]
    }
   ],
   "source": [
    "print(lib[0].get_words())"
   ]
  },
  {
   "cell_type": "code",
   "execution_count": 5,
   "metadata": {},
   "outputs": [
    {
     "name": "stdout",
     "output_type": "stream",
     "text": [
      "Gore is getting rich from environmentalism , not just by being paid a whopping $ 175,000 per speech but by using political pressure to force government policy in a direction that benefits his business interests .\n"
     ]
    }
   ],
   "source": [
    "print(con[0].get_words())"
   ]
  },
  {
   "cell_type": "code",
   "execution_count": 6,
   "metadata": {},
   "outputs": [
    {
     "name": "stdout",
     "output_type": "stream",
     "text": [
      "In this country , the beneficiaries of Apple 's success are , first , the designers , who have done wonders working with Steve Jobs to produce products that are beautiful and effective .\n"
     ]
    }
   ],
   "source": [
    "print(neutral[0].get_words())"
   ]
  },
  {
   "cell_type": "code",
   "execution_count": 7,
   "metadata": {},
   "outputs": [
    {
     "name": "stdout",
     "output_type": "stream",
     "text": [
      "Liberal : Forcing middle-class workers to bear a greater share of the cost of government weakens their support for needed investments and stirs resentment toward those who depend on public services the most .\n",
      "Liberal : weakens their support for needed investments and stirs resentment toward those who depend on public services the most\n",
      "Liberal : stirs resentment toward those who depend on public services the most\n"
     ]
    }
   ],
   "source": [
    "tree = lib[0]\n",
    "for node in tree:\n",
    "    if hasattr(node, 'label'):\n",
    "        print(node.label, ':', node.get_words())"
   ]
  },
  {
   "cell_type": "code",
   "execution_count": 8,
   "metadata": {},
   "outputs": [
    {
     "name": "stdout",
     "output_type": "stream",
     "text": [
      "Forcing :  VBG\n",
      "middle-class :  NN\n",
      "workers :  NNS\n",
      "to :  TO\n",
      "bear :  VB\n",
      "a :  DT\n",
      "greater :  JJR\n",
      "share :  NN\n",
      "of :  IN\n",
      "the :  DT\n",
      "cost :  NN\n",
      "of :  IN\n",
      "government :  NP+NN\n",
      "weakens :  VBZ\n",
      "their :  PRP$\n",
      "support :  NN\n",
      "for :  IN\n",
      "needed :  JJ\n",
      "investments :  NNS\n",
      "and :  CC\n",
      "stirs :  VBZ\n",
      "resentment :  NP+NN\n",
      "toward :  IN\n",
      "those :  NP+DT\n",
      "who :  WHNP+WP\n",
      "depend :  VBP\n",
      "on :  IN\n",
      "public :  JJ\n",
      "services :  NNS\n",
      "the :  DT\n",
      "most :  JJS\n",
      ". :  .\n"
     ]
    }
   ],
   "source": [
    "for leaf in tree.get_leaves():\n",
    "    leaf.print_leaf()"
   ]
  }
 ],
 "metadata": {
  "kernelspec": {
   "display_name": "Python 3",
   "language": "python",
   "name": "python3"
  },
  "language_info": {
   "codemirror_mode": {
    "name": "ipython",
    "version": 3
   },
   "file_extension": ".py",
   "mimetype": "text/x-python",
   "name": "python",
   "nbconvert_exporter": "python",
   "pygments_lexer": "ipython3",
   "version": "3.7.3"
  }
 },
 "nbformat": 4,
 "nbformat_minor": 2
}
