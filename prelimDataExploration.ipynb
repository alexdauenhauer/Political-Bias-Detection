{
 "cells": [
  {
   "cell_type": "code",
   "execution_count": 1,
   "metadata": {},
   "outputs": [],
   "source": [
    "import treeUtil\n",
    "import pickle\n",
    "import pandas as pd"
   ]
  },
  {
   "cell_type": "markdown",
   "metadata": {},
   "source": [
    "# Load raw data\n",
    "The data was given to us in a pre-processed state using custom data objects and a custom package called treeUtil. This workbook includes learning how to read information from the data in the custom format it was provided to us in, as well as extracting the data and storing it in a dataframe for easy use with our model later on"
   ]
  },
  {
   "cell_type": "code",
   "execution_count": 2,
   "metadata": {},
   "outputs": [],
   "source": [
    "with open(r'../data/ibcData.pkl', 'rb') as f:\n",
    "    [lib, con, neutral] = pickle.load(f)"
   ]
  },
  {
   "cell_type": "markdown",
   "metadata": {},
   "source": [
    "# Print example sentences from custom objects"
   ]
  },
  {
   "cell_type": "code",
   "execution_count": 3,
   "metadata": {},
   "outputs": [
    {
     "name": "stdout",
     "output_type": "stream",
     "text": [
      "Forcing middle-class workers to bear a greater share of the cost of government weakens their support for needed investments and stirs resentment toward those who depend on public services the most .\n"
     ]
    }
   ],
   "source": [
    "print(lib[0].get_words())"
   ]
  },
  {
   "cell_type": "code",
   "execution_count": 4,
   "metadata": {},
   "outputs": [
    {
     "name": "stdout",
     "output_type": "stream",
     "text": [
      "Gore is getting rich from environmentalism , not just by being paid a whopping $ 175,000 per speech but by using political pressure to force government policy in a direction that benefits his business interests .\n"
     ]
    }
   ],
   "source": [
    "print(con[0].get_words())"
   ]
  },
  {
   "cell_type": "code",
   "execution_count": 5,
   "metadata": {},
   "outputs": [
    {
     "name": "stdout",
     "output_type": "stream",
     "text": [
      "In this country , the beneficiaries of Apple 's success are , first , the designers , who have done wonders working with Steve Jobs to produce products that are beautiful and effective .\n"
     ]
    }
   ],
   "source": [
    "print(neutral[0].get_words())"
   ]
  },
  {
   "cell_type": "code",
   "execution_count": 6,
   "metadata": {},
   "outputs": [
    {
     "data": {
      "text/plain": [
       "True"
      ]
     },
     "execution_count": 6,
     "metadata": {},
     "output_type": "execute_result"
    }
   ],
   "source": [
    "type(lib[0]) == treeUtil.nodeObj"
   ]
  },
  {
   "cell_type": "markdown",
   "metadata": {},
   "source": [
    "# Figure out how to work with custom data types"
   ]
  },
  {
   "cell_type": "code",
   "execution_count": 7,
   "metadata": {},
   "outputs": [
    {
     "name": "stdout",
     "output_type": "stream",
     "text": [
      "ROOT+S : Liberal : Forcing middle-class workers to bear a greater share of the cost of government weakens their support for needed investments and stirs resentment toward those who depend on public services the most .\n",
      "S+VP : No Label : Forcing middle-class workers to bear a greater share of the cost of government\n",
      "VP|<NP-S> : No Label : middle-class workers to bear a greater share of the cost of government\n",
      "NP : No Label : middle-class workers\n",
      "S+VP : No Label : to bear a greater share of the cost of government\n",
      "VP : No Label : bear a greater share of the cost of government\n",
      "NP : No Label : a greater share of the cost of government\n",
      "NP : No Label : a greater share\n",
      "NP|<JJR-NN> : No Label : greater share\n",
      "PP : No Label : of the cost of government\n",
      "NP : No Label : the cost of government\n",
      "NP : No Label : the cost\n",
      "PP : No Label : of government\n",
      "S|<VP-.> : No Label : weakens their support for needed investments and stirs resentment toward those who depend on public services the most .\n",
      "VP : Liberal : weakens their support for needed investments and stirs resentment toward those who depend on public services the most\n",
      "VP : No Label : weakens their support for needed investments\n",
      "VP|<NP-PP> : No Label : their support for needed investments\n",
      "NP : No Label : their support\n",
      "PP : No Label : for needed investments\n",
      "NP : No Label : needed investments\n",
      "VP|<CC-VP> : No Label : and stirs resentment toward those who depend on public services the most\n",
      "VP : Liberal : stirs resentment toward those who depend on public services the most\n",
      "VP|<NP-PP> : No Label : resentment toward those who depend on public services the most\n",
      "PP : No Label : toward those who depend on public services the most\n",
      "NP : No Label : those who depend on public services the most\n",
      "SBAR : No Label : who depend on public services the most\n",
      "S+VP : No Label : depend on public services the most\n",
      "VP|<PP-NP> : No Label : on public services the most\n",
      "PP : No Label : on public services\n",
      "NP : No Label : public services\n",
      "NP : No Label : the most\n"
     ]
    }
   ],
   "source": [
    "# experimenting with custom data type -- printing all nodes in tree\n",
    "tree = lib[0]\n",
    "for node in tree:\n",
    "    if isinstance(node, treeUtil.nodeObj):\n",
    "        if hasattr(node, 'label'):\n",
    "            print(node.pos,':', node.label, ':', node.get_words())\n",
    "        else:\n",
    "            print(node.pos,':', 'No Label', ':', node.get_words())"
   ]
  },
  {
   "cell_type": "code",
   "execution_count": 8,
   "metadata": {},
   "outputs": [
    {
     "name": "stdout",
     "output_type": "stream",
     "text": [
      "Liberal : Forcing middle-class workers to bear a greater share of the cost of government weakens their support for needed investments and stirs resentment toward those who depend on public services the most .\n",
      "None : Forcing middle-class workers to bear a greater share of the cost of government\n",
      "None : middle-class workers to bear a greater share of the cost of government\n",
      "None : middle-class workers\n",
      "None : to bear a greater share of the cost of government\n",
      "None : bear a greater share of the cost of government\n",
      "None : a greater share of the cost of government\n",
      "None : a greater share\n",
      "None : greater share\n",
      "None : of the cost of government\n",
      "None : the cost of government\n",
      "None : the cost\n",
      "None : of government\n",
      "None : weakens their support for needed investments and stirs resentment toward those who depend on public services the most .\n",
      "Liberal : weakens their support for needed investments and stirs resentment toward those who depend on public services the most\n",
      "None : weakens their support for needed investments\n",
      "None : their support for needed investments\n",
      "None : their support\n",
      "None : for needed investments\n",
      "None : needed investments\n",
      "None : and stirs resentment toward those who depend on public services the most\n",
      "Liberal : stirs resentment toward those who depend on public services the most\n",
      "None : resentment toward those who depend on public services the most\n",
      "None : toward those who depend on public services the most\n",
      "None : those who depend on public services the most\n",
      "None : who depend on public services the most\n",
      "None : depend on public services the most\n",
      "None : on public services the most\n",
      "None : on public services\n",
      "None : public services\n",
      "None : the most\n"
     ]
    }
   ],
   "source": [
    "# printing labeled nodes (phrases) in sentence tree stucture\n",
    "t = lib[0]\n",
    "for node in t:\n",
    "    if isinstance(node, treeUtil.nodeObj):\n",
    "        if hasattr(node, 'label'):\n",
    "            label = node.label\n",
    "        else:\n",
    "            label = None\n",
    "        print(label, ':', node.get_words())"
   ]
  },
  {
   "cell_type": "markdown",
   "metadata": {},
   "source": [
    "# Pull data into individual DataFrames"
   ]
  },
  {
   "cell_type": "code",
   "execution_count": 9,
   "metadata": {},
   "outputs": [],
   "source": [
    "# define function to read data from tree objects into dataframes\n",
    "def readNodes(tree, root_id):\n",
    "    treeList = []\n",
    "    for node in tree:\n",
    "        # if the leaf is a nodeObj, extract its label or define its label as NoneType\n",
    "        if isinstance(node, treeUtil.nodeObj):\n",
    "            if hasattr(node, 'label'):\n",
    "                label = node.label.lower()\n",
    "            else:\n",
    "                label = None\n",
    "                \n",
    "            # define a variable denoting whether or not the node is the root sentence or not\n",
    "            is_root = True if 'root' in node.pos.lower() else False\n",
    "            \n",
    "            # grab the content of the sentence\n",
    "            text = node.get_words()\n",
    "            \n",
    "            # append the extracted data to a list\n",
    "            treeList.append([text, label, node.pos, is_root, root_id])\n",
    "            \n",
    "    return treeList"
   ]
  },
  {
   "cell_type": "code",
   "execution_count": 10,
   "metadata": {},
   "outputs": [],
   "source": [
    "# function to pull data from each tree in the dataset and enter it into a dataframe\n",
    "def trees_to_df(trees):\n",
    "    cols = ['text','label','pos','is_root','root_id']\n",
    "    treeList = []\n",
    "    for root_id, tree in enumerate(trees):\n",
    "        t = readNodes(tree, root_id)\n",
    "        treeList.extend(t)\n",
    "    df = pd.DataFrame(treeList, columns=cols)\n",
    "    \n",
    "    return df"
   ]
  },
  {
   "cell_type": "markdown",
   "metadata": {},
   "source": [
    "# Generate individual DFs for each ideology label"
   ]
  },
  {
   "cell_type": "code",
   "execution_count": 11,
   "metadata": {},
   "outputs": [
    {
     "data": {
      "text/html": [
       "<div>\n",
       "<style scoped>\n",
       "    .dataframe tbody tr th:only-of-type {\n",
       "        vertical-align: middle;\n",
       "    }\n",
       "\n",
       "    .dataframe tbody tr th {\n",
       "        vertical-align: top;\n",
       "    }\n",
       "\n",
       "    .dataframe thead th {\n",
       "        text-align: right;\n",
       "    }\n",
       "</style>\n",
       "<table border=\"1\" class=\"dataframe\">\n",
       "  <thead>\n",
       "    <tr style=\"text-align: right;\">\n",
       "      <th></th>\n",
       "      <th>text</th>\n",
       "      <th>label</th>\n",
       "      <th>pos</th>\n",
       "      <th>is_root</th>\n",
       "      <th>root_id</th>\n",
       "    </tr>\n",
       "  </thead>\n",
       "  <tbody>\n",
       "    <tr>\n",
       "      <th>0</th>\n",
       "      <td>Forcing middle-class workers to bear a greater...</td>\n",
       "      <td>liberal</td>\n",
       "      <td>ROOT+S</td>\n",
       "      <td>True</td>\n",
       "      <td>0</td>\n",
       "    </tr>\n",
       "    <tr>\n",
       "      <th>1</th>\n",
       "      <td>Forcing middle-class workers to bear a greater...</td>\n",
       "      <td>None</td>\n",
       "      <td>S+VP</td>\n",
       "      <td>False</td>\n",
       "      <td>0</td>\n",
       "    </tr>\n",
       "    <tr>\n",
       "      <th>2</th>\n",
       "      <td>middle-class workers to bear a greater share o...</td>\n",
       "      <td>None</td>\n",
       "      <td>VP|&lt;NP-S&gt;</td>\n",
       "      <td>False</td>\n",
       "      <td>0</td>\n",
       "    </tr>\n",
       "    <tr>\n",
       "      <th>3</th>\n",
       "      <td>middle-class workers</td>\n",
       "      <td>None</td>\n",
       "      <td>NP</td>\n",
       "      <td>False</td>\n",
       "      <td>0</td>\n",
       "    </tr>\n",
       "    <tr>\n",
       "      <th>4</th>\n",
       "      <td>to bear a greater share of the cost of government</td>\n",
       "      <td>None</td>\n",
       "      <td>S+VP</td>\n",
       "      <td>False</td>\n",
       "      <td>0</td>\n",
       "    </tr>\n",
       "  </tbody>\n",
       "</table>\n",
       "</div>"
      ],
      "text/plain": [
       "                                                text    label        pos  \\\n",
       "0  Forcing middle-class workers to bear a greater...  liberal     ROOT+S   \n",
       "1  Forcing middle-class workers to bear a greater...     None       S+VP   \n",
       "2  middle-class workers to bear a greater share o...     None  VP|<NP-S>   \n",
       "3                               middle-class workers     None         NP   \n",
       "4  to bear a greater share of the cost of government     None       S+VP   \n",
       "\n",
       "   is_root  root_id  \n",
       "0     True        0  \n",
       "1    False        0  \n",
       "2    False        0  \n",
       "3    False        0  \n",
       "4    False        0  "
      ]
     },
     "execution_count": 11,
     "metadata": {},
     "output_type": "execute_result"
    }
   ],
   "source": [
    "# data labeled \"liberal\"\n",
    "libDf = trees_to_df(lib)\n",
    "libDf.head()"
   ]
  },
  {
   "cell_type": "code",
   "execution_count": 12,
   "metadata": {},
   "outputs": [
    {
     "data": {
      "text/plain": [
       "((84345, 5), (10920, 5))"
      ]
     },
     "execution_count": 12,
     "metadata": {},
     "output_type": "execute_result"
    }
   ],
   "source": [
    "# total number of subphrases in data, total number of labeled phrases\n",
    "libDf.shape, libDf.dropna().shape"
   ]
  },
  {
   "cell_type": "code",
   "execution_count": 13,
   "metadata": {},
   "outputs": [
    {
     "data": {
      "text/html": [
       "<div>\n",
       "<style scoped>\n",
       "    .dataframe tbody tr th:only-of-type {\n",
       "        vertical-align: middle;\n",
       "    }\n",
       "\n",
       "    .dataframe tbody tr th {\n",
       "        vertical-align: top;\n",
       "    }\n",
       "\n",
       "    .dataframe thead th {\n",
       "        text-align: right;\n",
       "    }\n",
       "</style>\n",
       "<table border=\"1\" class=\"dataframe\">\n",
       "  <thead>\n",
       "    <tr style=\"text-align: right;\">\n",
       "      <th></th>\n",
       "      <th>text</th>\n",
       "      <th>label</th>\n",
       "      <th>pos</th>\n",
       "      <th>is_root</th>\n",
       "      <th>root_id</th>\n",
       "    </tr>\n",
       "  </thead>\n",
       "  <tbody>\n",
       "    <tr>\n",
       "      <th>0</th>\n",
       "      <td>Gore is getting rich from environmentalism , n...</td>\n",
       "      <td>conservative</td>\n",
       "      <td>ROOT+S</td>\n",
       "      <td>True</td>\n",
       "      <td>0</td>\n",
       "    </tr>\n",
       "    <tr>\n",
       "      <th>1</th>\n",
       "      <td>is getting rich from environmentalism , not ju...</td>\n",
       "      <td>None</td>\n",
       "      <td>S|&lt;VP-.&gt;</td>\n",
       "      <td>False</td>\n",
       "      <td>0</td>\n",
       "    </tr>\n",
       "    <tr>\n",
       "      <th>2</th>\n",
       "      <td>is getting rich from environmentalism , not ju...</td>\n",
       "      <td>conservative</td>\n",
       "      <td>VP</td>\n",
       "      <td>False</td>\n",
       "      <td>0</td>\n",
       "    </tr>\n",
       "    <tr>\n",
       "      <th>3</th>\n",
       "      <td>getting rich from environmentalism , not just ...</td>\n",
       "      <td>conservative</td>\n",
       "      <td>VP</td>\n",
       "      <td>False</td>\n",
       "      <td>0</td>\n",
       "    </tr>\n",
       "    <tr>\n",
       "      <th>4</th>\n",
       "      <td>getting rich from environmentalism , not just ...</td>\n",
       "      <td>conservative</td>\n",
       "      <td>VP</td>\n",
       "      <td>False</td>\n",
       "      <td>0</td>\n",
       "    </tr>\n",
       "  </tbody>\n",
       "</table>\n",
       "</div>"
      ],
      "text/plain": [
       "                                                text         label       pos  \\\n",
       "0  Gore is getting rich from environmentalism , n...  conservative    ROOT+S   \n",
       "1  is getting rich from environmentalism , not ju...          None  S|<VP-.>   \n",
       "2  is getting rich from environmentalism , not ju...  conservative        VP   \n",
       "3  getting rich from environmentalism , not just ...  conservative        VP   \n",
       "4  getting rich from environmentalism , not just ...  conservative        VP   \n",
       "\n",
       "   is_root  root_id  \n",
       "0     True        0  \n",
       "1    False        0  \n",
       "2    False        0  \n",
       "3    False        0  \n",
       "4    False        0  "
      ]
     },
     "execution_count": 13,
     "metadata": {},
     "output_type": "execute_result"
    }
   ],
   "source": [
    "# data labeled 'conservative'\n",
    "conDf = trees_to_df(con)\n",
    "conDf.head()"
   ]
  },
  {
   "cell_type": "code",
   "execution_count": 14,
   "metadata": {},
   "outputs": [
    {
     "data": {
      "text/plain": [
       "((69252, 5), (8192, 5))"
      ]
     },
     "execution_count": 14,
     "metadata": {},
     "output_type": "execute_result"
    }
   ],
   "source": [
    "# total number of subphrases in data, total number of labeled phrases\n",
    "conDf.shape, conDf.dropna().shape"
   ]
  },
  {
   "cell_type": "code",
   "execution_count": 15,
   "metadata": {},
   "outputs": [
    {
     "data": {
      "text/html": [
       "<div>\n",
       "<style scoped>\n",
       "    .dataframe tbody tr th:only-of-type {\n",
       "        vertical-align: middle;\n",
       "    }\n",
       "\n",
       "    .dataframe tbody tr th {\n",
       "        vertical-align: top;\n",
       "    }\n",
       "\n",
       "    .dataframe thead th {\n",
       "        text-align: right;\n",
       "    }\n",
       "</style>\n",
       "<table border=\"1\" class=\"dataframe\">\n",
       "  <thead>\n",
       "    <tr style=\"text-align: right;\">\n",
       "      <th></th>\n",
       "      <th>text</th>\n",
       "      <th>label</th>\n",
       "      <th>pos</th>\n",
       "      <th>is_root</th>\n",
       "      <th>root_id</th>\n",
       "    </tr>\n",
       "  </thead>\n",
       "  <tbody>\n",
       "    <tr>\n",
       "      <th>0</th>\n",
       "      <td>In this country , the beneficiaries of Apple '...</td>\n",
       "      <td>neutral</td>\n",
       "      <td>ROOT+S</td>\n",
       "      <td>True</td>\n",
       "      <td>0</td>\n",
       "    </tr>\n",
       "    <tr>\n",
       "      <th>1</th>\n",
       "      <td>In this country</td>\n",
       "      <td>None</td>\n",
       "      <td>PP</td>\n",
       "      <td>False</td>\n",
       "      <td>0</td>\n",
       "    </tr>\n",
       "    <tr>\n",
       "      <th>2</th>\n",
       "      <td>this country</td>\n",
       "      <td>None</td>\n",
       "      <td>NP</td>\n",
       "      <td>False</td>\n",
       "      <td>0</td>\n",
       "    </tr>\n",
       "    <tr>\n",
       "      <th>3</th>\n",
       "      <td>, the beneficiaries of Apple 's success are , ...</td>\n",
       "      <td>None</td>\n",
       "      <td>S|&lt;,-NP-VP-.&gt;</td>\n",
       "      <td>False</td>\n",
       "      <td>0</td>\n",
       "    </tr>\n",
       "    <tr>\n",
       "      <th>4</th>\n",
       "      <td>the beneficiaries of Apple 's success are , fi...</td>\n",
       "      <td>None</td>\n",
       "      <td>S|&lt;NP-VP-.&gt;</td>\n",
       "      <td>False</td>\n",
       "      <td>0</td>\n",
       "    </tr>\n",
       "  </tbody>\n",
       "</table>\n",
       "</div>"
      ],
      "text/plain": [
       "                                                text    label            pos  \\\n",
       "0  In this country , the beneficiaries of Apple '...  neutral         ROOT+S   \n",
       "1                                    In this country     None             PP   \n",
       "2                                       this country     None             NP   \n",
       "3  , the beneficiaries of Apple 's success are , ...     None  S|<,-NP-VP-.>   \n",
       "4  the beneficiaries of Apple 's success are , fi...     None    S|<NP-VP-.>   \n",
       "\n",
       "   is_root  root_id  \n",
       "0     True        0  \n",
       "1    False        0  \n",
       "2    False        0  \n",
       "3    False        0  \n",
       "4    False        0  "
      ]
     },
     "execution_count": 15,
     "metadata": {},
     "output_type": "execute_result"
    }
   ],
   "source": [
    "# data labeled 'neutral'\n",
    "neutDf = trees_to_df(neutral)\n",
    "neutDf.head()"
   ]
  },
  {
   "cell_type": "code",
   "execution_count": 16,
   "metadata": {},
   "outputs": [
    {
     "data": {
      "text/plain": [
       "((22554, 5), (3509, 5))"
      ]
     },
     "execution_count": 16,
     "metadata": {},
     "output_type": "execute_result"
    }
   ],
   "source": [
    "# total number of subphrases in data, total number of labeled phrases\n",
    "neutDf.shape, neutDf.dropna().shape"
   ]
  },
  {
   "cell_type": "markdown",
   "metadata": {},
   "source": [
    "# Single df with all data"
   ]
  },
  {
   "cell_type": "code",
   "execution_count": 17,
   "metadata": {},
   "outputs": [],
   "source": [
    "# function to pull in all data into single dataframe\n",
    "def singleDf(lib, con, neutral):\n",
    "    cols = ['text','label','pos','is_root','root_id']\n",
    "    treeList = []\n",
    "    root_id = 0\n",
    "    for trees in [lib, con, neutral]:\n",
    "        for tree in trees:\n",
    "            t = readNodes(tree, root_id)\n",
    "            treeList.extend(t)\n",
    "            root_id += 1\n",
    "    df = pd.DataFrame(treeList, columns=cols)\n",
    "    \n",
    "    return df"
   ]
  },
  {
   "cell_type": "code",
   "execution_count": 18,
   "metadata": {},
   "outputs": [
    {
     "data": {
      "text/plain": [
       "((176151, 5), (22621, 5), (4326, 5))"
      ]
     },
     "execution_count": 18,
     "metadata": {},
     "output_type": "execute_result"
    }
   ],
   "source": [
    "# total number of subphrases in dataset, total number of labled data in dataset, total number of root sentences in dataset\n",
    "df = singleDf(lib, con, neutral)\n",
    "df.shape, df.dropna().shape, df.loc[df.is_root == True].shape"
   ]
  },
  {
   "cell_type": "code",
   "execution_count": 19,
   "metadata": {},
   "outputs": [
    {
     "name": "stdout",
     "output_type": "stream",
     "text": [
      "LIBERAL - The gay-marriage effort has been a cause as well as an effect in this change : while same-sex marriage is disturbing to many Americans , it is reassuring to others , suggesting as it does loyalty to a middle-class ideal . \n",
      "\n",
      "LIBERAL - Interestingly , on the basis of this argument , the advocates should support our first strategy for economic recovery : higher public investment . \n",
      "\n",
      "CONSERVATIVE - Egypt is a brutal dictatorship , strongly supported by President Obama who has said straight out that he 's not going to criticize them because Egypt helps us maintain stability in the Middle East . \n",
      "\n",
      "LIBERAL - But leading students of central banking today , such as Charles Goodhart , argue strongly that , with the collapse of effective regulation over the past two decades , thin equity layers at many leading banks ( in combination with limited liability of shareholders ) are completely inappropriate for maintaining a stable financial system . \n",
      "\n",
      "LIBERAL - Nor does giving him money or goods in exchange for his useless labor create effective demand ; it only shifts it from the people who produced what was given him . \n",
      "\n",
      "CONSERVATIVE - Unsurprisingly , public officials defend these sanctuary policies because they believe ( or say they do ) that illegal-alien victims who do not fear deportation will help police , and for the insane reason that `` they encourage illegals to take advantage of city services like health care and education ( to whose maintenance few illegals have contributed a single tax dollar , of course ) . \n",
      "\n",
      "CONSERVATIVE - Take , for example , the depression of 1920 , one of which most Americans are unaware , since it was short-lived and solved without government intervention as the government allowed the free market to work itself out . \n",
      "\n",
      "LIBERAL - A clause in Pennsylvania 's constitution decried `` an enormous Proportion of Property vested in a few individuals '' as `` dangerous to the Rights , and destructive to the Common Happiness , of Mankind , and therefore every free State hath a right by its Laws to discourage the Possession of Such Property . \n",
      "\n",
      "LIBERAL - But then , he must deal with competing ideological factions within his base -- the loyal libertarians who brought his dad to national prominence and the Tea Partiers who do n't naturally abide libertarian positions on war and civil liberties . \n",
      "\n",
      "LIBERAL - With Karl Rove 's former deputy , Chris Henick , working at his side at the former mayor 's consulting firm , Giuliani Partners , the putative candidate is making himself fair game for fresh scrutiny , even within the party that exploited his icon status at its 2004 convention , as well as on the campaign and lecture circuits ever since the terrorist attacks . \n",
      "\n",
      "LIBERAL - Creating a voting holiday-some suggest using Veterans Day-would also help : In addition to underscoring the holiness of the democratic process , it would vastly ease the strain on those in low-wage jobs with little access to transportation or time off . \n",
      "\n",
      "CONSERVATIVE - Aggressive federal agencies and their environmental extremist clients have , instead , hijacked them , converting them into tools to prevent reasonable land uses and extort money from property owners for the benefit of favored environmental groups and causes . \n",
      "\n",
      "CONSERVATIVE - Responding to peteb dreier s piece ( `` Lessons from the Health-Care Wars '' ) , Michael KARPMAN at the blog Democratize the Progressive Movement has a less sanguine take on the efficacy of progressive organizing : `` The health care battle shed light on just how ineffective the progressive movement is , particularly if you look outside of the labor movement . \n",
      "\n",
      "CONSERVATIVE - Nuclear energy is , in fact , less expensive and more environmentally benign than hydrocarbon energy , but it too has been the victim of the politics of fear and claimed disadvantages and dangers that are actually negligible . \n",
      "\n",
      "LIBERAL - With virtually the whole Republican Party aligned with McCarthy , the hearings , unlike those held sixteen years later , were bitterly partisan and tainted by expressions of doubt about the very loyalty of the governing party . \n",
      "\n",
      "LIBERAL - These freedoms are abused by Americans on a daily basis who use them to insult , hurt , and even kill other people . \n",
      "\n",
      "LIBERAL - Confronting this poison-spewing Goliath is not merely a matter of laws and regulations , but of changing the way we think about chemicals , challenging the corporate orthodoxy that insists they are essential to modern living . \n",
      "\n",
      "LIBERAL - He has , he proudly tells us , secured capital punishment for eight murder defendants -- which I admit is eight more people than I have ever condemned to death . \n",
      "\n",
      "CONSERVATIVE - The ATF , based on DEA wiretap intercepts , had sufficient probable cause to make arrests as early as 2009 , or at least to use other investigative techniques to disrupt the purchases and seize the weapons . \n",
      "\n",
      "LIBERAL - The policy , they argued , `` removes the secrecy that gives low-wage businesses an unfair competitive advantage , allowing them to appear just as valuable to the community as companies that provide high-paying jobs . \n",
      "\n"
     ]
    }
   ],
   "source": [
    "# examples of root sentences\n",
    "for label, text in df.loc[df.is_root == True, ['label','text']].sample(20).values:\n",
    "    print(label.upper(),'-', text,'\\n')"
   ]
  },
  {
   "cell_type": "code",
   "execution_count": 20,
   "metadata": {},
   "outputs": [
    {
     "data": {
      "text/html": [
       "<div>\n",
       "<style scoped>\n",
       "    .dataframe tbody tr th:only-of-type {\n",
       "        vertical-align: middle;\n",
       "    }\n",
       "\n",
       "    .dataframe tbody tr th {\n",
       "        vertical-align: top;\n",
       "    }\n",
       "\n",
       "    .dataframe thead th {\n",
       "        text-align: right;\n",
       "    }\n",
       "</style>\n",
       "<table border=\"1\" class=\"dataframe\">\n",
       "  <thead>\n",
       "    <tr style=\"text-align: right;\">\n",
       "      <th></th>\n",
       "      <th>text</th>\n",
       "      <th>pos</th>\n",
       "      <th>is_root</th>\n",
       "      <th>root_id</th>\n",
       "    </tr>\n",
       "    <tr>\n",
       "      <th>label</th>\n",
       "      <th></th>\n",
       "      <th></th>\n",
       "      <th></th>\n",
       "      <th></th>\n",
       "    </tr>\n",
       "  </thead>\n",
       "  <tbody>\n",
       "    <tr>\n",
       "      <th>conservative</th>\n",
       "      <td>5969</td>\n",
       "      <td>5969</td>\n",
       "      <td>5969</td>\n",
       "      <td>5969</td>\n",
       "    </tr>\n",
       "    <tr>\n",
       "      <th>liberal</th>\n",
       "      <td>7809</td>\n",
       "      <td>7809</td>\n",
       "      <td>7809</td>\n",
       "      <td>7809</td>\n",
       "    </tr>\n",
       "    <tr>\n",
       "      <th>neutral</th>\n",
       "      <td>8843</td>\n",
       "      <td>8843</td>\n",
       "      <td>8843</td>\n",
       "      <td>8843</td>\n",
       "    </tr>\n",
       "  </tbody>\n",
       "</table>\n",
       "</div>"
      ],
      "text/plain": [
       "              text   pos  is_root  root_id\n",
       "label                                     \n",
       "conservative  5969  5969     5969     5969\n",
       "liberal       7809  7809     7809     7809\n",
       "neutral       8843  8843     8843     8843"
      ]
     },
     "execution_count": 20,
     "metadata": {},
     "output_type": "execute_result"
    }
   ],
   "source": [
    "# check counts of each label for balance\n",
    "df.groupby('label').count()"
   ]
  },
  {
   "cell_type": "code",
   "execution_count": 21,
   "metadata": {},
   "outputs": [],
   "source": [
    "# remove data that does not contain a label\n",
    "df = df.dropna(subset=['label'])"
   ]
  },
  {
   "cell_type": "code",
   "execution_count": 12,
   "metadata": {},
   "outputs": [],
   "source": [
    "# save full dataset with subphrases\n",
    "with open('../data/filteredIBC.pickle', 'wb') as f:\n",
    "    pickle.dump(df.loc[:,['label','text']], f, pickle.HIGHEST_PROTOCOL)"
   ]
  },
  {
   "cell_type": "code",
   "execution_count": 12,
   "metadata": {},
   "outputs": [],
   "source": [
    "# save roots-only dataset\n",
    "with open('../data/filteredIBC_rootOnly.pickle', 'wb') as f:\n",
    "    pickle.dump(df[df.is_root].loc[:,['label','text']], f, pickle.HIGHEST_PROTOCOL)"
   ]
  }
 ],
 "metadata": {
  "kernelspec": {
   "display_name": "Python 3",
   "language": "python",
   "name": "python3"
  },
  "language_info": {
   "codemirror_mode": {
    "name": "ipython",
    "version": 3
   },
   "file_extension": ".py",
   "mimetype": "text/x-python",
   "name": "python",
   "nbconvert_exporter": "python",
   "pygments_lexer": "ipython3",
   "version": "3.7.3"
  }
 },
 "nbformat": 4,
 "nbformat_minor": 2
}
