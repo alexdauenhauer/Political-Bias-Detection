{
 "cells": [
  {
   "cell_type": "code",
   "execution_count": 1,
   "metadata": {},
   "outputs": [],
   "source": [
    "import treeUtil\n",
    "import pickle\n",
    "import pandas as pd"
   ]
  },
  {
   "cell_type": "code",
   "execution_count": 2,
   "metadata": {},
   "outputs": [],
   "source": [
    "# !python data/loadIBC.py"
   ]
  },
  {
   "cell_type": "code",
   "execution_count": 2,
   "metadata": {},
   "outputs": [],
   "source": [
    "with open(r'data/ibcData.pkl', 'rb') as f:\n",
    "    [lib, con, neutral] = pickle.load(f)"
   ]
  },
  {
   "cell_type": "code",
   "execution_count": 3,
   "metadata": {},
   "outputs": [
    {
     "name": "stdout",
     "output_type": "stream",
     "text": [
      "Forcing middle-class workers to bear a greater share of the cost of government weakens their support for needed investments and stirs resentment toward those who depend on public services the most .\n"
     ]
    }
   ],
   "source": [
    "print(lib[0].get_words())"
   ]
  },
  {
   "cell_type": "code",
   "execution_count": 4,
   "metadata": {},
   "outputs": [
    {
     "name": "stdout",
     "output_type": "stream",
     "text": [
      "Gore is getting rich from environmentalism , not just by being paid a whopping $ 175,000 per speech but by using political pressure to force government policy in a direction that benefits his business interests .\n"
     ]
    }
   ],
   "source": [
    "print(con[0].get_words())"
   ]
  },
  {
   "cell_type": "code",
   "execution_count": 5,
   "metadata": {},
   "outputs": [
    {
     "name": "stdout",
     "output_type": "stream",
     "text": [
      "In this country , the beneficiaries of Apple 's success are , first , the designers , who have done wonders working with Steve Jobs to produce products that are beautiful and effective .\n"
     ]
    }
   ],
   "source": [
    "print(neutral[0].get_words())"
   ]
  },
  {
   "cell_type": "code",
   "execution_count": 6,
   "metadata": {},
   "outputs": [
    {
     "data": {
      "text/plain": [
       "True"
      ]
     },
     "execution_count": 6,
     "metadata": {},
     "output_type": "execute_result"
    }
   ],
   "source": [
    "type(lib[0]) == treeUtil.nodeObj"
   ]
  },
  {
   "cell_type": "code",
   "execution_count": 7,
   "metadata": {},
   "outputs": [
    {
     "name": "stdout",
     "output_type": "stream",
     "text": [
      "ROOT+S : Liberal : Forcing middle-class workers to bear a greater share of the cost of government weakens their support for needed investments and stirs resentment toward those who depend on public services the most .\n",
      "S+VP : No Label : Forcing middle-class workers to bear a greater share of the cost of government\n",
      "VP|<NP-S> : No Label : middle-class workers to bear a greater share of the cost of government\n",
      "NP : No Label : middle-class workers\n",
      "S+VP : No Label : to bear a greater share of the cost of government\n",
      "VP : No Label : bear a greater share of the cost of government\n",
      "NP : No Label : a greater share of the cost of government\n",
      "NP : No Label : a greater share\n",
      "NP|<JJR-NN> : No Label : greater share\n",
      "PP : No Label : of the cost of government\n",
      "NP : No Label : the cost of government\n",
      "NP : No Label : the cost\n",
      "PP : No Label : of government\n",
      "S|<VP-.> : No Label : weakens their support for needed investments and stirs resentment toward those who depend on public services the most .\n",
      "VP : Liberal : weakens their support for needed investments and stirs resentment toward those who depend on public services the most\n",
      "VP : No Label : weakens their support for needed investments\n",
      "VP|<NP-PP> : No Label : their support for needed investments\n",
      "NP : No Label : their support\n",
      "PP : No Label : for needed investments\n",
      "NP : No Label : needed investments\n",
      "VP|<CC-VP> : No Label : and stirs resentment toward those who depend on public services the most\n",
      "VP : Liberal : stirs resentment toward those who depend on public services the most\n",
      "VP|<NP-PP> : No Label : resentment toward those who depend on public services the most\n",
      "PP : No Label : toward those who depend on public services the most\n",
      "NP : No Label : those who depend on public services the most\n",
      "SBAR : No Label : who depend on public services the most\n",
      "S+VP : No Label : depend on public services the most\n",
      "VP|<PP-NP> : No Label : on public services the most\n",
      "PP : No Label : on public services\n",
      "NP : No Label : public services\n",
      "NP : No Label : the most\n"
     ]
    }
   ],
   "source": [
    "tree = lib[0]\n",
    "for node in tree:\n",
    "    if isinstance(node, treeUtil.nodeObj):\n",
    "        if hasattr(node, 'label'):\n",
    "            print(node.pos,':', node.label, ':', node.get_words())\n",
    "        else:\n",
    "            print(node.pos,':', 'No Label', ':', node.get_words())"
   ]
  },
  {
   "cell_type": "code",
   "execution_count": 8,
   "metadata": {},
   "outputs": [
    {
     "name": "stdout",
     "output_type": "stream",
     "text": [
      "Forcing :  VBG\n",
      "middle-class :  NN\n",
      "workers :  NNS\n",
      "to :  TO\n",
      "bear :  VB\n",
      "a :  DT\n",
      "greater :  JJR\n",
      "share :  NN\n",
      "of :  IN\n",
      "the :  DT\n",
      "cost :  NN\n",
      "of :  IN\n",
      "government :  NP+NN\n",
      "weakens :  VBZ\n",
      "their :  PRP$\n",
      "support :  NN\n",
      "for :  IN\n",
      "needed :  JJ\n",
      "investments :  NNS\n",
      "and :  CC\n",
      "stirs :  VBZ\n",
      "resentment :  NP+NN\n",
      "toward :  IN\n",
      "those :  NP+DT\n",
      "who :  WHNP+WP\n",
      "depend :  VBP\n",
      "on :  IN\n",
      "public :  JJ\n",
      "services :  NNS\n",
      "the :  DT\n",
      "most :  JJS\n",
      ". :  .\n"
     ]
    }
   ],
   "source": [
    "for leaf in tree.get_leaves():\n",
    "    leaf.print_leaf()"
   ]
  },
  {
   "cell_type": "code",
   "execution_count": 9,
   "metadata": {},
   "outputs": [
    {
     "name": "stdout",
     "output_type": "stream",
     "text": [
      "Liberal : Forcing middle-class workers to bear a greater share of the cost of government weakens their support for needed investments and stirs resentment toward those who depend on public services the most .\n",
      "None : Forcing middle-class workers to bear a greater share of the cost of government\n",
      "None : middle-class workers to bear a greater share of the cost of government\n",
      "None : middle-class workers\n",
      "None : to bear a greater share of the cost of government\n",
      "None : bear a greater share of the cost of government\n",
      "None : a greater share of the cost of government\n",
      "None : a greater share\n",
      "None : greater share\n",
      "None : of the cost of government\n",
      "None : the cost of government\n",
      "None : the cost\n",
      "None : of government\n",
      "None : weakens their support for needed investments and stirs resentment toward those who depend on public services the most .\n",
      "Liberal : weakens their support for needed investments and stirs resentment toward those who depend on public services the most\n",
      "None : weakens their support for needed investments\n",
      "None : their support for needed investments\n",
      "None : their support\n",
      "None : for needed investments\n",
      "None : needed investments\n",
      "None : and stirs resentment toward those who depend on public services the most\n",
      "Liberal : stirs resentment toward those who depend on public services the most\n",
      "None : resentment toward those who depend on public services the most\n",
      "None : toward those who depend on public services the most\n",
      "None : those who depend on public services the most\n",
      "None : who depend on public services the most\n",
      "None : depend on public services the most\n",
      "None : on public services the most\n",
      "None : on public services\n",
      "None : public services\n",
      "None : the most\n"
     ]
    }
   ],
   "source": [
    "t = lib[0]\n",
    "# print(len(t))\n",
    "for node in t:\n",
    "    if isinstance(node, treeUtil.nodeObj):\n",
    "        if hasattr(node, 'label'):\n",
    "            label = node.label\n",
    "        else:\n",
    "            label = None\n",
    "        print(label, ':', node.get_words())\n",
    "#     print(type(node))\n",
    "#     if node.parent:\n",
    "#         print(node.parent.pos)"
   ]
  },
  {
   "cell_type": "code",
   "execution_count": 10,
   "metadata": {},
   "outputs": [],
   "source": [
    "def readNodes(tree, root_id, treeList):\n",
    "    for node in tree:\n",
    "        if isinstance(node, treeUtil.nodeObj):\n",
    "            if hasattr(node, 'label'):\n",
    "                label = node.label\n",
    "            else:\n",
    "                label = None\n",
    "            is_root = True if 'root' in node.pos.lower() else False\n",
    "            treeList.append([node.get_words(), label, node.pos, is_root, root_id])\n",
    "    return treeList"
   ]
  },
  {
   "cell_type": "code",
   "execution_count": 11,
   "metadata": {},
   "outputs": [],
   "source": [
    "def trees_to_df(trees):\n",
    "    cols = ['text','label','position','is_root','root_id']\n",
    "    treeList = []\n",
    "    for root_id, tree in enumerate(trees):\n",
    "        readNodes(tree, root_id, treeList)\n",
    "    df = pd.DataFrame(treeList, columns=cols)\n",
    "    \n",
    "    return df"
   ]
  },
  {
   "cell_type": "code",
   "execution_count": 12,
   "metadata": {},
   "outputs": [
    {
     "data": {
      "text/html": [
       "<div>\n",
       "<style scoped>\n",
       "    .dataframe tbody tr th:only-of-type {\n",
       "        vertical-align: middle;\n",
       "    }\n",
       "\n",
       "    .dataframe tbody tr th {\n",
       "        vertical-align: top;\n",
       "    }\n",
       "\n",
       "    .dataframe thead th {\n",
       "        text-align: right;\n",
       "    }\n",
       "</style>\n",
       "<table border=\"1\" class=\"dataframe\">\n",
       "  <thead>\n",
       "    <tr style=\"text-align: right;\">\n",
       "      <th></th>\n",
       "      <th>text</th>\n",
       "      <th>label</th>\n",
       "      <th>position</th>\n",
       "      <th>is_root</th>\n",
       "      <th>root_id</th>\n",
       "    </tr>\n",
       "  </thead>\n",
       "  <tbody>\n",
       "    <tr>\n",
       "      <th>0</th>\n",
       "      <td>Forcing middle-class workers to bear a greater...</td>\n",
       "      <td>Liberal</td>\n",
       "      <td>ROOT+S</td>\n",
       "      <td>True</td>\n",
       "      <td>0</td>\n",
       "    </tr>\n",
       "    <tr>\n",
       "      <th>1</th>\n",
       "      <td>Forcing middle-class workers to bear a greater...</td>\n",
       "      <td>None</td>\n",
       "      <td>S+VP</td>\n",
       "      <td>False</td>\n",
       "      <td>0</td>\n",
       "    </tr>\n",
       "    <tr>\n",
       "      <th>2</th>\n",
       "      <td>middle-class workers to bear a greater share o...</td>\n",
       "      <td>None</td>\n",
       "      <td>VP|&lt;NP-S&gt;</td>\n",
       "      <td>False</td>\n",
       "      <td>0</td>\n",
       "    </tr>\n",
       "    <tr>\n",
       "      <th>3</th>\n",
       "      <td>middle-class workers</td>\n",
       "      <td>None</td>\n",
       "      <td>NP</td>\n",
       "      <td>False</td>\n",
       "      <td>0</td>\n",
       "    </tr>\n",
       "    <tr>\n",
       "      <th>4</th>\n",
       "      <td>to bear a greater share of the cost of government</td>\n",
       "      <td>None</td>\n",
       "      <td>S+VP</td>\n",
       "      <td>False</td>\n",
       "      <td>0</td>\n",
       "    </tr>\n",
       "  </tbody>\n",
       "</table>\n",
       "</div>"
      ],
      "text/plain": [
       "                                                text    label   position  \\\n",
       "0  Forcing middle-class workers to bear a greater...  Liberal     ROOT+S   \n",
       "1  Forcing middle-class workers to bear a greater...     None       S+VP   \n",
       "2  middle-class workers to bear a greater share o...     None  VP|<NP-S>   \n",
       "3                               middle-class workers     None         NP   \n",
       "4  to bear a greater share of the cost of government     None       S+VP   \n",
       "\n",
       "   is_root  root_id  \n",
       "0     True        0  \n",
       "1    False        0  \n",
       "2    False        0  \n",
       "3    False        0  \n",
       "4    False        0  "
      ]
     },
     "execution_count": 12,
     "metadata": {},
     "output_type": "execute_result"
    }
   ],
   "source": [
    "libDf = trees_to_df(lib)\n",
    "libDf.head()"
   ]
  },
  {
   "cell_type": "code",
   "execution_count": 13,
   "metadata": {},
   "outputs": [
    {
     "data": {
      "text/plain": [
       "(84345, 5)"
      ]
     },
     "execution_count": 13,
     "metadata": {},
     "output_type": "execute_result"
    }
   ],
   "source": [
    "libDf.loc[libDf.label != None].shape"
   ]
  },
  {
   "cell_type": "code",
   "execution_count": 14,
   "metadata": {},
   "outputs": [
    {
     "data": {
      "text/html": [
       "<div>\n",
       "<style scoped>\n",
       "    .dataframe tbody tr th:only-of-type {\n",
       "        vertical-align: middle;\n",
       "    }\n",
       "\n",
       "    .dataframe tbody tr th {\n",
       "        vertical-align: top;\n",
       "    }\n",
       "\n",
       "    .dataframe thead th {\n",
       "        text-align: right;\n",
       "    }\n",
       "</style>\n",
       "<table border=\"1\" class=\"dataframe\">\n",
       "  <thead>\n",
       "    <tr style=\"text-align: right;\">\n",
       "      <th></th>\n",
       "      <th>text</th>\n",
       "      <th>label</th>\n",
       "      <th>position</th>\n",
       "      <th>is_root</th>\n",
       "      <th>root_id</th>\n",
       "    </tr>\n",
       "  </thead>\n",
       "  <tbody>\n",
       "    <tr>\n",
       "      <th>0</th>\n",
       "      <td>Gore is getting rich from environmentalism , n...</td>\n",
       "      <td>Conservative</td>\n",
       "      <td>ROOT+S</td>\n",
       "      <td>True</td>\n",
       "      <td>0</td>\n",
       "    </tr>\n",
       "    <tr>\n",
       "      <th>1</th>\n",
       "      <td>is getting rich from environmentalism , not ju...</td>\n",
       "      <td>None</td>\n",
       "      <td>S|&lt;VP-.&gt;</td>\n",
       "      <td>False</td>\n",
       "      <td>0</td>\n",
       "    </tr>\n",
       "    <tr>\n",
       "      <th>2</th>\n",
       "      <td>is getting rich from environmentalism , not ju...</td>\n",
       "      <td>Conservative</td>\n",
       "      <td>VP</td>\n",
       "      <td>False</td>\n",
       "      <td>0</td>\n",
       "    </tr>\n",
       "    <tr>\n",
       "      <th>3</th>\n",
       "      <td>getting rich from environmentalism , not just ...</td>\n",
       "      <td>Conservative</td>\n",
       "      <td>VP</td>\n",
       "      <td>False</td>\n",
       "      <td>0</td>\n",
       "    </tr>\n",
       "    <tr>\n",
       "      <th>4</th>\n",
       "      <td>getting rich from environmentalism , not just ...</td>\n",
       "      <td>Conservative</td>\n",
       "      <td>VP</td>\n",
       "      <td>False</td>\n",
       "      <td>0</td>\n",
       "    </tr>\n",
       "  </tbody>\n",
       "</table>\n",
       "</div>"
      ],
      "text/plain": [
       "                                                text         label  position  \\\n",
       "0  Gore is getting rich from environmentalism , n...  Conservative    ROOT+S   \n",
       "1  is getting rich from environmentalism , not ju...          None  S|<VP-.>   \n",
       "2  is getting rich from environmentalism , not ju...  Conservative        VP   \n",
       "3  getting rich from environmentalism , not just ...  Conservative        VP   \n",
       "4  getting rich from environmentalism , not just ...  Conservative        VP   \n",
       "\n",
       "   is_root  root_id  \n",
       "0     True        0  \n",
       "1    False        0  \n",
       "2    False        0  \n",
       "3    False        0  \n",
       "4    False        0  "
      ]
     },
     "execution_count": 14,
     "metadata": {},
     "output_type": "execute_result"
    }
   ],
   "source": [
    "conDf = trees_to_df(con)\n",
    "conDf.head()"
   ]
  },
  {
   "cell_type": "code",
   "execution_count": 15,
   "metadata": {},
   "outputs": [
    {
     "data": {
      "text/plain": [
       "(69252, 5)"
      ]
     },
     "execution_count": 15,
     "metadata": {},
     "output_type": "execute_result"
    }
   ],
   "source": [
    "conDf.loc[conDf.label != None].shape"
   ]
  },
  {
   "cell_type": "code",
   "execution_count": 16,
   "metadata": {},
   "outputs": [
    {
     "data": {
      "text/html": [
       "<div>\n",
       "<style scoped>\n",
       "    .dataframe tbody tr th:only-of-type {\n",
       "        vertical-align: middle;\n",
       "    }\n",
       "\n",
       "    .dataframe tbody tr th {\n",
       "        vertical-align: top;\n",
       "    }\n",
       "\n",
       "    .dataframe thead th {\n",
       "        text-align: right;\n",
       "    }\n",
       "</style>\n",
       "<table border=\"1\" class=\"dataframe\">\n",
       "  <thead>\n",
       "    <tr style=\"text-align: right;\">\n",
       "      <th></th>\n",
       "      <th>text</th>\n",
       "      <th>label</th>\n",
       "      <th>position</th>\n",
       "      <th>is_root</th>\n",
       "      <th>root_id</th>\n",
       "    </tr>\n",
       "  </thead>\n",
       "  <tbody>\n",
       "    <tr>\n",
       "      <th>0</th>\n",
       "      <td>In this country , the beneficiaries of Apple '...</td>\n",
       "      <td>Neutral</td>\n",
       "      <td>ROOT+S</td>\n",
       "      <td>True</td>\n",
       "      <td>0</td>\n",
       "    </tr>\n",
       "    <tr>\n",
       "      <th>1</th>\n",
       "      <td>In this country</td>\n",
       "      <td>None</td>\n",
       "      <td>PP</td>\n",
       "      <td>False</td>\n",
       "      <td>0</td>\n",
       "    </tr>\n",
       "    <tr>\n",
       "      <th>2</th>\n",
       "      <td>this country</td>\n",
       "      <td>None</td>\n",
       "      <td>NP</td>\n",
       "      <td>False</td>\n",
       "      <td>0</td>\n",
       "    </tr>\n",
       "    <tr>\n",
       "      <th>3</th>\n",
       "      <td>, the beneficiaries of Apple 's success are , ...</td>\n",
       "      <td>None</td>\n",
       "      <td>S|&lt;,-NP-VP-.&gt;</td>\n",
       "      <td>False</td>\n",
       "      <td>0</td>\n",
       "    </tr>\n",
       "    <tr>\n",
       "      <th>4</th>\n",
       "      <td>the beneficiaries of Apple 's success are , fi...</td>\n",
       "      <td>None</td>\n",
       "      <td>S|&lt;NP-VP-.&gt;</td>\n",
       "      <td>False</td>\n",
       "      <td>0</td>\n",
       "    </tr>\n",
       "  </tbody>\n",
       "</table>\n",
       "</div>"
      ],
      "text/plain": [
       "                                                text    label       position  \\\n",
       "0  In this country , the beneficiaries of Apple '...  Neutral         ROOT+S   \n",
       "1                                    In this country     None             PP   \n",
       "2                                       this country     None             NP   \n",
       "3  , the beneficiaries of Apple 's success are , ...     None  S|<,-NP-VP-.>   \n",
       "4  the beneficiaries of Apple 's success are , fi...     None    S|<NP-VP-.>   \n",
       "\n",
       "   is_root  root_id  \n",
       "0     True        0  \n",
       "1    False        0  \n",
       "2    False        0  \n",
       "3    False        0  \n",
       "4    False        0  "
      ]
     },
     "execution_count": 16,
     "metadata": {},
     "output_type": "execute_result"
    }
   ],
   "source": [
    "neutDf = trees_to_df(neutral)\n",
    "neutDf.head()"
   ]
  },
  {
   "cell_type": "code",
   "execution_count": 17,
   "metadata": {},
   "outputs": [
    {
     "data": {
      "text/plain": [
       "(22554, 5)"
      ]
     },
     "execution_count": 17,
     "metadata": {},
     "output_type": "execute_result"
    }
   ],
   "source": [
    "neutDf.loc[neutDf.label != None].shape"
   ]
  },
  {
   "cell_type": "code",
   "execution_count": null,
   "metadata": {},
   "outputs": [],
   "source": []
  }
 ],
 "metadata": {
  "kernelspec": {
   "display_name": "Python 3",
   "language": "python",
   "name": "python3"
  },
  "language_info": {
   "codemirror_mode": {
    "name": "ipython",
    "version": 3
   },
   "file_extension": ".py",
   "mimetype": "text/x-python",
   "name": "python",
   "nbconvert_exporter": "python",
   "pygments_lexer": "ipython3",
   "version": "3.7.3"
  }
 },
 "nbformat": 4,
 "nbformat_minor": 2
}
