{
 "cells": [
  {
   "cell_type": "code",
   "execution_count": 1,
   "metadata": {},
   "outputs": [
    {
     "name": "stderr",
     "output_type": "stream",
     "text": [
      "[nltk_data] Downloading package punkt to /home/alex/nltk_data...\n",
      "[nltk_data]   Package punkt is already up-to-date!\n"
     ]
    },
    {
     "data": {
      "text/plain": [
       "True"
      ]
     },
     "execution_count": 1,
     "metadata": {},
     "output_type": "execute_result"
    }
   ],
   "source": [
    "import pandas as pd\n",
    "# import matplotlib.pyplot as plt\n",
    "import nltk\n",
    "import time, os, re, pickle\n",
    "from nltk.tokenize import word_tokenize, sent_tokenize\n",
    "# from itertools import combinations, permutations\n",
    "from collections import Counter\n",
    "# plt.style.use('ggplot')\n",
    "nltk.download('punkt')"
   ]
  },
  {
   "cell_type": "code",
   "execution_count": 2,
   "metadata": {},
   "outputs": [],
   "source": [
    "datapath = r'/home/alex/Documents/MIDS/w266/final_project/data/convote_v1.1/data_stage_three'"
   ]
  },
  {
   "cell_type": "code",
   "execution_count": 3,
   "metadata": {},
   "outputs": [
    {
     "data": {
      "text/plain": [
       "['test_set', 'development_set', 'training_set']"
      ]
     },
     "execution_count": 3,
     "metadata": {},
     "output_type": "execute_result"
    }
   ],
   "source": [
    "os.listdir(datapath)"
   ]
  },
  {
   "cell_type": "markdown",
   "metadata": {},
   "source": [
    "# Load data\n",
    "combine the three datasets into one since we are adding it to other datasets later and will do a train test split on the full data at that point"
   ]
  },
  {
   "cell_type": "code",
   "execution_count": 4,
   "metadata": {},
   "outputs": [
    {
     "name": "stdout",
     "output_type": "stream",
     "text": [
      "test_set : 860\n",
      "development_set : 257\n",
      "training_set : 2740\n",
      "Total files : 3857\n"
     ]
    }
   ],
   "source": [
    "# check how many files we are working with and load them into a list\n",
    "files = []\n",
    "party2label = {'D':'liberal','R':'conservative','I':'neutral'}\n",
    "\n",
    "# iterate through directory\n",
    "for i, (dirName, subDirList, fileList) in enumerate(os.walk(datapath)):\n",
    "    if i > 0:\n",
    "        # print the number of files in each dataset\n",
    "        print(os.listdir(datapath)[i-1], ':', len(fileList))\n",
    "    for i,f in enumerate(fileList):\n",
    "        # convert from party label to ideological label\n",
    "        label = party2label[f.split('_')[-1][0]]\n",
    "        \n",
    "        # store the filepath with the label attached\n",
    "        filepath = os.path.join(dirName,f)\n",
    "        files.append((label, filepath))\n",
    "print('Total files :', len(files))"
   ]
  },
  {
   "cell_type": "code",
   "execution_count": 5,
   "metadata": {},
   "outputs": [
    {
     "data": {
      "text/plain": [
       "('conservative',\n",
       " '/home/alex/Documents/MIDS/w266/final_project/data/convote_v1.1/data_stage_three/test_set/414_400343_2897011_RON.txt')"
      ]
     },
     "execution_count": 5,
     "metadata": {},
     "output_type": "execute_result"
    }
   ],
   "source": [
    "files[0]"
   ]
  },
  {
   "cell_type": "code",
   "execution_count": 6,
   "metadata": {},
   "outputs": [
    {
     "name": "stdout",
     "output_type": "stream",
     "text": [
      "Total sentences:  54830\n"
     ]
    }
   ],
   "source": [
    "# parse sentences and load into a DataFrame\n",
    "sentences = []\n",
    "for label, filename in files:\n",
    "    with open(filename, 'r') as f:\n",
    "        # split the sentences\n",
    "        sents = sent_tokenize(f.read())\n",
    "        \n",
    "        # collect (label, sentence) tuples\n",
    "        for sent in sents:\n",
    "            sentences.append((label, sent))\n",
    "\n",
    "df = pd.DataFrame(sentences, columns=['label', 'text'])\n",
    "print('Total sentences: ', df.shape[0])"
   ]
  },
  {
   "cell_type": "code",
   "execution_count": 7,
   "metadata": {},
   "outputs": [
    {
     "data": {
      "text/html": [
       "<div>\n",
       "<style scoped>\n",
       "    .dataframe tbody tr th:only-of-type {\n",
       "        vertical-align: middle;\n",
       "    }\n",
       "\n",
       "    .dataframe tbody tr th {\n",
       "        vertical-align: top;\n",
       "    }\n",
       "\n",
       "    .dataframe thead th {\n",
       "        text-align: right;\n",
       "    }\n",
       "</style>\n",
       "<table border=\"1\" class=\"dataframe\">\n",
       "  <thead>\n",
       "    <tr style=\"text-align: right;\">\n",
       "      <th></th>\n",
       "      <th>label</th>\n",
       "      <th>text</th>\n",
       "    </tr>\n",
       "  </thead>\n",
       "  <tbody>\n",
       "    <tr>\n",
       "      <th>13657</th>\n",
       "      <td>liberal</td>\n",
       "      <td>i do not want you to make it any better .</td>\n",
       "    </tr>\n",
       "    <tr>\n",
       "      <th>14326</th>\n",
       "      <td>conservative</td>\n",
       "      <td>i have no doubt that the people of the states ...</td>\n",
       "    </tr>\n",
       "    <tr>\n",
       "      <th>36979</th>\n",
       "      <td>conservative</td>\n",
       "      <td>its members represent over 95 percent of world...</td>\n",
       "    </tr>\n",
       "    <tr>\n",
       "      <th>2432</th>\n",
       "      <td>conservative</td>\n",
       "      <td>well , i put the majority of the blame in prac...</td>\n",
       "    </tr>\n",
       "    <tr>\n",
       "      <th>14174</th>\n",
       "      <td>conservative</td>\n",
       "      <td>making the system less costly will increase jo...</td>\n",
       "    </tr>\n",
       "  </tbody>\n",
       "</table>\n",
       "</div>"
      ],
      "text/plain": [
       "              label                                               text\n",
       "13657       liberal          i do not want you to make it any better .\n",
       "14326  conservative  i have no doubt that the people of the states ...\n",
       "36979  conservative  its members represent over 95 percent of world...\n",
       "2432   conservative  well , i put the majority of the blame in prac...\n",
       "14174  conservative  making the system less costly will increase jo..."
      ]
     },
     "execution_count": 7,
     "metadata": {},
     "output_type": "execute_result"
    }
   ],
   "source": [
    "df.sample(5)"
   ]
  },
  {
   "cell_type": "code",
   "execution_count": 8,
   "metadata": {},
   "outputs": [
    {
     "data": {
      "text/html": [
       "<div>\n",
       "<style scoped>\n",
       "    .dataframe tbody tr th:only-of-type {\n",
       "        vertical-align: middle;\n",
       "    }\n",
       "\n",
       "    .dataframe tbody tr th {\n",
       "        vertical-align: top;\n",
       "    }\n",
       "\n",
       "    .dataframe thead th {\n",
       "        text-align: right;\n",
       "    }\n",
       "</style>\n",
       "<table border=\"1\" class=\"dataframe\">\n",
       "  <thead>\n",
       "    <tr style=\"text-align: right;\">\n",
       "      <th></th>\n",
       "      <th>text</th>\n",
       "    </tr>\n",
       "    <tr>\n",
       "      <th>label</th>\n",
       "      <th></th>\n",
       "    </tr>\n",
       "  </thead>\n",
       "  <tbody>\n",
       "    <tr>\n",
       "      <th>conservative</th>\n",
       "      <td>26155</td>\n",
       "    </tr>\n",
       "    <tr>\n",
       "      <th>liberal</th>\n",
       "      <td>28439</td>\n",
       "    </tr>\n",
       "    <tr>\n",
       "      <th>neutral</th>\n",
       "      <td>236</td>\n",
       "    </tr>\n",
       "  </tbody>\n",
       "</table>\n",
       "</div>"
      ],
      "text/plain": [
       "               text\n",
       "label              \n",
       "conservative  26155\n",
       "liberal       28439\n",
       "neutral         236"
      ]
     },
     "execution_count": 8,
     "metadata": {},
     "output_type": "execute_result"
    }
   ],
   "source": [
    "df.groupby('label').count()"
   ]
  },
  {
   "cell_type": "markdown",
   "metadata": {},
   "source": [
    "# Determine most politically charged bigrams"
   ]
  },
  {
   "cell_type": "code",
   "execution_count": 9,
   "metadata": {},
   "outputs": [],
   "source": [
    "# split data into liberal and conservative\n",
    "lib = df.loc[df.label == 'liberal']\n",
    "con = df.loc[df.label == 'conservative']"
   ]
  },
  {
   "cell_type": "code",
   "execution_count": 10,
   "metadata": {},
   "outputs": [],
   "source": [
    "# define a helper function to pull the bigrams\n",
    "def getBigrams(text):\n",
    "    '''return all bigrams in a Counter'''\n",
    "    # intialize counter\n",
    "    bigrams = Counter()\n",
    "    \n",
    "    # tokenize text\n",
    "    words = word_tokenize(text)\n",
    "    \n",
    "    # filter punctuation and single letter words\n",
    "    words = [w.lower() for w in words if w.isalpha() and len(w) > 1]\n",
    "    \n",
    "    # throw out sentences with less than two words\n",
    "    if len(words) < 2:\n",
    "        return bigrams\n",
    "    \n",
    "    # add bigrams to Counter\n",
    "    for i in range(len(words) - 1):\n",
    "        b = ' '.join((words[i], words[i+1]))\n",
    "        bigrams[b] += 1\n",
    "        \n",
    "    return bigrams"
   ]
  },
  {
   "cell_type": "code",
   "execution_count": 11,
   "metadata": {},
   "outputs": [],
   "source": [
    "libBigrams = Counter()\n",
    "for text in lib.text:\n",
    "    libBigrams.update(getBigrams(text))"
   ]
  },
  {
   "cell_type": "code",
   "execution_count": 12,
   "metadata": {},
   "outputs": [
    {
     "data": {
      "text/plain": [
       "[('of the', 4107),\n",
       " ('in the', 2570),\n",
       " ('to the', 1824),\n",
       " ('it is', 1682),\n",
       " ('this bill', 1544),\n",
       " ('for the', 1260),\n",
       " ('on the', 1259),\n",
       " ('and the', 1240),\n",
       " ('we are', 1149),\n",
       " ('that is', 1136)]"
      ]
     },
     "execution_count": 12,
     "metadata": {},
     "output_type": "execute_result"
    }
   ],
   "source": [
    "libBigrams.most_common()[:10]"
   ]
  },
  {
   "cell_type": "code",
   "execution_count": 13,
   "metadata": {},
   "outputs": [],
   "source": [
    "conBigrams = Counter()\n",
    "for text in con.text:\n",
    "    conBigrams.update(getBigrams(text))"
   ]
  },
  {
   "cell_type": "code",
   "execution_count": 14,
   "metadata": {},
   "outputs": [
    {
     "data": {
      "text/plain": [
       "[('of the', 4135),\n",
       " ('in the', 2510),\n",
       " ('it is', 1759),\n",
       " ('to the', 1649),\n",
       " ('the gentleman', 1331),\n",
       " ('we have', 1276),\n",
       " ('and the', 1262),\n",
       " ('that is', 1176),\n",
       " ('on the', 1167),\n",
       " ('that we', 1119)]"
      ]
     },
     "execution_count": 14,
     "metadata": {},
     "output_type": "execute_result"
    }
   ],
   "source": [
    "conBigrams.most_common()[:10]"
   ]
  },
  {
   "cell_type": "markdown",
   "metadata": {},
   "source": [
    "most of these bigrams are neutral. Grab the 1000 most common from each ideology, then filter out any that appear in the other ideology"
   ]
  },
  {
   "cell_type": "code",
   "execution_count": 15,
   "metadata": {},
   "outputs": [],
   "source": [
    "# get the 1000 most common liberal and conservative bigrams\n",
    "commonCon = [b[0] for b in conBigrams.most_common()[:1000]]\n",
    "commonLib = [b[0] for b in libBigrams.most_common()[:1000]]"
   ]
  },
  {
   "cell_type": "code",
   "execution_count": 16,
   "metadata": {},
   "outputs": [],
   "source": [
    "# keep only the bigrams for each ideology that appear in the top 1000 of that ideology and not in the top 1000 of the other\n",
    "libBigrams_filtered = [(w,libBigrams[w]) for w in commonLib if w not in commonCon]\n",
    "# conservative bigrams also had weird 'amp nbsp' HTML tags so remove those\n",
    "conBigrams_filtered = [(w,conBigrams[w]) for w in commonCon if w not in commonLib and 'nbsp' not in w]"
   ]
  },
  {
   "cell_type": "code",
   "execution_count": 17,
   "metadata": {},
   "outputs": [
    {
     "data": {
      "text/plain": [
       "(228, 226)"
      ]
     },
     "execution_count": 17,
     "metadata": {},
     "output_type": "execute_result"
    }
   ],
   "source": [
    "len(libBigrams_filtered),len(conBigrams_filtered)"
   ]
  },
  {
   "cell_type": "code",
   "execution_count": 18,
   "metadata": {},
   "outputs": [
    {
     "name": "stdout",
     "output_type": "stream",
     "text": [
      "top 10 liberal bigrams:\n"
     ]
    },
    {
     "data": {
      "text/plain": [
       "[('the republican', 429),\n",
       " ('social security', 269),\n",
       " ('tax cuts', 261),\n",
       " ('the republicans', 172),\n",
       " ('estate tax', 171),\n",
       " ('nothing to', 138),\n",
       " ('the cbc', 129),\n",
       " ('republican budget', 117),\n",
       " ('the public', 106),\n",
       " ('pay for', 104),\n",
       " ('iraq and', 104),\n",
       " ('the estate', 103),\n",
       " ('civil rights', 102),\n",
       " ('republican leadership', 102),\n",
       " ('vote against', 100),\n",
       " ('fails to', 99),\n",
       " ('programs that', 98),\n",
       " ('health and', 97),\n",
       " ('the bush', 95),\n",
       " ('this administration', 94)]"
      ]
     },
     "execution_count": 18,
     "metadata": {},
     "output_type": "execute_result"
    }
   ],
   "source": [
    "print('top 10 liberal bigrams:')\n",
    "sorted(libBigrams_filtered,key=lambda x: -x[1])[:20]"
   ]
  },
  {
   "cell_type": "code",
   "execution_count": 19,
   "metadata": {},
   "outputs": [
    {
     "name": "stdout",
     "output_type": "stream",
     "text": [
      "top 10 conservative bigrams\n"
     ]
    },
    {
     "data": {
      "text/plain": [
       "[('death tax', 175),\n",
       " ('the death', 170),\n",
       " ('our economy', 158),\n",
       " ('strong support', 128),\n",
       " ('cord blood', 110),\n",
       " ('rule and', 100),\n",
       " ('will help', 94),\n",
       " ('head start', 93),\n",
       " ('chairman reserve', 92),\n",
       " ('natural gas', 90),\n",
       " ('war on', 89),\n",
       " ('driver licenses', 88),\n",
       " ('work on', 87),\n",
       " ('important that', 86),\n",
       " ('economic growth', 82),\n",
       " ('driver license', 82),\n",
       " ('protection act', 81),\n",
       " ('the class', 81),\n",
       " ('human life', 78),\n",
       " ('chairman for', 77)]"
      ]
     },
     "execution_count": 19,
     "metadata": {},
     "output_type": "execute_result"
    }
   ],
   "source": [
    "print('top 10 conservative bigrams')\n",
    "sorted(conBigrams_filtered,key=lambda x: -x[1])[:20]"
   ]
  },
  {
   "cell_type": "markdown",
   "metadata": {},
   "source": [
    "Looks much more reasonable"
   ]
  },
  {
   "cell_type": "code",
   "execution_count": 20,
   "metadata": {},
   "outputs": [],
   "source": [
    "# keep just the bigrams and drop the count data\n",
    "libGrams = [k for k,v in libBigrams_filtered]\n",
    "conGrams = [k for k,v in conBigrams_filtered]\n",
    "savepath = r'../data'\n",
    "with open(os.path.join(savepath, 'libGrams.pickle'), 'wb') as f:\n",
    "    pickle.dump(libGrams, f, pickle.HIGHEST_PROTOCOL)\n",
    "with open(os.path.join(savepath, 'conGrams.pickle'), 'wb') as f:\n",
    "    pickle.dump(conGrams, f, pickle.HIGHEST_PROTOCOL)"
   ]
  },
  {
   "cell_type": "code",
   "execution_count": 21,
   "metadata": {},
   "outputs": [
    {
     "name": "stdout",
     "output_type": "stream",
     "text": [
      "['the republican', 'social security', 'tax cuts', 'the republicans', 'estate tax']\n",
      "['death tax', 'the death', 'our economy', 'strong support', 'cord blood']\n"
     ]
    }
   ],
   "source": [
    "with open(os.path.join(savepath, 'libGrams.pickle'), 'rb') as f:\n",
    "    test = pickle.load(f)\n",
    "    print(test[:5])\n",
    "with open(os.path.join(savepath, 'conGrams.pickle'), 'rb') as f:\n",
    "    test = pickle.load(f)\n",
    "    print(test[:5])"
   ]
  },
  {
   "cell_type": "markdown",
   "metadata": {},
   "source": [
    "# Determine most politically charged lexicons"
   ]
  },
  {
   "cell_type": "code",
   "execution_count": 22,
   "metadata": {},
   "outputs": [],
   "source": [
    "# define a helper function to pull the bigrams\n",
    "def getLexicons(text):\n",
    "    '''return all bigrams in a Counter'''\n",
    "    # intialize counter\n",
    "    lexicons = Counter()\n",
    "    \n",
    "    # tokenize text\n",
    "    words = word_tokenize(text)\n",
    "    \n",
    "    # filter punctuation and single letter words\n",
    "    words = [w.lower() for w in words if w.isalpha() and len(w) > 1]\n",
    "    \n",
    "    # add lexicons to Counter\n",
    "    for w in words:\n",
    "        lexicons[w] += 1\n",
    "        \n",
    "    return lexicons"
   ]
  },
  {
   "cell_type": "code",
   "execution_count": 23,
   "metadata": {},
   "outputs": [
    {
     "data": {
      "text/plain": [
       "Counter({'madam': 1,\n",
       "         'speaker': 1,\n",
       "         'yield': 1,\n",
       "         'myself': 1,\n",
       "         'such': 1,\n",
       "         'time': 1,\n",
       "         'as': 1,\n",
       "         'may': 1,\n",
       "         'consume': 1})"
      ]
     },
     "execution_count": 23,
     "metadata": {},
     "output_type": "execute_result"
    }
   ],
   "source": [
    "getLexicons(df.text[0])"
   ]
  },
  {
   "cell_type": "code",
   "execution_count": 24,
   "metadata": {},
   "outputs": [],
   "source": [
    "libLexicons = Counter()\n",
    "for text in lib.text:\n",
    "    libLexicons.update(getLexicons(text))"
   ]
  },
  {
   "cell_type": "code",
   "execution_count": 25,
   "metadata": {},
   "outputs": [
    {
     "data": {
      "text/plain": [
       "[('the', 35641),\n",
       " ('to', 19094),\n",
       " ('of', 16658),\n",
       " ('and', 15338),\n",
       " ('that', 11591),\n",
       " ('in', 10829),\n",
       " ('is', 8746),\n",
       " ('this', 7928),\n",
       " ('for', 6904),\n",
       " ('we', 6716)]"
      ]
     },
     "execution_count": 25,
     "metadata": {},
     "output_type": "execute_result"
    }
   ],
   "source": [
    "libLexicons.most_common()[:10]"
   ]
  },
  {
   "cell_type": "code",
   "execution_count": 26,
   "metadata": {},
   "outputs": [],
   "source": [
    "conLexicons = Counter()\n",
    "for text in con.text:\n",
    "    conLexicons.update(getLexicons(text))"
   ]
  },
  {
   "cell_type": "code",
   "execution_count": 27,
   "metadata": {},
   "outputs": [
    {
     "data": {
      "text/plain": [
       "[('the', 32341),\n",
       " ('to', 17535),\n",
       " ('of', 16200),\n",
       " ('and', 15279),\n",
       " ('that', 11445),\n",
       " ('in', 9823),\n",
       " ('is', 8510),\n",
       " ('we', 7102),\n",
       " ('this', 6905),\n",
       " ('for', 6033)]"
      ]
     },
     "execution_count": 27,
     "metadata": {},
     "output_type": "execute_result"
    }
   ],
   "source": [
    "conLexicons.most_common()[:10]"
   ]
  },
  {
   "cell_type": "markdown",
   "metadata": {},
   "source": [
    "most of these bigrams are neutral. Grab the 1000 most common from each ideology, then filter out any that appear in the other ideology"
   ]
  },
  {
   "cell_type": "code",
   "execution_count": 28,
   "metadata": {},
   "outputs": [],
   "source": [
    "# get the 1000 most common liberal and conservative lexicons\n",
    "commonCon = [L[0] for L in conLexicons.most_common()[:1000]]\n",
    "commonLib = [L[0] for L in libLexicons.most_common()[:1000]]"
   ]
  },
  {
   "cell_type": "code",
   "execution_count": 29,
   "metadata": {},
   "outputs": [],
   "source": [
    "# keep only the bigrams for each ideology that appear in the top 1000 of that ideology and not in the top 1000 of the other\n",
    "libLexicons_filtered = [(w,libLexicons[w]) for w in commonLib if w not in commonCon]\n",
    "# conservative bigrams also had weird 'amp nbsp' HTML tags so remove those\n",
    "conLexicons_filtered = [(w,conLexicons[w]) for w in commonCon if w not in commonLib and 'nbsp' not in w and 'amp' not in w]"
   ]
  },
  {
   "cell_type": "code",
   "execution_count": 30,
   "metadata": {},
   "outputs": [
    {
     "data": {
      "text/plain": [
       "(151, 149)"
      ]
     },
     "execution_count": 30,
     "metadata": {},
     "output_type": "execute_result"
    }
   ],
   "source": [
    "len(libLexicons_filtered),len(conLexicons_filtered)"
   ]
  },
  {
   "cell_type": "code",
   "execution_count": 31,
   "metadata": {},
   "outputs": [
    {
     "name": "stdout",
     "output_type": "stream",
     "text": [
      "top 20 liberal lexicons:\n"
     ]
    },
    {
     "data": {
      "text/plain": [
       "[('cuts', 600),\n",
       " ('debt', 269),\n",
       " ('estate', 207),\n",
       " ('coverage', 186),\n",
       " ('housing', 161),\n",
       " ('protections', 160),\n",
       " ('behind', 154),\n",
       " ('leader', 143),\n",
       " ('poor', 143),\n",
       " ('cbc', 143),\n",
       " ('trillion', 142),\n",
       " ('party', 140),\n",
       " ('minimum', 134),\n",
       " ('medicaid', 131),\n",
       " ('interests', 127),\n",
       " ('cutting', 126),\n",
       " ('independent', 126),\n",
       " ('gun', 125),\n",
       " ('college', 123),\n",
       " ('proposal', 122)]"
      ]
     },
     "execution_count": 31,
     "metadata": {},
     "output_type": "execute_result"
    }
   ],
   "source": [
    "print('top 20 liberal lexicons:')\n",
    "sorted(libLexicons_filtered,key=lambda x: -x[1])[:20]"
   ]
  },
  {
   "cell_type": "code",
   "execution_count": 32,
   "metadata": {},
   "outputs": [
    {
     "name": "stdout",
     "output_type": "stream",
     "text": [
      "top 20 conservative lexicons\n"
     ]
    },
    {
     "data": {
      "text/plain": [
       "[('embryo', 231),\n",
       " ('growth', 230),\n",
       " ('gang', 184),\n",
       " ('terri', 162),\n",
       " ('freedom', 141),\n",
       " ('lawyers', 122),\n",
       " ('growing', 117),\n",
       " ('licenses', 117),\n",
       " ('criminal', 116),\n",
       " ('commend', 114),\n",
       " ('identification', 114),\n",
       " ('license', 109),\n",
       " ('shall', 108),\n",
       " ('early', 106),\n",
       " ('patients', 105),\n",
       " ('bringing', 99),\n",
       " ('commerce', 98),\n",
       " ('probably', 96),\n",
       " ('gangs', 94),\n",
       " ('bit', 92)]"
      ]
     },
     "execution_count": 32,
     "metadata": {},
     "output_type": "execute_result"
    }
   ],
   "source": [
    "print('top 20 conservative lexicons')\n",
    "sorted(conLexicons_filtered,key=lambda x: -x[1])[:20]"
   ]
  },
  {
   "cell_type": "code",
   "execution_count": 33,
   "metadata": {},
   "outputs": [],
   "source": [
    "# keep just the bigrams and drop the count data\n",
    "libCons = [k for k,v in libLexicons_filtered]\n",
    "conCons = [k for k,v in conLexicons_filtered]\n",
    "savepath = r'../data'\n",
    "with open(os.path.join(savepath, 'libCons.pickle'), 'wb') as f:\n",
    "    pickle.dump(libCons, f, pickle.HIGHEST_PROTOCOL)\n",
    "with open(os.path.join(savepath, 'conCons.pickle'), 'wb') as f:\n",
    "    pickle.dump(conCons, f, pickle.HIGHEST_PROTOCOL)"
   ]
  },
  {
   "cell_type": "code",
   "execution_count": 34,
   "metadata": {},
   "outputs": [
    {
     "name": "stdout",
     "output_type": "stream",
     "text": [
      "['the republican', 'social security', 'tax cuts', 'the republicans', 'estate tax']\n",
      "['death tax', 'the death', 'our economy', 'strong support', 'cord blood']\n"
     ]
    }
   ],
   "source": [
    "with open(os.path.join(savepath, 'libGrams.pickle'), 'rb') as f:\n",
    "    test = pickle.load(f)\n",
    "    print(test[:5])\n",
    "with open(os.path.join(savepath, 'conGrams.pickle'), 'rb') as f:\n",
    "    test = pickle.load(f)\n",
    "    print(test[:5])"
   ]
  },
  {
   "cell_type": "markdown",
   "metadata": {},
   "source": [
    "# Filter Data\n",
    "filter the original dataset for only those sentences that contain politically charged bigrams and lexicons"
   ]
  },
  {
   "cell_type": "code",
   "execution_count": 35,
   "metadata": {},
   "outputs": [],
   "source": [
    "def keepSentence(label, text):\n",
    "    # get bigrams and lexicons\n",
    "    bigrams = getBigrams(text).keys()\n",
    "    lexicons = getLexicons(text).keys()\n",
    "    \n",
    "    # get the bigrams and lexicons that appear in the ideology lists\n",
    "    libBigramSet = set(bigrams).intersection(libGrams)\n",
    "    libLexiconSet = set(lexicons).intersection(libCons)\n",
    "    conBigramSet = set(bigrams).intersection(conGrams)\n",
    "    conLexiconSet = set(lexicons).intersection(conCons)\n",
    "    \n",
    "    # determine whether to keep the sentence\n",
    "    if label == 'liberal':\n",
    "        if libBigramSet or libLexiconSet:\n",
    "            return True\n",
    "        else:\n",
    "            return False\n",
    "    elif label == 'conservative':\n",
    "        if conBigramSet or conLexiconSet:\n",
    "            return True\n",
    "        else:\n",
    "            return False\n",
    "    elif label == 'neutral':\n",
    "        if libBigramSet or libLexiconSet or conBigramSet or conLexiconSet:\n",
    "            return False\n",
    "        else:\n",
    "            return True"
   ]
  },
  {
   "cell_type": "code",
   "execution_count": 36,
   "metadata": {},
   "outputs": [],
   "source": [
    "def filterText(df):\n",
    "    filteredText = []\n",
    "    for i in range(df.shape[0]):\n",
    "        label,text = df.label[i], df.text[i]\n",
    "        if keepSentence(label,text):\n",
    "            filteredText.append((label, text))\n",
    "            \n",
    "    return pd.DataFrame(filteredText, columns=['label','text'])"
   ]
  },
  {
   "cell_type": "code",
   "execution_count": 37,
   "metadata": {},
   "outputs": [
    {
     "data": {
      "text/html": [
       "<div>\n",
       "<style scoped>\n",
       "    .dataframe tbody tr th:only-of-type {\n",
       "        vertical-align: middle;\n",
       "    }\n",
       "\n",
       "    .dataframe tbody tr th {\n",
       "        vertical-align: top;\n",
       "    }\n",
       "\n",
       "    .dataframe thead th {\n",
       "        text-align: right;\n",
       "    }\n",
       "</style>\n",
       "<table border=\"1\" class=\"dataframe\">\n",
       "  <thead>\n",
       "    <tr style=\"text-align: right;\">\n",
       "      <th></th>\n",
       "      <th>label</th>\n",
       "      <th>text</th>\n",
       "    </tr>\n",
       "  </thead>\n",
       "  <tbody>\n",
       "    <tr>\n",
       "      <th>1927</th>\n",
       "      <td>conservative</td>\n",
       "      <td>to date , the program has facilitated almost 2...</td>\n",
       "    </tr>\n",
       "    <tr>\n",
       "      <th>13856</th>\n",
       "      <td>conservative</td>\n",
       "      <td>for me and the millions of other small busines...</td>\n",
       "    </tr>\n",
       "    <tr>\n",
       "      <th>15902</th>\n",
       "      <td>liberal</td>\n",
       "      <td>congress is obligated to use appropriations an...</td>\n",
       "    </tr>\n",
       "    <tr>\n",
       "      <th>17415</th>\n",
       "      <td>liberal</td>\n",
       "      <td>then when not all of the money was spent in ne...</td>\n",
       "    </tr>\n",
       "    <tr>\n",
       "      <th>21480</th>\n",
       "      <td>conservative</td>\n",
       "      <td>i looked forward to having some `` daddy time ...</td>\n",
       "    </tr>\n",
       "  </tbody>\n",
       "</table>\n",
       "</div>"
      ],
      "text/plain": [
       "              label                                               text\n",
       "1927   conservative  to date , the program has facilitated almost 2...\n",
       "13856  conservative  for me and the millions of other small busines...\n",
       "15902       liberal  congress is obligated to use appropriations an...\n",
       "17415       liberal  then when not all of the money was spent in ne...\n",
       "21480  conservative  i looked forward to having some `` daddy time ..."
      ]
     },
     "execution_count": 37,
     "metadata": {},
     "output_type": "execute_result"
    }
   ],
   "source": [
    "df_filtered = filterText(df)\n",
    "df_filtered.sample(5)"
   ]
  },
  {
   "cell_type": "code",
   "execution_count": 38,
   "metadata": {},
   "outputs": [
    {
     "data": {
      "text/plain": [
       "((54830, 2), (27562, 2))"
      ]
     },
     "execution_count": 38,
     "metadata": {},
     "output_type": "execute_result"
    }
   ],
   "source": [
    "df.shape, df_filtered.shape"
   ]
  },
  {
   "cell_type": "code",
   "execution_count": 39,
   "metadata": {},
   "outputs": [
    {
     "data": {
      "text/html": [
       "<div>\n",
       "<style scoped>\n",
       "    .dataframe tbody tr th:only-of-type {\n",
       "        vertical-align: middle;\n",
       "    }\n",
       "\n",
       "    .dataframe tbody tr th {\n",
       "        vertical-align: top;\n",
       "    }\n",
       "\n",
       "    .dataframe thead th {\n",
       "        text-align: right;\n",
       "    }\n",
       "</style>\n",
       "<table border=\"1\" class=\"dataframe\">\n",
       "  <thead>\n",
       "    <tr style=\"text-align: right;\">\n",
       "      <th></th>\n",
       "      <th>text</th>\n",
       "    </tr>\n",
       "    <tr>\n",
       "      <th>label</th>\n",
       "      <th></th>\n",
       "    </tr>\n",
       "  </thead>\n",
       "  <tbody>\n",
       "    <tr>\n",
       "      <th>conservative</th>\n",
       "      <td>12976</td>\n",
       "    </tr>\n",
       "    <tr>\n",
       "      <th>liberal</th>\n",
       "      <td>14499</td>\n",
       "    </tr>\n",
       "    <tr>\n",
       "      <th>neutral</th>\n",
       "      <td>87</td>\n",
       "    </tr>\n",
       "  </tbody>\n",
       "</table>\n",
       "</div>"
      ],
      "text/plain": [
       "               text\n",
       "label              \n",
       "conservative  12976\n",
       "liberal       14499\n",
       "neutral          87"
      ]
     },
     "execution_count": 39,
     "metadata": {},
     "output_type": "execute_result"
    }
   ],
   "source": [
    "df_filtered.groupby('label').count()"
   ]
  },
  {
   "cell_type": "code",
   "execution_count": 40,
   "metadata": {},
   "outputs": [],
   "source": [
    "savepath = r'../data'\n",
    "with open(os.path.join(savepath, 'filteredConvote.pickle'), 'wb') as f:\n",
    "    pickle.dump(df_filtered, f, pickle.HIGHEST_PROTOCOL)"
   ]
  },
  {
   "cell_type": "code",
   "execution_count": 43,
   "metadata": {},
   "outputs": [
    {
     "data": {
      "text/html": [
       "<div>\n",
       "<style scoped>\n",
       "    .dataframe tbody tr th:only-of-type {\n",
       "        vertical-align: middle;\n",
       "    }\n",
       "\n",
       "    .dataframe tbody tr th {\n",
       "        vertical-align: top;\n",
       "    }\n",
       "\n",
       "    .dataframe thead th {\n",
       "        text-align: right;\n",
       "    }\n",
       "</style>\n",
       "<table border=\"1\" class=\"dataframe\">\n",
       "  <thead>\n",
       "    <tr style=\"text-align: right;\">\n",
       "      <th></th>\n",
       "      <th>label</th>\n",
       "      <th>text</th>\n",
       "    </tr>\n",
       "  </thead>\n",
       "  <tbody>\n",
       "    <tr>\n",
       "      <th>20170</th>\n",
       "      <td>liberal</td>\n",
       "      <td>but again , it comes down to where the victims...</td>\n",
       "    </tr>\n",
       "    <tr>\n",
       "      <th>14688</th>\n",
       "      <td>liberal</td>\n",
       "      <td>a preliminary chemical safety board investigat...</td>\n",
       "    </tr>\n",
       "    <tr>\n",
       "      <th>11620</th>\n",
       "      <td>conservative</td>\n",
       "      <td>what it merely says is that in an instance whe...</td>\n",
       "    </tr>\n",
       "    <tr>\n",
       "      <th>19053</th>\n",
       "      <td>liberal</td>\n",
       "      <td>this congress is about to overturn the separat...</td>\n",
       "    </tr>\n",
       "    <tr>\n",
       "      <th>19731</th>\n",
       "      <td>liberal</td>\n",
       "      <td>people are thinking what to give their children .</td>\n",
       "    </tr>\n",
       "  </tbody>\n",
       "</table>\n",
       "</div>"
      ],
      "text/plain": [
       "              label                                               text\n",
       "20170       liberal  but again , it comes down to where the victims...\n",
       "14688       liberal  a preliminary chemical safety board investigat...\n",
       "11620  conservative  what it merely says is that in an instance whe...\n",
       "19053       liberal  this congress is about to overturn the separat...\n",
       "19731       liberal  people are thinking what to give their children ."
      ]
     },
     "execution_count": 43,
     "metadata": {},
     "output_type": "execute_result"
    }
   ],
   "source": [
    "with open(os.path.join(savepath, 'filteredConvote.pickle'), 'rb') as f:\n",
    "    test = pickle.load(f)\n",
    "test.sample(5)"
   ]
  }
 ],
 "metadata": {
  "kernelspec": {
   "display_name": "Python 3",
   "language": "python",
   "name": "python3"
  },
  "language_info": {
   "codemirror_mode": {
    "name": "ipython",
    "version": 3
   },
   "file_extension": ".py",
   "mimetype": "text/x-python",
   "name": "python",
   "nbconvert_exporter": "python",
   "pygments_lexer": "ipython3",
   "version": "3.7.3"
  }
 },
 "nbformat": 4,
 "nbformat_minor": 2
}
