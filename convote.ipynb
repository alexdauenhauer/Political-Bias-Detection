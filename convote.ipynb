{
 "cells": [
  {
   "cell_type": "code",
   "execution_count": 1,
   "metadata": {},
   "outputs": [
    {
     "name": "stderr",
     "output_type": "stream",
     "text": [
      "[nltk_data] Downloading package punkt to /home/alex/nltk_data...\n",
      "[nltk_data]   Package punkt is already up-to-date!\n"
     ]
    },
    {
     "data": {
      "text/plain": [
       "True"
      ]
     },
     "execution_count": 1,
     "metadata": {},
     "output_type": "execute_result"
    }
   ],
   "source": [
    "import pandas as pd\n",
    "# import matplotlib.pyplot as plt\n",
    "import nltk\n",
    "import time, os, re, pickle\n",
    "from nltk.tokenize import word_tokenize, sent_tokenize\n",
    "# from itertools import combinations, permutations\n",
    "from collections import Counter\n",
    "# plt.style.use('ggplot')\n",
    "nltk.download('punkt')"
   ]
  },
  {
   "cell_type": "code",
   "execution_count": 2,
   "metadata": {},
   "outputs": [],
   "source": [
    "datapath = r'/home/alex/Documents/MIDS/w266/final_project/data/convote_v1.1/data_stage_three'"
   ]
  },
  {
   "cell_type": "code",
   "execution_count": 3,
   "metadata": {},
   "outputs": [
    {
     "data": {
      "text/plain": [
       "['test_set', 'development_set', 'training_set']"
      ]
     },
     "execution_count": 3,
     "metadata": {},
     "output_type": "execute_result"
    }
   ],
   "source": [
    "os.listdir(datapath)"
   ]
  },
  {
   "cell_type": "markdown",
   "metadata": {},
   "source": [
    "# Load data\n",
    "combine the three datasets into one since we are adding it to other datasets later and will do a train test split on the full data at that point"
   ]
  },
  {
   "cell_type": "code",
   "execution_count": 4,
   "metadata": {},
   "outputs": [
    {
     "name": "stdout",
     "output_type": "stream",
     "text": [
      "test_set : 860\n",
      "development_set : 257\n",
      "training_set : 2740\n",
      "Total files : 3857\n"
     ]
    }
   ],
   "source": [
    "# check how many files we are working with and load them into a list\n",
    "files = []\n",
    "party2label = {'D':'liberal','R':'conservative','I':'neutral'}\n",
    "\n",
    "# iterate through directory\n",
    "for i, (dirName, subDirList, fileList) in enumerate(os.walk(datapath)):\n",
    "    if i > 0:\n",
    "        # print the number of files in each dataset\n",
    "        print(os.listdir(datapath)[i-1], ':', len(fileList))\n",
    "    for i,f in enumerate(fileList):\n",
    "        # convert from party label to ideological label\n",
    "        label = party2label[f.split('_')[-1][0]]\n",
    "        \n",
    "        # store the filepath with the label attached\n",
    "        filepath = os.path.join(dirName,f)\n",
    "        files.append((label, filepath))\n",
    "print('Total files :', len(files))"
   ]
  },
  {
   "cell_type": "code",
   "execution_count": 5,
   "metadata": {},
   "outputs": [
    {
     "data": {
      "text/plain": [
       "('conservative',\n",
       " '/home/alex/Documents/MIDS/w266/final_project/data/convote_v1.1/data_stage_three/test_set/414_400343_2897011_RON.txt')"
      ]
     },
     "execution_count": 5,
     "metadata": {},
     "output_type": "execute_result"
    }
   ],
   "source": [
    "files[0]"
   ]
  },
  {
   "cell_type": "code",
   "execution_count": 6,
   "metadata": {},
   "outputs": [
    {
     "name": "stdout",
     "output_type": "stream",
     "text": [
      "Total sentences:  54830\n"
     ]
    }
   ],
   "source": [
    "# parse sentences and load into a DataFrame\n",
    "sentences = []\n",
    "for label, filename in files:\n",
    "    with open(filename, 'r') as f:\n",
    "        # split the sentences\n",
    "        sents = sent_tokenize(f.read())\n",
    "        \n",
    "        # collect (label, sentence) tuples\n",
    "        for sent in sents:\n",
    "            sentences.append((label, sent))\n",
    "\n",
    "df = pd.DataFrame(sentences, columns=['label', 'text'])\n",
    "print('Total sentences: ', df.shape[0])"
   ]
  },
  {
   "cell_type": "code",
   "execution_count": 7,
   "metadata": {},
   "outputs": [
    {
     "data": {
      "text/html": [
       "<div>\n",
       "<style scoped>\n",
       "    .dataframe tbody tr th:only-of-type {\n",
       "        vertical-align: middle;\n",
       "    }\n",
       "\n",
       "    .dataframe tbody tr th {\n",
       "        vertical-align: top;\n",
       "    }\n",
       "\n",
       "    .dataframe thead th {\n",
       "        text-align: right;\n",
       "    }\n",
       "</style>\n",
       "<table border=\"1\" class=\"dataframe\">\n",
       "  <thead>\n",
       "    <tr style=\"text-align: right;\">\n",
       "      <th></th>\n",
       "      <th>label</th>\n",
       "      <th>text</th>\n",
       "    </tr>\n",
       "  </thead>\n",
       "  <tbody>\n",
       "    <tr>\n",
       "      <th>53615</th>\n",
       "      <td>conservative</td>\n",
       "      <td>mr. chairman , reserving the right to object ,...</td>\n",
       "    </tr>\n",
       "    <tr>\n",
       "      <th>17417</th>\n",
       "      <td>liberal</td>\n",
       "      <td>it does not really speak to trying to make sur...</td>\n",
       "    </tr>\n",
       "    <tr>\n",
       "      <th>19638</th>\n",
       "      <td>liberal</td>\n",
       "      <td>now , you should know where i am coming from ,...</td>\n",
       "    </tr>\n",
       "    <tr>\n",
       "      <th>35567</th>\n",
       "      <td>liberal</td>\n",
       "      <td>because the needs of victims are so crucial , ...</td>\n",
       "    </tr>\n",
       "    <tr>\n",
       "      <th>39609</th>\n",
       "      <td>liberal</td>\n",
       "      <td>if released into the water table , a small por...</td>\n",
       "    </tr>\n",
       "  </tbody>\n",
       "</table>\n",
       "</div>"
      ],
      "text/plain": [
       "              label                                               text\n",
       "53615  conservative  mr. chairman , reserving the right to object ,...\n",
       "17417       liberal  it does not really speak to trying to make sur...\n",
       "19638       liberal  now , you should know where i am coming from ,...\n",
       "35567       liberal  because the needs of victims are so crucial , ...\n",
       "39609       liberal  if released into the water table , a small por..."
      ]
     },
     "execution_count": 7,
     "metadata": {},
     "output_type": "execute_result"
    }
   ],
   "source": [
    "df.sample(5)"
   ]
  },
  {
   "cell_type": "code",
   "execution_count": 8,
   "metadata": {},
   "outputs": [
    {
     "data": {
      "text/html": [
       "<div>\n",
       "<style scoped>\n",
       "    .dataframe tbody tr th:only-of-type {\n",
       "        vertical-align: middle;\n",
       "    }\n",
       "\n",
       "    .dataframe tbody tr th {\n",
       "        vertical-align: top;\n",
       "    }\n",
       "\n",
       "    .dataframe thead th {\n",
       "        text-align: right;\n",
       "    }\n",
       "</style>\n",
       "<table border=\"1\" class=\"dataframe\">\n",
       "  <thead>\n",
       "    <tr style=\"text-align: right;\">\n",
       "      <th></th>\n",
       "      <th>text</th>\n",
       "    </tr>\n",
       "    <tr>\n",
       "      <th>label</th>\n",
       "      <th></th>\n",
       "    </tr>\n",
       "  </thead>\n",
       "  <tbody>\n",
       "    <tr>\n",
       "      <th>conservative</th>\n",
       "      <td>26155</td>\n",
       "    </tr>\n",
       "    <tr>\n",
       "      <th>liberal</th>\n",
       "      <td>28439</td>\n",
       "    </tr>\n",
       "    <tr>\n",
       "      <th>neutral</th>\n",
       "      <td>236</td>\n",
       "    </tr>\n",
       "  </tbody>\n",
       "</table>\n",
       "</div>"
      ],
      "text/plain": [
       "               text\n",
       "label              \n",
       "conservative  26155\n",
       "liberal       28439\n",
       "neutral         236"
      ]
     },
     "execution_count": 8,
     "metadata": {},
     "output_type": "execute_result"
    }
   ],
   "source": [
    "df.groupby('label').count()"
   ]
  },
  {
   "cell_type": "markdown",
   "metadata": {},
   "source": [
    "# Determine most politically charged bigrams"
   ]
  },
  {
   "cell_type": "code",
   "execution_count": 9,
   "metadata": {},
   "outputs": [],
   "source": [
    "# split data into liberal and conservative\n",
    "lib = df.loc[df.label == 'liberal']\n",
    "con = df.loc[df.label == 'conservative']"
   ]
  },
  {
   "cell_type": "code",
   "execution_count": 10,
   "metadata": {},
   "outputs": [],
   "source": [
    "# define a helper function to pull the bigrams\n",
    "def getBigrams(text):\n",
    "    '''return all bigrams in a Counter'''\n",
    "    # intialize counter\n",
    "    bigrams = Counter()\n",
    "    \n",
    "    # tokenize text\n",
    "    words = word_tokenize(text)\n",
    "    \n",
    "    # filter punctuation and single letter words\n",
    "    words = [w.lower() for w in words if w.isalpha() and len(w) > 1]\n",
    "    \n",
    "    # throw out sentences with less than two words\n",
    "    if len(words) < 2:\n",
    "        return bigrams\n",
    "    \n",
    "    # add bigrams to Counter\n",
    "    for i in range(len(words) - 1):\n",
    "        b = ' '.join((words[i], words[i+1]))\n",
    "        bigrams[b] += 1\n",
    "        \n",
    "    return bigrams"
   ]
  },
  {
   "cell_type": "code",
   "execution_count": 11,
   "metadata": {},
   "outputs": [],
   "source": [
    "libBigrams = Counter()\n",
    "for text in lib.text:\n",
    "    libBigrams.update(getBigrams(text))"
   ]
  },
  {
   "cell_type": "code",
   "execution_count": 12,
   "metadata": {},
   "outputs": [
    {
     "data": {
      "text/plain": [
       "[('of the', 4107),\n",
       " ('in the', 2570),\n",
       " ('to the', 1824),\n",
       " ('it is', 1682),\n",
       " ('this bill', 1544),\n",
       " ('for the', 1260),\n",
       " ('on the', 1259),\n",
       " ('and the', 1240),\n",
       " ('we are', 1149),\n",
       " ('that is', 1136)]"
      ]
     },
     "execution_count": 12,
     "metadata": {},
     "output_type": "execute_result"
    }
   ],
   "source": [
    "libBigrams.most_common()[:10]"
   ]
  },
  {
   "cell_type": "code",
   "execution_count": 13,
   "metadata": {},
   "outputs": [],
   "source": [
    "conBigrams = Counter()\n",
    "for text in con.text:\n",
    "    conBigrams.update(getBigrams(text))"
   ]
  },
  {
   "cell_type": "code",
   "execution_count": 14,
   "metadata": {},
   "outputs": [
    {
     "data": {
      "text/plain": [
       "[('of the', 4135),\n",
       " ('in the', 2510),\n",
       " ('it is', 1759),\n",
       " ('to the', 1649),\n",
       " ('the gentleman', 1331),\n",
       " ('we have', 1276),\n",
       " ('and the', 1262),\n",
       " ('that is', 1176),\n",
       " ('on the', 1167),\n",
       " ('that we', 1119)]"
      ]
     },
     "execution_count": 14,
     "metadata": {},
     "output_type": "execute_result"
    }
   ],
   "source": [
    "conBigrams.most_common()[:10]"
   ]
  },
  {
   "cell_type": "markdown",
   "metadata": {},
   "source": [
    "most of these bigrams are neutral. Grab the 1000 most common from each ideology, then filter out any that appear in the other ideology"
   ]
  },
  {
   "cell_type": "code",
   "execution_count": 15,
   "metadata": {},
   "outputs": [],
   "source": [
    "# get the 1000 most common liberal and conservative bigrams\n",
    "commonCon = [b[0] for b in conBigrams.most_common()[:2000]]\n",
    "commonLib = [b[0] for b in libBigrams.most_common()[:2000]]"
   ]
  },
  {
   "cell_type": "code",
   "execution_count": 16,
   "metadata": {},
   "outputs": [],
   "source": [
    "# keep only the bigrams for each ideology that appear in the top 1000 of that ideology and not in the top 1000 of the other\n",
    "libBigrams_filtered = [(w,libBigrams[w]) for w in commonLib[:1000] if w not in commonCon]\n",
    "# conservative bigrams also had weird 'amp nbsp' HTML tags so remove those\n",
    "conBigrams_filtered = [(w,conBigrams[w]) for w in commonCon[:1000] if w not in commonLib and 'nbsp' not in w]"
   ]
  },
  {
   "cell_type": "code",
   "execution_count": 17,
   "metadata": {},
   "outputs": [
    {
     "data": {
      "text/plain": [
       "(85, 63)"
      ]
     },
     "execution_count": 17,
     "metadata": {},
     "output_type": "execute_result"
    }
   ],
   "source": [
    "len(libBigrams_filtered),len(conBigrams_filtered)"
   ]
  },
  {
   "cell_type": "code",
   "execution_count": 19,
   "metadata": {},
   "outputs": [
    {
     "name": "stdout",
     "output_type": "stream",
     "text": [
      "top 10 liberal bigrams:\n"
     ]
    },
    {
     "data": {
      "text/plain": [
       "[('the republicans', 172),\n",
       " ('nothing to', 138),\n",
       " ('the cbc', 129),\n",
       " ('republican budget', 117),\n",
       " ('the estate', 103),\n",
       " ('civil rights', 102),\n",
       " ('republican leadership', 102),\n",
       " ('fails to', 99),\n",
       " ('the bush', 95),\n",
       " ('this administration', 94),\n",
       " ('professor of', 93),\n",
       " ('bush administration', 91),\n",
       " ('to oppose', 91),\n",
       " ('republican majority', 85),\n",
       " ('by million', 82),\n",
       " ('oppose this', 81),\n",
       " ('middle class', 80),\n",
       " ('strong opposition', 77),\n",
       " ('cuts to', 77),\n",
       " ('cuts for', 77),\n",
       " ('no on', 74),\n",
       " ('left behind', 74),\n",
       " ('to cut', 72),\n",
       " ('working families', 70),\n",
       " ('vote no', 70),\n",
       " ('tax cut', 70),\n",
       " ('cbc budget', 69),\n",
       " ('by billion', 68),\n",
       " ('the oil', 68),\n",
       " ('the social', 67),\n",
       " ('no child', 67),\n",
       " ('the wealthiest', 66),\n",
       " ('does nothing', 65),\n",
       " ('the alternative', 64),\n",
       " ('child left', 63),\n",
       " ('the pentagon', 63),\n",
       " ('oil companies', 62),\n",
       " ('school of', 62),\n",
       " ('war in', 61),\n",
       " ('appropriations bill', 60),\n",
       " ('budget that', 58),\n",
       " ('the wrong', 57),\n",
       " ('million americans', 57),\n",
       " ('alternative minimum', 57),\n",
       " ('next years', 56),\n",
       " ('the top', 56),\n",
       " ('an independent', 56),\n",
       " ('minimum tax', 56),\n",
       " ('and others', 55),\n",
       " ('credit card', 55),\n",
       " ('job training', 55),\n",
       " ('the expense', 54),\n",
       " ('billion over', 54),\n",
       " ('and gas', 54),\n",
       " ('us that', 54),\n",
       " ('you to', 54),\n",
       " ('the poor', 54),\n",
       " ('billions of', 54),\n",
       " ('expense of', 53),\n",
       " ('oppose the', 53),\n",
       " ('white house', 53),\n",
       " ('the courts', 53),\n",
       " ('to reject', 53),\n",
       " ('tax breaks', 53),\n",
       " ('price gouging', 53),\n",
       " ('funds for', 51),\n",
       " ('administration and', 51),\n",
       " ('independent commission', 51),\n",
       " ('lt center', 51),\n",
       " ('center gt', 51),\n",
       " ('congressional black', 51),\n",
       " ('black caucus', 51),\n",
       " ('budget is', 51),\n",
       " ('care and', 50),\n",
       " ('who will', 50),\n",
       " ('provide the', 50),\n",
       " ('this motion', 50),\n",
       " ('and afghanistan', 50),\n",
       " ('would make', 50),\n",
       " ('victims of', 50),\n",
       " ('trade agreements', 50),\n",
       " ('will vote', 49),\n",
       " ('failed to', 49),\n",
       " ('national debt', 48),\n",
       " ('our budget', 48)]"
      ]
     },
     "execution_count": 19,
     "metadata": {},
     "output_type": "execute_result"
    }
   ],
   "source": [
    "print('top 10 liberal bigrams:')\n",
    "sorted(libBigrams_filtered,key=lambda x: -x[1])"
   ]
  },
  {
   "cell_type": "code",
   "execution_count": 20,
   "metadata": {},
   "outputs": [
    {
     "name": "stdout",
     "output_type": "stream",
     "text": [
      "top 10 conservative bigrams\n"
     ]
    },
    {
     "data": {
      "text/plain": [
       "[('death tax', 175),\n",
       " ('economic growth', 82),\n",
       " ('driver license', 82),\n",
       " ('protection act', 81),\n",
       " ('human life', 78),\n",
       " ('chairman for', 77),\n",
       " ('house resolution', 77),\n",
       " ('of human', 77),\n",
       " ('hard work', 75),\n",
       " ('world trade', 74),\n",
       " ('forward to', 73),\n",
       " ('his leadership', 73),\n",
       " ('jurisdiction over', 71),\n",
       " ('ask for', 70),\n",
       " ('and ask', 69),\n",
       " ('class actions', 67),\n",
       " ('the corps', 65),\n",
       " ('the embryo', 64),\n",
       " ('the things', 63),\n",
       " ('human embryos', 63),\n",
       " ('may not', 62),\n",
       " ('on rules', 61),\n",
       " ('resolution and', 61),\n",
       " ('little bit', 61),\n",
       " ('bone marrow', 61),\n",
       " ('an embryo', 59),\n",
       " ('economy and', 58),\n",
       " ('look forward', 58),\n",
       " ('is something', 58),\n",
       " ('the chinese', 58),\n",
       " ('new jobs', 57),\n",
       " ('destruction of', 56),\n",
       " ('trade organization', 56),\n",
       " ('call up', 55),\n",
       " ('frivolous lawsuits', 54),\n",
       " ('ask unanimous', 54),\n",
       " ('its immediate', 54),\n",
       " ('passed the', 54),\n",
       " ('on terror', 53),\n",
       " ('form of', 53),\n",
       " ('and thank', 53),\n",
       " ('very very', 53),\n",
       " ('all members', 52),\n",
       " ('immediate consideration', 52),\n",
       " ('the border', 52),\n",
       " ('association of', 52),\n",
       " ('chairman and', 51),\n",
       " ('back in', 51),\n",
       " ('from georgia', 51),\n",
       " ('the body', 51),\n",
       " ('looking at', 50),\n",
       " ('private property', 49),\n",
       " ('out there', 49),\n",
       " ('the great', 48),\n",
       " ('am very', 48),\n",
       " ('gt amp', 48),\n",
       " ('economy is', 47),\n",
       " ('with regard', 47),\n",
       " ('proud to', 46),\n",
       " ('am proud', 46),\n",
       " ('good bill', 46),\n",
       " ('human rights', 46),\n",
       " ('to determine', 46)]"
      ]
     },
     "execution_count": 20,
     "metadata": {},
     "output_type": "execute_result"
    }
   ],
   "source": [
    "print('top 10 conservative bigrams')\n",
    "sorted(conBigrams_filtered,key=lambda x: -x[1])"
   ]
  },
  {
   "cell_type": "markdown",
   "metadata": {},
   "source": [
    "Looks much more reasonable"
   ]
  },
  {
   "cell_type": "code",
   "execution_count": 21,
   "metadata": {},
   "outputs": [],
   "source": [
    "# keep just the bigrams and drop the count data\n",
    "libGrams = [k for k,v in libBigrams_filtered]\n",
    "conGrams = [k for k,v in conBigrams_filtered]\n",
    "savepath = r'../data'\n",
    "# with open(os.path.join(savepath, 'libGrams.pickle'), 'wb') as f:\n",
    "#     pickle.dump(libGrams, f, pickle.HIGHEST_PROTOCOL)\n",
    "# with open(os.path.join(savepath, 'conGrams.pickle'), 'wb') as f:\n",
    "#     pickle.dump(conGrams, f, pickle.HIGHEST_PROTOCOL)\n",
    "with open(os.path.join(savepath, 'libGrams2.pickle'), 'wb') as f:\n",
    "    pickle.dump(libGrams, f, pickle.HIGHEST_PROTOCOL)\n",
    "with open(os.path.join(savepath, 'conGrams2.pickle'), 'wb') as f:\n",
    "    pickle.dump(conGrams, f, pickle.HIGHEST_PROTOCOL)"
   ]
  },
  {
   "cell_type": "code",
   "execution_count": 22,
   "metadata": {},
   "outputs": [
    {
     "name": "stdout",
     "output_type": "stream",
     "text": [
      "['the republicans', 'nothing to', 'the cbc', 'republican budget', 'the estate']\n",
      "['death tax', 'economic growth', 'driver license', 'protection act', 'human life']\n"
     ]
    }
   ],
   "source": [
    "with open(os.path.join(savepath, 'libGrams2.pickle'), 'rb') as f:\n",
    "    test = pickle.load(f)\n",
    "    print(test[:5])\n",
    "with open(os.path.join(savepath, 'conGrams2.pickle'), 'rb') as f:\n",
    "    test = pickle.load(f)\n",
    "    print(test[:5])"
   ]
  },
  {
   "cell_type": "markdown",
   "metadata": {},
   "source": [
    "# Determine most politically charged lexicons"
   ]
  },
  {
   "cell_type": "code",
   "execution_count": 23,
   "metadata": {},
   "outputs": [],
   "source": [
    "# define a helper function to pull the bigrams\n",
    "def getLexicons(text):\n",
    "    '''return all bigrams in a Counter'''\n",
    "    # intialize counter\n",
    "    lexicons = Counter()\n",
    "    \n",
    "    # tokenize text\n",
    "    words = word_tokenize(text)\n",
    "    \n",
    "    # filter punctuation and single letter words\n",
    "    words = [w.lower() for w in words if w.isalpha() and len(w) > 1]\n",
    "    \n",
    "    # add lexicons to Counter\n",
    "    for w in words:\n",
    "        lexicons[w] += 1\n",
    "        \n",
    "    return lexicons"
   ]
  },
  {
   "cell_type": "code",
   "execution_count": 24,
   "metadata": {},
   "outputs": [
    {
     "data": {
      "text/plain": [
       "Counter({'madam': 1,\n",
       "         'speaker': 1,\n",
       "         'yield': 1,\n",
       "         'myself': 1,\n",
       "         'such': 1,\n",
       "         'time': 1,\n",
       "         'as': 1,\n",
       "         'may': 1,\n",
       "         'consume': 1})"
      ]
     },
     "execution_count": 24,
     "metadata": {},
     "output_type": "execute_result"
    }
   ],
   "source": [
    "getLexicons(df.text[0])"
   ]
  },
  {
   "cell_type": "code",
   "execution_count": 25,
   "metadata": {},
   "outputs": [],
   "source": [
    "libLexicons = Counter()\n",
    "for text in lib.text:\n",
    "    libLexicons.update(getLexicons(text))"
   ]
  },
  {
   "cell_type": "code",
   "execution_count": 26,
   "metadata": {},
   "outputs": [
    {
     "data": {
      "text/plain": [
       "[('the', 35641),\n",
       " ('to', 19094),\n",
       " ('of', 16658),\n",
       " ('and', 15338),\n",
       " ('that', 11591),\n",
       " ('in', 10829),\n",
       " ('is', 8746),\n",
       " ('this', 7928),\n",
       " ('for', 6904),\n",
       " ('we', 6716)]"
      ]
     },
     "execution_count": 26,
     "metadata": {},
     "output_type": "execute_result"
    }
   ],
   "source": [
    "libLexicons.most_common()[:10]"
   ]
  },
  {
   "cell_type": "code",
   "execution_count": 27,
   "metadata": {},
   "outputs": [],
   "source": [
    "conLexicons = Counter()\n",
    "for text in con.text:\n",
    "    conLexicons.update(getLexicons(text))"
   ]
  },
  {
   "cell_type": "code",
   "execution_count": 28,
   "metadata": {},
   "outputs": [
    {
     "data": {
      "text/plain": [
       "[('the', 32341),\n",
       " ('to', 17535),\n",
       " ('of', 16200),\n",
       " ('and', 15279),\n",
       " ('that', 11445),\n",
       " ('in', 9823),\n",
       " ('is', 8510),\n",
       " ('we', 7102),\n",
       " ('this', 6905),\n",
       " ('for', 6033)]"
      ]
     },
     "execution_count": 28,
     "metadata": {},
     "output_type": "execute_result"
    }
   ],
   "source": [
    "conLexicons.most_common()[:10]"
   ]
  },
  {
   "cell_type": "markdown",
   "metadata": {},
   "source": [
    "most of these bigrams are neutral. Grab the 1000 most common from each ideology, then filter out any that appear in the other ideology"
   ]
  },
  {
   "cell_type": "code",
   "execution_count": 29,
   "metadata": {},
   "outputs": [],
   "source": [
    "# get the 1000 most common liberal and conservative lexicons\n",
    "commonCon = [L[0] for L in conLexicons.most_common()[:2000]]\n",
    "commonLib = [L[0] for L in libLexicons.most_common()[:2000]]"
   ]
  },
  {
   "cell_type": "code",
   "execution_count": 30,
   "metadata": {},
   "outputs": [],
   "source": [
    "# keep only the bigrams for each ideology that appear in the top 1000 of that ideology and not in the top 1000 of the other\n",
    "libLexicons_filtered = [(w,libLexicons[w]) for w in commonLib[:1000] if w not in commonCon]\n",
    "# conservative bigrams also had weird 'amp nbsp' HTML tags so remove those\n",
    "conLexicons_filtered = [(w,conLexicons[w]) for w in commonCon[:1000] if w not in commonLib and 'nbsp' not in w and 'amp' not in w]"
   ]
  },
  {
   "cell_type": "code",
   "execution_count": 31,
   "metadata": {},
   "outputs": [
    {
     "data": {
      "text/plain": [
       "(23, 9)"
      ]
     },
     "execution_count": 31,
     "metadata": {},
     "output_type": "execute_result"
    }
   ],
   "source": [
    "len(libLexicons_filtered),len(conLexicons_filtered)"
   ]
  },
  {
   "cell_type": "code",
   "execution_count": 32,
   "metadata": {},
   "outputs": [
    {
     "name": "stdout",
     "output_type": "stream",
     "text": [
      "top 20 liberal lexicons:\n"
     ]
    },
    {
     "data": {
      "text/plain": [
       "[('cbc', 143),\n",
       " ('gun', 125),\n",
       " ('values', 122),\n",
       " ('deficits', 115),\n",
       " ('fails', 110),\n",
       " ('theresa', 103),\n",
       " ('failed', 99),\n",
       " ('worse', 93),\n",
       " ('black', 86),\n",
       " ('reject', 85),\n",
       " ('michael', 80),\n",
       " ('wealthy', 79),\n",
       " ('wealthiest', 78),\n",
       " ('wildlife', 78),\n",
       " ('partisan', 76),\n",
       " ('caucus', 76),\n",
       " ('profits', 73),\n",
       " ('estates', 71),\n",
       " ('irresponsible', 71),\n",
       " ('student', 71)]"
      ]
     },
     "execution_count": 32,
     "metadata": {},
     "output_type": "execute_result"
    }
   ],
   "source": [
    "print('top 20 liberal lexicons:')\n",
    "sorted(libLexicons_filtered,key=lambda x: -x[1])[:20]"
   ]
  },
  {
   "cell_type": "code",
   "execution_count": 33,
   "metadata": {},
   "outputs": [
    {
     "name": "stdout",
     "output_type": "stream",
     "text": [
      "top 20 conservative lexicons\n"
     ]
    },
    {
     "data": {
      "text/plain": [
       "[('embryo', 231),\n",
       " ('shall', 108),\n",
       " ('gangs', 94),\n",
       " ('stage', 77),\n",
       " ('sensenbrenner', 76),\n",
       " ('fence', 76),\n",
       " ('activity', 69),\n",
       " ('sales', 62),\n",
       " ('addresses', 62)]"
      ]
     },
     "execution_count": 33,
     "metadata": {},
     "output_type": "execute_result"
    }
   ],
   "source": [
    "print('top 20 conservative lexicons')\n",
    "sorted(conLexicons_filtered,key=lambda x: -x[1])[:20]"
   ]
  },
  {
   "cell_type": "code",
   "execution_count": 34,
   "metadata": {},
   "outputs": [],
   "source": [
    "# keep just the bigrams and drop the count data\n",
    "libCons = [k for k,v in libLexicons_filtered]\n",
    "conCons = [k for k,v in conLexicons_filtered]\n",
    "savepath = r'../data'\n",
    "# with open(os.path.join(savepath, 'libCons.pickle'), 'wb') as f:\n",
    "#     pickle.dump(libCons, f, pickle.HIGHEST_PROTOCOL)\n",
    "# with open(os.path.join(savepath, 'conCons.pickle'), 'wb') as f:\n",
    "#     pickle.dump(conCons, f, pickle.HIGHEST_PROTOCOL)\n",
    "with open(os.path.join(savepath, 'libCons2.pickle'), 'wb') as f:\n",
    "    pickle.dump(libCons, f, pickle.HIGHEST_PROTOCOL)\n",
    "with open(os.path.join(savepath, 'conCons2.pickle'), 'wb') as f:\n",
    "    pickle.dump(conCons, f, pickle.HIGHEST_PROTOCOL)"
   ]
  },
  {
   "cell_type": "code",
   "execution_count": 35,
   "metadata": {},
   "outputs": [
    {
     "name": "stdout",
     "output_type": "stream",
     "text": [
      "['cbc', 'gun', 'values', 'deficits', 'fails']\n",
      "['embryo', 'shall', 'gangs', 'stage', 'sensenbrenner']\n"
     ]
    }
   ],
   "source": [
    "with open(os.path.join(savepath, 'libCons2.pickle'), 'rb') as f:\n",
    "    test = pickle.load(f)\n",
    "    print(test[:5])\n",
    "with open(os.path.join(savepath, 'conCons2.pickle'), 'rb') as f:\n",
    "    test = pickle.load(f)\n",
    "    print(test[:5])"
   ]
  },
  {
   "cell_type": "markdown",
   "metadata": {},
   "source": [
    "# Filter Data\n",
    "filter the original dataset for only those sentences that contain politically charged bigrams and lexicons"
   ]
  },
  {
   "cell_type": "code",
   "execution_count": 36,
   "metadata": {},
   "outputs": [],
   "source": [
    "def keepSentence(label, text):\n",
    "    # get bigrams and lexicons\n",
    "    bigrams = getBigrams(text).keys()\n",
    "    lexicons = getLexicons(text).keys()\n",
    "    \n",
    "    # get the bigrams and lexicons that appear in the ideology lists\n",
    "    libBigramSet = set(bigrams).intersection(libGrams)\n",
    "    libLexiconSet = set(lexicons).intersection(libCons)\n",
    "    conBigramSet = set(bigrams).intersection(conGrams)\n",
    "    conLexiconSet = set(lexicons).intersection(conCons)\n",
    "    \n",
    "    # determine whether to keep the sentence\n",
    "    if label == 'liberal':\n",
    "        if libBigramSet or libLexiconSet:\n",
    "            return True\n",
    "        else:\n",
    "            return False\n",
    "    elif label == 'conservative':\n",
    "        if conBigramSet or conLexiconSet:\n",
    "            return True\n",
    "        else:\n",
    "            return False\n",
    "    elif label == 'neutral':\n",
    "        if libBigramSet or libLexiconSet or conBigramSet or conLexiconSet:\n",
    "            return False\n",
    "        else:\n",
    "            return True"
   ]
  },
  {
   "cell_type": "code",
   "execution_count": 37,
   "metadata": {},
   "outputs": [],
   "source": [
    "def filterText(df):\n",
    "    filteredText = []\n",
    "    for i in range(df.shape[0]):\n",
    "        label,text = df.label[i], df.text[i]\n",
    "        if keepSentence(label,text):\n",
    "            filteredText.append((label, text))\n",
    "            \n",
    "    return pd.DataFrame(filteredText, columns=['label','text'])"
   ]
  },
  {
   "cell_type": "code",
   "execution_count": 38,
   "metadata": {},
   "outputs": [
    {
     "data": {
      "text/html": [
       "<div>\n",
       "<style scoped>\n",
       "    .dataframe tbody tr th:only-of-type {\n",
       "        vertical-align: middle;\n",
       "    }\n",
       "\n",
       "    .dataframe tbody tr th {\n",
       "        vertical-align: top;\n",
       "    }\n",
       "\n",
       "    .dataframe thead th {\n",
       "        text-align: right;\n",
       "    }\n",
       "</style>\n",
       "<table border=\"1\" class=\"dataframe\">\n",
       "  <thead>\n",
       "    <tr style=\"text-align: right;\">\n",
       "      <th></th>\n",
       "      <th>label</th>\n",
       "      <th>text</th>\n",
       "    </tr>\n",
       "  </thead>\n",
       "  <tbody>\n",
       "    <tr>\n",
       "      <th>54</th>\n",
       "      <td>liberal</td>\n",
       "      <td>the estate tax level attaches at $ 1.5 million...</td>\n",
       "    </tr>\n",
       "    <tr>\n",
       "      <th>2901</th>\n",
       "      <td>liberal</td>\n",
       "      <td>mr. pearse 's investigation concluded that the...</td>\n",
       "    </tr>\n",
       "    <tr>\n",
       "      <th>8401</th>\n",
       "      <td>liberal</td>\n",
       "      <td>but i think the gentleman is correct , it woul...</td>\n",
       "    </tr>\n",
       "    <tr>\n",
       "      <th>171</th>\n",
       "      <td>liberal</td>\n",
       "      <td>the resolution correctly says there is a need ...</td>\n",
       "    </tr>\n",
       "    <tr>\n",
       "      <th>7106</th>\n",
       "      <td>neutral</td>\n",
       "      <td>industry after industry has been decimated in ...</td>\n",
       "    </tr>\n",
       "  </tbody>\n",
       "</table>\n",
       "</div>"
      ],
      "text/plain": [
       "        label                                               text\n",
       "54    liberal  the estate tax level attaches at $ 1.5 million...\n",
       "2901  liberal  mr. pearse 's investigation concluded that the...\n",
       "8401  liberal  but i think the gentleman is correct , it woul...\n",
       "171   liberal  the resolution correctly says there is a need ...\n",
       "7106  neutral  industry after industry has been decimated in ..."
      ]
     },
     "execution_count": 38,
     "metadata": {},
     "output_type": "execute_result"
    }
   ],
   "source": [
    "df_filtered = filterText(df)\n",
    "df_filtered.sample(5)"
   ]
  },
  {
   "cell_type": "code",
   "execution_count": 39,
   "metadata": {},
   "outputs": [
    {
     "data": {
      "text/plain": [
       "((54830, 2), (8459, 2))"
      ]
     },
     "execution_count": 39,
     "metadata": {},
     "output_type": "execute_result"
    }
   ],
   "source": [
    "df.shape, df_filtered.shape"
   ]
  },
  {
   "cell_type": "code",
   "execution_count": 40,
   "metadata": {},
   "outputs": [
    {
     "data": {
      "text/html": [
       "<div>\n",
       "<style scoped>\n",
       "    .dataframe tbody tr th:only-of-type {\n",
       "        vertical-align: middle;\n",
       "    }\n",
       "\n",
       "    .dataframe tbody tr th {\n",
       "        vertical-align: top;\n",
       "    }\n",
       "\n",
       "    .dataframe thead th {\n",
       "        text-align: right;\n",
       "    }\n",
       "</style>\n",
       "<table border=\"1\" class=\"dataframe\">\n",
       "  <thead>\n",
       "    <tr style=\"text-align: right;\">\n",
       "      <th></th>\n",
       "      <th>text</th>\n",
       "    </tr>\n",
       "    <tr>\n",
       "      <th>label</th>\n",
       "      <th></th>\n",
       "    </tr>\n",
       "  </thead>\n",
       "  <tbody>\n",
       "    <tr>\n",
       "      <th>conservative</th>\n",
       "      <td>3399</td>\n",
       "    </tr>\n",
       "    <tr>\n",
       "      <th>liberal</th>\n",
       "      <td>4885</td>\n",
       "    </tr>\n",
       "    <tr>\n",
       "      <th>neutral</th>\n",
       "      <td>175</td>\n",
       "    </tr>\n",
       "  </tbody>\n",
       "</table>\n",
       "</div>"
      ],
      "text/plain": [
       "              text\n",
       "label             \n",
       "conservative  3399\n",
       "liberal       4885\n",
       "neutral        175"
      ]
     },
     "execution_count": 40,
     "metadata": {},
     "output_type": "execute_result"
    }
   ],
   "source": [
    "df_filtered.groupby('label').count()"
   ]
  },
  {
   "cell_type": "code",
   "execution_count": 45,
   "metadata": {},
   "outputs": [
    {
     "name": "stdout",
     "output_type": "stream",
     "text": [
      "0 liberal it is unfortunate that republicans in congress are choosing to strip away essential safeguards for families in order to implement tax cuts benefiting the wealthiest americans .\n",
      "1 conservative in the closing days of the 108th congress , some in the other body objected to commonsense provisions that deal with our national security and our border security , to wit , the notion that when you apply for a driver 's license or another legal document , you should be who you say you are , and you should enjoy legal status in this country .\n",
      "2 liberal before , the invasion , the pentagon planned to reduce our troop levels to 20 , 000-30 , 000 within a few weeks of overthrowing saddam hussein .\n",
      "3 conservative it should start by requesting funding for all of the border enforcement positions that congress authorized last year .\n",
      "4 liberal and i think when we see that five out of eight of the top appointments at fema are political hacks , i think when we look at passing a drug bill that does not have any cost controls for the drugs , does not allow for reimportation , all politics all the time .\n",
      "5 liberal first , by exploding the federal deficit , adding $ 376 billion to the national debt and spending every penny of the $ 185 billion social security trust fund surplus coming in during the year .\n",
      "6 liberal mr. speaker , this is just one more example of abuse of power by a republican leadership that continues to act irresponsibly on issues of importance to our american society .\n",
      "7 liberal it is important , mr. speaker , to realize that there is a need for both parties to come together and for the republican majority to yield on its strategy to destroy labor unions .\n",
      "8 liberal this is a good example of the dreadfully detrimental effect of this rule on civil rights cases .\n",
      "9 conservative mr. speaker , reclaiming my time , i rise today to oppose public funding for the destruction of human embryos .\n"
     ]
    }
   ],
   "source": [
    "sample = df_filtered.sample(10)\n",
    "for i in range(sample.shape[0]):\n",
    "    print(i, sample.label.iloc[i], sample.text.iloc[i])"
   ]
  },
  {
   "cell_type": "code",
   "execution_count": 46,
   "metadata": {},
   "outputs": [],
   "source": [
    "savepath = r'../data'\n",
    "# with open(os.path.join(savepath, 'filteredConvote.pickle'), 'wb') as f:\n",
    "#     pickle.dump(df_filtered, f, pickle.HIGHEST_PROTOCOL)\n",
    "with open(os.path.join(savepath, 'filteredConvote2.pickle'), 'wb') as f:\n",
    "    pickle.dump(df_filtered, f, pickle.HIGHEST_PROTOCOL)"
   ]
  },
  {
   "cell_type": "code",
   "execution_count": 47,
   "metadata": {},
   "outputs": [
    {
     "data": {
      "text/html": [
       "<div>\n",
       "<style scoped>\n",
       "    .dataframe tbody tr th:only-of-type {\n",
       "        vertical-align: middle;\n",
       "    }\n",
       "\n",
       "    .dataframe tbody tr th {\n",
       "        vertical-align: top;\n",
       "    }\n",
       "\n",
       "    .dataframe thead th {\n",
       "        text-align: right;\n",
       "    }\n",
       "</style>\n",
       "<table border=\"1\" class=\"dataframe\">\n",
       "  <thead>\n",
       "    <tr style=\"text-align: right;\">\n",
       "      <th></th>\n",
       "      <th>label</th>\n",
       "      <th>text</th>\n",
       "    </tr>\n",
       "  </thead>\n",
       "  <tbody>\n",
       "    <tr>\n",
       "      <th>7150</th>\n",
       "      <td>conservative</td>\n",
       "      <td>after months of negotiation , i have been told...</td>\n",
       "    </tr>\n",
       "    <tr>\n",
       "      <th>1158</th>\n",
       "      <td>conservative</td>\n",
       "      <td>and in spite of all this , the death tax does ...</td>\n",
       "    </tr>\n",
       "    <tr>\n",
       "      <th>4981</th>\n",
       "      <td>conservative</td>\n",
       "      <td>this provision is intended to respond to conce...</td>\n",
       "    </tr>\n",
       "    <tr>\n",
       "      <th>660</th>\n",
       "      <td>liberal</td>\n",
       "      <td>we must work to meet our existing obligations ...</td>\n",
       "    </tr>\n",
       "    <tr>\n",
       "      <th>1486</th>\n",
       "      <td>conservative</td>\n",
       "      <td>you asked if cells from the inner cell mass co...</td>\n",
       "    </tr>\n",
       "  </tbody>\n",
       "</table>\n",
       "</div>"
      ],
      "text/plain": [
       "             label                                               text\n",
       "7150  conservative  after months of negotiation , i have been told...\n",
       "1158  conservative  and in spite of all this , the death tax does ...\n",
       "4981  conservative  this provision is intended to respond to conce...\n",
       "660        liberal  we must work to meet our existing obligations ...\n",
       "1486  conservative  you asked if cells from the inner cell mass co..."
      ]
     },
     "execution_count": 47,
     "metadata": {},
     "output_type": "execute_result"
    }
   ],
   "source": [
    "with open(os.path.join(savepath, 'filteredConvote2.pickle'), 'rb') as f:\n",
    "    test = pickle.load(f)\n",
    "test.sample(5)"
   ]
  },
  {
   "cell_type": "code",
   "execution_count": 48,
   "metadata": {},
   "outputs": [
    {
     "name": "stdout",
     "output_type": "stream",
     "text": [
      "conservative so i am in strong support of this resolution , and i hope all members of the house of representatives will support it .\n",
      "conservative the construction of that fence is critical to our national security and has been delayed for far too long and i think it is imperative that it be constructed as soon as possible .\n",
      "liberal it was not on these provisions as you know because a change was made , not in a partisan sense , according to the gentleman from maryland ( mr. cardin )  .\n",
      "conservative and who can forget on september 11 , 2001 , when firefighters in new york pulled our flag out of the rubble of the world trade center and hoisted it in defiance of terror ?\n",
      "conservative its provisions should be read broadly , with a strong preference that interstate class actions should be heard in a federal court if removed by any defendant .\n",
      "conservative `` all of the research you have there stops short of the creation of an embryo for experimental purposes , and short of destruction of an embryo for experimental purposes , '' he said .\n",
      "liberal all americans now understand that the reasons that the bush administration gave to go to war in iraq were not true .\n",
      "conservative this latest jobs report is yet another indicator that our economy is thriving .\n",
      "conservative in other words , if we are talking about a situation that results in multiple class actions , those are not the types of cases that this exception is intended to address .\n",
      "conservative that was a 6-year driver 's license .\n"
     ]
    }
   ],
   "source": [
    "for i,s in test.sample(10).values:\n",
    "    print(i,s)"
   ]
  }
 ],
 "metadata": {
  "kernelspec": {
   "display_name": "Python 3",
   "language": "python",
   "name": "python3"
  },
  "language_info": {
   "codemirror_mode": {
    "name": "ipython",
    "version": 3
   },
   "file_extension": ".py",
   "mimetype": "text/x-python",
   "name": "python",
   "nbconvert_exporter": "python",
   "pygments_lexer": "ipython3",
   "version": "3.7.3"
  }
 },
 "nbformat": 4,
 "nbformat_minor": 2
}
