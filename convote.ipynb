{
 "cells": [
  {
   "cell_type": "code",
   "execution_count": 1,
   "metadata": {},
   "outputs": [
    {
     "name": "stderr",
     "output_type": "stream",
     "text": [
      "[nltk_data] Downloading package punkt to /home/alex/nltk_data...\n",
      "[nltk_data]   Package punkt is already up-to-date!\n",
      "[nltk_data] Downloading package stopwords to /home/alex/nltk_data...\n",
      "[nltk_data]   Package stopwords is already up-to-date!\n",
      "[nltk_data] Downloading package names to /home/alex/nltk_data...\n",
      "[nltk_data]   Package names is already up-to-date!\n",
      "[nltk_data] Downloading package opinion_lexicon to\n",
      "[nltk_data]     /home/alex/nltk_data...\n",
      "[nltk_data]   Package opinion_lexicon is already up-to-date!\n"
     ]
    },
    {
     "data": {
      "text/plain": [
       "True"
      ]
     },
     "execution_count": 1,
     "metadata": {},
     "output_type": "execute_result"
    }
   ],
   "source": [
    "import pandas as pd\n",
    "# import matplotlib.pyplot as plt\n",
    "import nltk\n",
    "import time, os, pickle\n",
    "from nltk.tokenize import word_tokenize, sent_tokenize\n",
    "from nltk.corpus import stopwords, names, opinion_lexicon\n",
    "from itertools import combinations, permutations\n",
    "from collections import Counter\n",
    "from tqdm import tqdm, tqdm_notebook\n",
    "# plt.style.use('ggplot')\n",
    "nltk.download('punkt')\n",
    "nltk.download('stopwords')\n",
    "nltk.download('names')\n",
    "nltk.download('opinion_lexicon')"
   ]
  },
  {
   "cell_type": "code",
   "execution_count": 2,
   "metadata": {},
   "outputs": [],
   "source": [
    "datapath = r'/home/alex/Documents/MIDS/w266/final_project/data/convote_v1.1/data_stage_three'"
   ]
  },
  {
   "cell_type": "code",
   "execution_count": 3,
   "metadata": {},
   "outputs": [
    {
     "data": {
      "text/plain": [
       "['test_set', 'development_set', 'training_set']"
      ]
     },
     "execution_count": 3,
     "metadata": {},
     "output_type": "execute_result"
    }
   ],
   "source": [
    "os.listdir(datapath)"
   ]
  },
  {
   "cell_type": "markdown",
   "metadata": {},
   "source": [
    "# Load data\n",
    "combine the three datasets into one since we are adding it to other datasets later and will do a train test split on the full data at that point"
   ]
  },
  {
   "cell_type": "code",
   "execution_count": 4,
   "metadata": {},
   "outputs": [
    {
     "name": "stdout",
     "output_type": "stream",
     "text": [
      "test_set : 860\n",
      "development_set : 257\n",
      "training_set : 2740\n",
      "Total files : 3857\n"
     ]
    }
   ],
   "source": [
    "# check how many files we are working with and load them into a list\n",
    "files = []\n",
    "party2label = {'D':'liberal','R':'conservative','I':'neutral'}\n",
    "\n",
    "# iterate through directory\n",
    "for i, (dirName, subDirList, fileList) in enumerate(os.walk(datapath)):\n",
    "    if i > 0:\n",
    "        # print the number of files in each dataset\n",
    "        print(os.listdir(datapath)[i-1], ':', len(fileList))\n",
    "    for i,f in enumerate(fileList):\n",
    "        # convert from party label to ideological label\n",
    "        label = party2label[f.split('_')[-1][0]]\n",
    "        \n",
    "        # store the filepath with the label attached\n",
    "        filepath = os.path.join(dirName,f)\n",
    "        files.append((label, filepath))\n",
    "print('Total files :', len(files))"
   ]
  },
  {
   "cell_type": "code",
   "execution_count": 5,
   "metadata": {},
   "outputs": [
    {
     "data": {
      "text/plain": [
       "('conservative',\n",
       " '/home/alex/Documents/MIDS/w266/final_project/data/convote_v1.1/data_stage_three/test_set/414_400343_2897011_RON.txt')"
      ]
     },
     "execution_count": 5,
     "metadata": {},
     "output_type": "execute_result"
    }
   ],
   "source": [
    "files[0]"
   ]
  },
  {
   "cell_type": "code",
   "execution_count": 6,
   "metadata": {},
   "outputs": [
    {
     "name": "stdout",
     "output_type": "stream",
     "text": [
      "Total sentences:  54830\n"
     ]
    }
   ],
   "source": [
    "# parse sentences and load into a DataFrame\n",
    "sentences = []\n",
    "for label, filename in files:\n",
    "    with open(filename, 'r') as f:\n",
    "        # split the sentences\n",
    "        sents = sent_tokenize(f.read())\n",
    "        \n",
    "        # collect (label, sentence) tuples\n",
    "        for sent in sents:\n",
    "            sentences.append((label, sent))\n",
    "\n",
    "df = pd.DataFrame(sentences, columns=['label', 'text'])\n",
    "print('Total sentences: ', df.shape[0])"
   ]
  },
  {
   "cell_type": "code",
   "execution_count": 7,
   "metadata": {},
   "outputs": [
    {
     "data": {
      "text/html": [
       "<div>\n",
       "<style scoped>\n",
       "    .dataframe tbody tr th:only-of-type {\n",
       "        vertical-align: middle;\n",
       "    }\n",
       "\n",
       "    .dataframe tbody tr th {\n",
       "        vertical-align: top;\n",
       "    }\n",
       "\n",
       "    .dataframe thead th {\n",
       "        text-align: right;\n",
       "    }\n",
       "</style>\n",
       "<table border=\"1\" class=\"dataframe\">\n",
       "  <thead>\n",
       "    <tr style=\"text-align: right;\">\n",
       "      <th></th>\n",
       "      <th>label</th>\n",
       "      <th>text</th>\n",
       "    </tr>\n",
       "  </thead>\n",
       "  <tbody>\n",
       "    <tr>\n",
       "      <th>25332</th>\n",
       "      <td>liberal</td>\n",
       "      <td>now , suppose , in a second example , a checki...</td>\n",
       "    </tr>\n",
       "    <tr>\n",
       "      <th>21492</th>\n",
       "      <td>conservative</td>\n",
       "      <td>we would all do well to remember that , especi...</td>\n",
       "    </tr>\n",
       "    <tr>\n",
       "      <th>31280</th>\n",
       "      <td>liberal</td>\n",
       "      <td>where do the republicans find the moral justif...</td>\n",
       "    </tr>\n",
       "    <tr>\n",
       "      <th>28061</th>\n",
       "      <td>conservative</td>\n",
       "      <td>they are so expensive and have been denied for...</td>\n",
       "    </tr>\n",
       "    <tr>\n",
       "      <th>44391</th>\n",
       "      <td>liberal</td>\n",
       "      <td>we think it is a good trade-off .</td>\n",
       "    </tr>\n",
       "  </tbody>\n",
       "</table>\n",
       "</div>"
      ],
      "text/plain": [
       "              label                                               text\n",
       "25332       liberal  now , suppose , in a second example , a checki...\n",
       "21492  conservative  we would all do well to remember that , especi...\n",
       "31280       liberal  where do the republicans find the moral justif...\n",
       "28061  conservative  they are so expensive and have been denied for...\n",
       "44391       liberal                  we think it is a good trade-off ."
      ]
     },
     "execution_count": 7,
     "metadata": {},
     "output_type": "execute_result"
    }
   ],
   "source": [
    "df.sample(5)"
   ]
  },
  {
   "cell_type": "code",
   "execution_count": 8,
   "metadata": {},
   "outputs": [
    {
     "data": {
      "text/html": [
       "<div>\n",
       "<style scoped>\n",
       "    .dataframe tbody tr th:only-of-type {\n",
       "        vertical-align: middle;\n",
       "    }\n",
       "\n",
       "    .dataframe tbody tr th {\n",
       "        vertical-align: top;\n",
       "    }\n",
       "\n",
       "    .dataframe thead th {\n",
       "        text-align: right;\n",
       "    }\n",
       "</style>\n",
       "<table border=\"1\" class=\"dataframe\">\n",
       "  <thead>\n",
       "    <tr style=\"text-align: right;\">\n",
       "      <th></th>\n",
       "      <th>text</th>\n",
       "    </tr>\n",
       "    <tr>\n",
       "      <th>label</th>\n",
       "      <th></th>\n",
       "    </tr>\n",
       "  </thead>\n",
       "  <tbody>\n",
       "    <tr>\n",
       "      <th>conservative</th>\n",
       "      <td>26155</td>\n",
       "    </tr>\n",
       "    <tr>\n",
       "      <th>liberal</th>\n",
       "      <td>28439</td>\n",
       "    </tr>\n",
       "    <tr>\n",
       "      <th>neutral</th>\n",
       "      <td>236</td>\n",
       "    </tr>\n",
       "  </tbody>\n",
       "</table>\n",
       "</div>"
      ],
      "text/plain": [
       "               text\n",
       "label              \n",
       "conservative  26155\n",
       "liberal       28439\n",
       "neutral         236"
      ]
     },
     "execution_count": 8,
     "metadata": {},
     "output_type": "execute_result"
    }
   ],
   "source": [
    "df.groupby('label').count()"
   ]
  },
  {
   "cell_type": "markdown",
   "metadata": {},
   "source": [
    "# Determine most politically charged bigrams"
   ]
  },
  {
   "cell_type": "code",
   "execution_count": 9,
   "metadata": {},
   "outputs": [],
   "source": [
    "# split data into liberal and conservative\n",
    "lib = df.loc[df.label == 'liberal']\n",
    "con = df.loc[df.label == 'conservative']"
   ]
  },
  {
   "cell_type": "code",
   "execution_count": 15,
   "metadata": {},
   "outputs": [
    {
     "data": {
      "text/plain": [
       "['i', 'me', 'my', 'myself', 'we', 'our', 'ours', 'ourselves', 'you', \"you're\"]"
      ]
     },
     "execution_count": 15,
     "metadata": {},
     "output_type": "execute_result"
    }
   ],
   "source": [
    "stops = [w.lower() for w in stopwords.words('english')] + \\\n",
    "        ['would', 'could','really','sensenbrenner',\"n't\"]\n",
    "stops[:10]"
   ]
  },
  {
   "cell_type": "code",
   "execution_count": 16,
   "metadata": {},
   "outputs": [],
   "source": [
    "men = [w.lower() for w in names.words('male.txt')]\n",
    "women = [w.lower() for w in names.words('female.txt')]\n",
    "stopNames = men + women"
   ]
  },
  {
   "cell_type": "code",
   "execution_count": 17,
   "metadata": {},
   "outputs": [
    {
     "data": {
      "text/plain": [
       "(184, 7944)"
      ]
     },
     "execution_count": 17,
     "metadata": {},
     "output_type": "execute_result"
    }
   ],
   "source": [
    "len(stops), len(stopNames)"
   ]
  },
  {
   "cell_type": "code",
   "execution_count": 18,
   "metadata": {},
   "outputs": [
    {
     "data": {
      "text/plain": [
       "8128"
      ]
     },
     "execution_count": 18,
     "metadata": {},
     "output_type": "execute_result"
    }
   ],
   "source": [
    "stops.extend(stopNames)\n",
    "len(stops)"
   ]
  },
  {
   "cell_type": "code",
   "execution_count": 20,
   "metadata": {},
   "outputs": [],
   "source": [
    "# define a helper function to pull the bigrams\n",
    "def getBigrams(text, stops, ops=None):\n",
    "    '''return all bigrams in a Counter'''\n",
    "    def criteria(word):\n",
    "        if len(word) > 1 and word not in stops:\n",
    "            return True\n",
    "        else:\n",
    "            return False\n",
    "            \n",
    "    # intialize counter\n",
    "    bigrams = Counter()\n",
    "    \n",
    "    # tokenize text\n",
    "    words = word_tokenize(text)\n",
    "    \n",
    "    # filter punctuation and single letter words\n",
    "    words = [w.lower() for w in words]\n",
    "    \n",
    "    # throw out sentences with less than two words\n",
    "    if len(words) < 2:\n",
    "        return bigrams\n",
    "    \n",
    "    # add bigrams to Counter\n",
    "    for i in range(len(words) - 1):\n",
    "        b = ' '.join((words[i], words[i+1]))\n",
    "        if criteria(words[i]) and criteria(words[i+1]):\n",
    "            if ops:\n",
    "                if words[i] in ops or words[i+1] in ops:\n",
    "                    bigrams[b] += 1\n",
    "            else:\n",
    "                bigrams[b] += 1\n",
    "        \n",
    "    return bigrams"
   ]
  },
  {
   "cell_type": "code",
   "execution_count": 21,
   "metadata": {},
   "outputs": [
    {
     "name": "stderr",
     "output_type": "stream",
     "text": [
      "100%|██████████| 28439/28439 [00:48<00:00, 589.77it/s]\n"
     ]
    }
   ],
   "source": [
    "libBigrams = Counter()\n",
    "for text in tqdm(lib.text):\n",
    "    libBigrams.update(getBigrams(text, stops))"
   ]
  },
  {
   "cell_type": "code",
   "execution_count": 17,
   "metadata": {},
   "outputs": [
    {
     "data": {
      "text/plain": [
       "[('mr. speaker', 1622),\n",
       " ('mr. chairman', 810),\n",
       " ('united states', 471),\n",
       " ('stem cell', 398),\n",
       " ('health care', 391),\n",
       " ('american people', 318),\n",
       " ('cell research', 288),\n",
       " ('social security', 269),\n",
       " ('tax cuts', 261),\n",
       " ('patriot act', 228)]"
      ]
     },
     "execution_count": 17,
     "metadata": {},
     "output_type": "execute_result"
    }
   ],
   "source": [
    "libBigrams.most_common()[:10]"
   ]
  },
  {
   "cell_type": "code",
   "execution_count": 22,
   "metadata": {},
   "outputs": [],
   "source": [
    "conBigrams = Counter()\n",
    "for text in con.text:\n",
    "    conBigrams.update(getBigrams(text, stops))"
   ]
  },
  {
   "cell_type": "code",
   "execution_count": 19,
   "metadata": {},
   "outputs": [
    {
     "data": {
      "text/plain": [
       "[('mr. speaker', 1741),\n",
       " ('mr. chairman', 888),\n",
       " ('united states', 530),\n",
       " ('stem cell', 391),\n",
       " ('stem cells', 361),\n",
       " ('embryonic stem', 283),\n",
       " ('small businesses', 283),\n",
       " ('small business', 236),\n",
       " ('cell research', 230),\n",
       " ('patriot act', 221)]"
      ]
     },
     "execution_count": 19,
     "metadata": {},
     "output_type": "execute_result"
    }
   ],
   "source": [
    "conBigrams.most_common()[:10]"
   ]
  },
  {
   "cell_type": "markdown",
   "metadata": {},
   "source": [
    "most of these bigrams are neutral. Grab the 1000 most common from each ideology, then filter out any that appear in the other ideology"
   ]
  },
  {
   "cell_type": "code",
   "execution_count": 23,
   "metadata": {},
   "outputs": [],
   "source": [
    "# get the 1000 most common liberal and conservative bigrams\n",
    "commonCon = [b[0] for b in conBigrams.most_common()[:1000]]\n",
    "commonLib = [b[0] for b in libBigrams.most_common()[:1000]]"
   ]
  },
  {
   "cell_type": "code",
   "execution_count": 24,
   "metadata": {},
   "outputs": [],
   "source": [
    "# keep only the bigrams for each ideology that appear in the top 1000 of that ideology and not in the top 1000 of the other\n",
    "libBigrams_filtered = [(w,libBigrams[w]) for w in commonLib if w not in commonCon]\n",
    "# conservative bigrams also had weird 'amp nbsp' HTML tags so remove those\n",
    "conBigrams_filtered = [(w,conBigrams[w]) for w in commonCon if w not in commonLib and 'nbsp' not in w]"
   ]
  },
  {
   "cell_type": "code",
   "execution_count": 25,
   "metadata": {},
   "outputs": [
    {
     "data": {
      "text/plain": [
       "(486, 486)"
      ]
     },
     "execution_count": 25,
     "metadata": {},
     "output_type": "execute_result"
    }
   ],
   "source": [
    "len(libBigrams_filtered),len(conBigrams_filtered)"
   ]
  },
  {
   "cell_type": "code",
   "execution_count": 26,
   "metadata": {},
   "outputs": [
    {
     "name": "stdout",
     "output_type": "stream",
     "text": [
      "top 200 liberal bigrams:\n"
     ]
    },
    {
     "data": {
      "text/plain": [
       "[('republican budget', 116),\n",
       " ('republican leadership', 102),\n",
       " ('strong opposition', 77),\n",
       " ('cbc budget', 67),\n",
       " ('child left', 63),\n",
       " ('oil companies', 62),\n",
       " ('tax breaks', 53),\n",
       " ('congressional black', 51),\n",
       " ('black caucus', 51),\n",
       " ('national debt', 48),\n",
       " ('republican party', 45),\n",
       " ('public health', 45),\n",
       " ('police dept', 45),\n",
       " ('alternative budget', 39),\n",
       " ('fiscal responsibility', 38),\n",
       " ('student loans', 34),\n",
       " ('cbc alternative', 34),\n",
       " (\"majority 's\", 33),\n",
       " ('law school', 33),\n",
       " ('trust fund', 32),\n",
       " ('rule 11', 32),\n",
       " ('state legislatures', 32),\n",
       " ('environmental laws', 31),\n",
       " ('special interests', 31),\n",
       " ('poor people', 31),\n",
       " ('care coverage', 31),\n",
       " ('republican colleagues', 30),\n",
       " ('democratic alternative', 30),\n",
       " ('drinking water', 29),\n",
       " ('safety net', 28),\n",
       " ('five years', 28),\n",
       " ('majority party', 28),\n",
       " ('budget cuts', 28),\n",
       " ('million per', 27),\n",
       " ('card companies', 27),\n",
       " ('mr. leader', 27),\n",
       " ('fiscally responsible', 27),\n",
       " ('20 billion', 27),\n",
       " ('university school', 27),\n",
       " ('1.5 billion', 27),\n",
       " ('attorneys general', 27),\n",
       " ('vast majority', 26),\n",
       " ('bald eagle', 26),\n",
       " ('parliamentary inquiry', 26),\n",
       " ('medical bills', 26),\n",
       " ('title vii', 26),\n",
       " ('official conduct', 26),\n",
       " ('gun industry', 26),\n",
       " ('security trust', 25),\n",
       " ('food stamps', 25),\n",
       " ('unfunded mandate', 25),\n",
       " ('big oil', 25),\n",
       " ('labor standards', 25),\n",
       " ('cash balance', 25),\n",
       " ('energy efficiency', 25),\n",
       " ('make us', 24),\n",
       " ('budget deficit', 24),\n",
       " ('tax break', 24),\n",
       " ('new orleans', 24),\n",
       " ('benefit plans', 24),\n",
       " ('life support', 24),\n",
       " ('two years', 23),\n",
       " ('wealthiest americans', 23),\n",
       " ('u.s. trade', 23),\n",
       " ('labor laws', 23),\n",
       " ('99.7 percent', 22),\n",
       " (\"'s future\", 22),\n",
       " ('health benefits', 22),\n",
       " (\"'s ability\", 22),\n",
       " ('training programs', 22),\n",
       " ('next 10', 22),\n",
       " ('judicial conference', 22),\n",
       " ('fy 2006', 22),\n",
       " ('gas companies', 21),\n",
       " ('block grants', 21),\n",
       " ('veterans health', 21),\n",
       " ('50 billion', 21),\n",
       " ('minimum wage', 21),\n",
       " ('100 billion', 21),\n",
       " ('since 2001', 20),\n",
       " ('45 days', 20),\n",
       " ('four years', 20),\n",
       " ('ethical standards', 20),\n",
       " ('library records', 20),\n",
       " ('without health', 20),\n",
       " ('federal employees', 20),\n",
       " ('record profits', 20),\n",
       " ('energy companies', 20),\n",
       " ('budget deficits', 19),\n",
       " ('funded research', 19),\n",
       " ('cord injuries', 19),\n",
       " ('employment service', 19),\n",
       " ('air act', 19),\n",
       " ('ten years', 19),\n",
       " ('insurance coverage', 19),\n",
       " ('house republican', 19),\n",
       " ('fiscal discipline', 19),\n",
       " ('fossil fuels', 19),\n",
       " ('south texas', 19),\n",
       " ('budget proposal', 19),\n",
       " ('maximum pell', 19),\n",
       " ('pomeroy substitute', 18),\n",
       " ('bankruptcy laws', 18),\n",
       " ('roving wiretaps', 18),\n",
       " ('innocent americans', 18),\n",
       " ('million dollars', 18),\n",
       " (\"family 's\", 18),\n",
       " ('so-called ``', 18),\n",
       " ('working people', 18),\n",
       " ('billion dollars', 18),\n",
       " ('police officers', 18),\n",
       " ('private accounts', 18),\n",
       " ('actually increase', 18),\n",
       " ('funding levels', 18),\n",
       " ('asylum seekers', 18),\n",
       " ('international labor', 18),\n",
       " ('health professions', 18),\n",
       " ('safety violations', 18),\n",
       " ('caucus budget', 18),\n",
       " ('290 billion', 17),\n",
       " ('ethical guidelines', 17),\n",
       " ('bad policy', 17),\n",
       " ('species recovery', 17),\n",
       " ('year ago', 17),\n",
       " ('vice president', 17),\n",
       " ('child care', 17),\n",
       " ('year alone', 17),\n",
       " ('health coverage', 17),\n",
       " ('health plan', 17),\n",
       " ('70 billion', 17),\n",
       " ('50 million', 17),\n",
       " ('child labor', 17),\n",
       " ('insurance companies', 17),\n",
       " ('unfunded mandates', 17),\n",
       " ('security council', 17),\n",
       " ('rangel substitute', 17),\n",
       " ('privatize social', 16),\n",
       " ('gains tax', 16),\n",
       " ('loved one', 16),\n",
       " ('-- including', 16),\n",
       " ('also provides', 16),\n",
       " ('told us', 16),\n",
       " (\"'s children\", 16),\n",
       " ('national science', 16),\n",
       " ('science foundation', 16),\n",
       " (\"women 's\", 16),\n",
       " ('working americans', 16),\n",
       " ('economic policies', 16),\n",
       " (\"'s recommendations\", 16),\n",
       " (\"'s workers\", 16),\n",
       " ('trade policy', 16),\n",
       " ('oil industry', 16),\n",
       " ('ethics committee', 16),\n",
       " (\"'s veterans\", 16),\n",
       " ('500 million', 16),\n",
       " ('united airlines', 16),\n",
       " ('national wildlife', 16),\n",
       " ('14 billion', 16),\n",
       " ('budget process', 16),\n",
       " ('new committee', 16),\n",
       " ('judge garza', 16),\n",
       " ('nuclear weapons', 16),\n",
       " ('dividend tax', 16),\n",
       " ('act --', 15),\n",
       " ('federal research', 15),\n",
       " ('cord injury', 15),\n",
       " (\"'s response\", 15),\n",
       " ('york times', 15),\n",
       " ('additional funding', 15),\n",
       " ('20 million', 15),\n",
       " ('10 billion', 15),\n",
       " ('brave men', 15),\n",
       " ('people making', 15),\n",
       " ('gasoline prices', 15),\n",
       " ('tsunami relief', 15),\n",
       " ('mr. spratt', 15),\n",
       " ('gun dealers', 15),\n",
       " ('member states', 15),\n",
       " ('medical records', 14),\n",
       " ('many ways', 14),\n",
       " ('quite frankly', 14),\n",
       " ('16 provisions', 14),\n",
       " ('people need', 14),\n",
       " ('get us', 14),\n",
       " ('middle-class families', 14),\n",
       " ('local communities', 14),\n",
       " ('million children', 14),\n",
       " ('development programs', 14),\n",
       " ('energy costs', 14),\n",
       " ('mr. cardin', 14),\n",
       " ('governors association', 14),\n",
       " ('percent cut', 14),\n",
       " ('pension benefits', 14),\n",
       " ('special interest', 14),\n",
       " ('refinery capacity', 14),\n",
       " ('guardian ad', 14),\n",
       " ('ad litem', 14),\n",
       " ('energy assistance', 14),\n",
       " ('reduce crime', 14),\n",
       " ('gun violence', 14)]"
      ]
     },
     "execution_count": 26,
     "metadata": {},
     "output_type": "execute_result"
    }
   ],
   "source": [
    "print('top 200 liberal bigrams:')\n",
    "sorted(libBigrams_filtered,key=lambda x: -x[1])[:200]"
   ]
  },
  {
   "cell_type": "code",
   "execution_count": 27,
   "metadata": {},
   "outputs": [
    {
     "name": "stdout",
     "output_type": "stream",
     "text": [
      "top 200 conservative bigrams\n"
     ]
    },
    {
     "data": {
      "text/plain": [
       "[('house resolution', 77),\n",
       " ('new jobs', 55),\n",
       " ('immediate consideration', 52),\n",
       " ('restaurant association', 42),\n",
       " ('class members', 37),\n",
       " ('lawsuit abuse', 34),\n",
       " ('commission report', 34),\n",
       " ('thank chairman', 33),\n",
       " ('contractors association', 32),\n",
       " ('pension protection', 30),\n",
       " ('human embryo', 29),\n",
       " ('electrical contractors', 29),\n",
       " ('gang members', 29),\n",
       " ('oil-for-food program', 29),\n",
       " ('identification cards', 29),\n",
       " ('legislative days', 28),\n",
       " ('personal injury', 28),\n",
       " ('national electrical', 28),\n",
       " ('property owners', 27),\n",
       " ('bankruptcy abuse', 26),\n",
       " ('days within', 26),\n",
       " ('chinese government', 26),\n",
       " ('federal jurisdiction', 26),\n",
       " ('spent fuel', 26),\n",
       " ('million new', 25),\n",
       " ('inner cell', 25),\n",
       " ('cell mass', 25),\n",
       " ('trial lawyers', 25),\n",
       " ('sales tax', 25),\n",
       " ('budget request', 25),\n",
       " ('start program', 24),\n",
       " ('crude oil', 24),\n",
       " ('mandatory spending', 23),\n",
       " ('important issue', 23),\n",
       " ('tax repeal', 23),\n",
       " ('urge support', 23),\n",
       " ('million jobs', 23),\n",
       " ('pluripotent stem', 23),\n",
       " ('budget authority', 23),\n",
       " ('million barrels', 23),\n",
       " ('public law', 23),\n",
       " ('global war', 22),\n",
       " ('mr. hyde', 22),\n",
       " ('international relations', 22),\n",
       " ('comprehensive energy', 22),\n",
       " ('sex offender', 22),\n",
       " ('gang activity', 22),\n",
       " ('appropriations process', 21),\n",
       " ('tax dollars', 21),\n",
       " ('food industry', 21),\n",
       " ('gang deterrence', 21),\n",
       " ('community protection', 21),\n",
       " ('family businesses', 20),\n",
       " ('abuse prevention', 20),\n",
       " ('100 percent', 20),\n",
       " ('30 minutes', 20),\n",
       " ('step toward', 20),\n",
       " ('right direction', 20),\n",
       " ('good work', 20),\n",
       " ('raise taxes', 20),\n",
       " ('first step', 19),\n",
       " ('blood stem', 19),\n",
       " ('000 jobs', 19),\n",
       " ('put together', 19),\n",
       " ('democrat substitute', 19),\n",
       " ('free market', 19),\n",
       " ('border fence', 19),\n",
       " ('long overdue', 18),\n",
       " ('extraneous material', 18),\n",
       " ('reform legislation', 18),\n",
       " ('cord-blood stem', 18),\n",
       " ('financial literacy', 18),\n",
       " ('9/11 hijackers', 18),\n",
       " ('gentleman yielding', 18),\n",
       " ('american economy', 17),\n",
       " ('family business', 17),\n",
       " ('mr. pombo', 17),\n",
       " ('30 seconds', 17),\n",
       " ('debate today', 17),\n",
       " ('cells without', 17),\n",
       " ('blood units', 17),\n",
       " ('tax policy', 17),\n",
       " ('american businesses', 17),\n",
       " ('prenatal care', 17),\n",
       " ('current system', 16),\n",
       " ('east texas', 16),\n",
       " ('cell line', 16),\n",
       " ('important step', 16),\n",
       " ('single cell', 16),\n",
       " (\"'s economy\", 16),\n",
       " ('u.s. economy', 16),\n",
       " ('discretionary spending', 16),\n",
       " ('campaign finance', 16),\n",
       " ('quality health', 16),\n",
       " (\"u.n. 's\", 16),\n",
       " ('shall retain', 16),\n",
       " ('reduction act', 15),\n",
       " ('important part', 15),\n",
       " ('trade center', 15),\n",
       " ('yield back', 15),\n",
       " ('customary 30', 15),\n",
       " ('sickle cell', 15),\n",
       " ('rights act', 15),\n",
       " ('living human', 15),\n",
       " ('chairman hyde', 15),\n",
       " ('every one', 15),\n",
       " ('important provisions', 15),\n",
       " ('tax burden', 15),\n",
       " ('joint resolution', 15),\n",
       " ('step forward', 15),\n",
       " ('affordable health', 15),\n",
       " ('urge passage', 15),\n",
       " ('enforcement officers', 15),\n",
       " ('budget act', 15),\n",
       " ('asylum system', 15),\n",
       " ('hyde u.n', 15),\n",
       " ('attorneys fees', 15),\n",
       " ('brac round', 15),\n",
       " ('mass action', 15),\n",
       " ('air guard', 15),\n",
       " ('continuing contracts', 15),\n",
       " ('last several', 14),\n",
       " ('include extraneous', 14),\n",
       " ('local law', 14),\n",
       " ('work hard', 14),\n",
       " ('house committee', 14),\n",
       " (\"congress 's\", 14),\n",
       " ('organized crime', 14),\n",
       " ('repeal permanency', 14),\n",
       " ('permanency act', 14),\n",
       " ('must continue', 14),\n",
       " ('blood cells', 14),\n",
       " ('national bone', 14),\n",
       " ('government reform', 14),\n",
       " ('bankruptcy relief', 14),\n",
       " ('national defense', 14),\n",
       " ('without harming', 14),\n",
       " ('good news', 14),\n",
       " ('white paper', 14),\n",
       " ('help small', 14),\n",
       " ('status quo', 14),\n",
       " ('forum shopping', 14),\n",
       " ('related agencies', 14),\n",
       " ('state department', 14),\n",
       " ('military recruiters', 14),\n",
       " ('concurrent resolution', 14),\n",
       " ('bargaining power', 14),\n",
       " ('least one', 13),\n",
       " ('bipartisan committee', 13),\n",
       " ('pretty good', 13),\n",
       " ('unemployment rate', 13),\n",
       " (\"'s work\", 13),\n",
       " ('25 years', 13),\n",
       " ('early embryo', 13),\n",
       " ('many small', 13),\n",
       " ('american consumers', 13),\n",
       " (\"'s small\", 13),\n",
       " ('things like', 13),\n",
       " ('fiscal years', 13),\n",
       " ('help ensure', 13),\n",
       " ('allows us', 13),\n",
       " ('immigration system', 13),\n",
       " ('j. hyde', 13),\n",
       " ('benefit guaranty', 13),\n",
       " ('relief extension', 13),\n",
       " ('subsection 1332', 13),\n",
       " ('commercial spent', 13),\n",
       " ('tax reform', 12),\n",
       " ('delayed notification', 12),\n",
       " ('tax rates', 12),\n",
       " ('mr. cardoza', 12),\n",
       " ('15 percent', 12),\n",
       " ('conference reports', 12),\n",
       " ('federal judge', 12),\n",
       " ('federal tax', 12),\n",
       " ('democrats want', 12),\n",
       " ('legislative business', 12),\n",
       " ('chart shows', 12),\n",
       " ('terrorist organizations', 12),\n",
       " ('us get', 12),\n",
       " ('genetic diagnosis', 12),\n",
       " ('must act', 12),\n",
       " ('abuse reduction', 12),\n",
       " ('distributors association', 12),\n",
       " ('dear chairman', 12),\n",
       " ('community services', 12),\n",
       " ('fair trade', 12),\n",
       " ('increase taxes', 12),\n",
       " ('provide health', 12),\n",
       " ('soft money', 12),\n",
       " ('boutique fuels', 12),\n",
       " ('food consumption', 12),\n",
       " ('consumption act', 12),\n",
       " ('domestic production', 12),\n",
       " ('illegal aliens', 12),\n",
       " ('brac recommendations', 12),\n",
       " ('invasive species', 12),\n",
       " ('global marketplace', 11),\n",
       " ('federal spending', 11),\n",
       " ('since 9/11', 11)]"
      ]
     },
     "execution_count": 27,
     "metadata": {},
     "output_type": "execute_result"
    }
   ],
   "source": [
    "print('top 200 conservative bigrams')\n",
    "sorted(conBigrams_filtered,key=lambda x: -x[1])[:200]"
   ]
  },
  {
   "cell_type": "markdown",
   "metadata": {},
   "source": [
    "Looks much more reasonable"
   ]
  },
  {
   "cell_type": "code",
   "execution_count": 28,
   "metadata": {},
   "outputs": [],
   "source": [
    "# keep just the bigrams and drop the count data\n",
    "libGrams = [k for k,v in sorted(libBigrams_filtered,key=lambda x: -x[1])[:200]]\n",
    "conGrams = [k for k,v in sorted(conBigrams_filtered,key=lambda x: -x[1])[:200]]"
   ]
  },
  {
   "cell_type": "code",
   "execution_count": 29,
   "metadata": {},
   "outputs": [],
   "source": [
    "# savepath = r'../data'\n",
    "# with open(os.path.join(savepath, 'libGrams.pickle'), 'wb') as f:\n",
    "#     pickle.dump(libGrams, f, pickle.HIGHEST_PROTOCOL)\n",
    "# with open(os.path.join(savepath, 'conGrams.pickle'), 'wb') as f:\n",
    "#     pickle.dump(conGrams, f, pickle.HIGHEST_PROTOCOL)\n",
    "with open('../data/libGrams4.pickle', 'wb') as f:\n",
    "    pickle.dump(libGrams, f, pickle.HIGHEST_PROTOCOL)\n",
    "with open('../data/conGrams4.pickle', 'wb') as f:\n",
    "    pickle.dump(conGrams, f, pickle.HIGHEST_PROTOCOL)"
   ]
  },
  {
   "cell_type": "markdown",
   "metadata": {},
   "source": [
    "# Load bigrams"
   ]
  },
  {
   "cell_type": "code",
   "execution_count": 10,
   "metadata": {},
   "outputs": [
    {
     "name": "stdout",
     "output_type": "stream",
     "text": [
      "['republican budget', 'republican leadership', 'strong opposition', 'cbc budget', 'child left']\n",
      "['house resolution', 'new jobs', 'immediate consideration', 'restaurant association', 'class members']\n"
     ]
    }
   ],
   "source": [
    "with open('../data/libGrams4.pickle', 'rb') as f:\n",
    "    libGrams = pickle.load(f)\n",
    "    print(libGrams[:5])\n",
    "with open('../data/conGrams4.pickle', 'rb') as f:\n",
    "    conGrams = pickle.load(f)\n",
    "    print(conGrams[:5])"
   ]
  },
  {
   "cell_type": "code",
   "execution_count": 11,
   "metadata": {},
   "outputs": [
    {
     "data": {
      "text/plain": [
       "(200, 200)"
      ]
     },
     "execution_count": 11,
     "metadata": {},
     "output_type": "execute_result"
    }
   ],
   "source": [
    "len(libGrams), len(conGrams)"
   ]
  },
  {
   "cell_type": "code",
   "execution_count": 14,
   "metadata": {},
   "outputs": [
    {
     "data": {
      "text/plain": [
       "['republican budget',\n",
       " 'republican leadership',\n",
       " 'strong opposition',\n",
       " 'cbc budget',\n",
       " 'child left',\n",
       " 'oil companies',\n",
       " 'tax breaks',\n",
       " 'congressional black',\n",
       " 'black caucus',\n",
       " 'national debt']"
      ]
     },
     "execution_count": 14,
     "metadata": {},
     "output_type": "execute_result"
    }
   ],
   "source": [
    "libGrams[:10]"
   ]
  },
  {
   "cell_type": "code",
   "execution_count": 13,
   "metadata": {},
   "outputs": [
    {
     "data": {
      "text/plain": [
       "['house resolution',\n",
       " 'new jobs',\n",
       " 'immediate consideration',\n",
       " 'restaurant association',\n",
       " 'class members',\n",
       " 'lawsuit abuse',\n",
       " 'commission report',\n",
       " 'thank chairman',\n",
       " 'contractors association',\n",
       " 'pension protection']"
      ]
     },
     "execution_count": 13,
     "metadata": {},
     "output_type": "execute_result"
    }
   ],
   "source": [
    "conGrams[:10]"
   ]
  },
  {
   "cell_type": "markdown",
   "metadata": {},
   "source": [
    "# Determine most politically charged lexicons"
   ]
  },
  {
   "cell_type": "code",
   "execution_count": 101,
   "metadata": {},
   "outputs": [],
   "source": [
    "# define a helper function to pull the bigrams\n",
    "def getLexicons(text, stops):\n",
    "    '''return all bigrams in a Counter'''\n",
    "    # intialize counter\n",
    "    lexicons = Counter()\n",
    "    \n",
    "    # tokenize text\n",
    "    words = word_tokenize(text)\n",
    "    \n",
    "    # filter punctuation and single letter words\n",
    "    words = [w.lower() for w in words]\n",
    "    \n",
    "    # add lexicons to Counter\n",
    "    for w in words:\n",
    "        if w.isalpha() and len(w) > 1 and w not in stops:\n",
    "            lexicons[w] += 1\n",
    "        \n",
    "    return lexicons"
   ]
  },
  {
   "cell_type": "code",
   "execution_count": 102,
   "metadata": {},
   "outputs": [
    {
     "data": {
      "text/plain": [
       "Counter({'madam': 1, 'speaker': 1, 'yield': 1, 'time': 1, 'consume': 1})"
      ]
     },
     "execution_count": 102,
     "metadata": {},
     "output_type": "execute_result"
    }
   ],
   "source": [
    "getLexicons(df.text[0], stops)"
   ]
  },
  {
   "cell_type": "code",
   "execution_count": 103,
   "metadata": {},
   "outputs": [],
   "source": [
    "libLexicons = Counter()\n",
    "for text in lib.text:\n",
    "    libLexicons.update(getLexicons(text, stops))"
   ]
  },
  {
   "cell_type": "code",
   "execution_count": 104,
   "metadata": {},
   "outputs": [
    {
     "data": {
      "text/plain": [
       "[('speaker', 1848),\n",
       " ('people', 1676),\n",
       " ('time', 1389),\n",
       " ('us', 1306),\n",
       " ('chairman', 1165),\n",
       " ('health', 1120),\n",
       " ('budget', 1108),\n",
       " ('today', 1058),\n",
       " ('tax', 1047),\n",
       " ('one', 1042)]"
      ]
     },
     "execution_count": 104,
     "metadata": {},
     "output_type": "execute_result"
    }
   ],
   "source": [
    "libLexicons.most_common()[:10]"
   ]
  },
  {
   "cell_type": "code",
   "execution_count": 105,
   "metadata": {},
   "outputs": [],
   "source": [
    "conLexicons = Counter()\n",
    "for text in con.text:\n",
    "    conLexicons.update(getLexicons(text, stops))"
   ]
  },
  {
   "cell_type": "code",
   "execution_count": 106,
   "metadata": {},
   "outputs": [
    {
     "data": {
      "text/plain": [
       "[('speaker', 2047),\n",
       " ('time', 1619),\n",
       " ('chairman', 1553),\n",
       " ('gentleman', 1358),\n",
       " ('people', 1221),\n",
       " ('one', 1156),\n",
       " ('support', 1135),\n",
       " ('act', 1075),\n",
       " ('us', 1034),\n",
       " ('committee', 972)]"
      ]
     },
     "execution_count": 106,
     "metadata": {},
     "output_type": "execute_result"
    }
   ],
   "source": [
    "conLexicons.most_common()[:10]"
   ]
  },
  {
   "cell_type": "markdown",
   "metadata": {},
   "source": [
    "most of these bigrams are neutral. Grab the 1000 most common from each ideology, then filter out any that appear in the other ideology"
   ]
  },
  {
   "cell_type": "code",
   "execution_count": 107,
   "metadata": {},
   "outputs": [],
   "source": [
    "# get the 1000 most common liberal and conservative lexicons\n",
    "commonCon = [L[0] for L in conLexicons.most_common()[:1000]]\n",
    "commonLib = [L[0] for L in libLexicons.most_common()[:1000]]"
   ]
  },
  {
   "cell_type": "code",
   "execution_count": 108,
   "metadata": {},
   "outputs": [],
   "source": [
    "# keep only the bigrams for each ideology that appear in the top 1000 of that ideology and not in the top 1000 of the other\n",
    "libLexicons_filtered = [(w,libLexicons[w]) for w in commonLib if w not in commonCon]\n",
    "# conservative bigrams also had weird 'amp nbsp' HTML tags so remove those\n",
    "conLexicons_filtered = [(w,conLexicons[w]) for w in commonCon if w not in commonLib and 'nbsp' not in w and 'amp' not in w]"
   ]
  },
  {
   "cell_type": "code",
   "execution_count": 109,
   "metadata": {},
   "outputs": [
    {
     "data": {
      "text/plain": [
       "(151, 150)"
      ]
     },
     "execution_count": 109,
     "metadata": {},
     "output_type": "execute_result"
    }
   ],
   "source": [
    "len(libLexicons_filtered),len(conLexicons_filtered)"
   ]
  },
  {
   "cell_type": "code",
   "execution_count": 110,
   "metadata": {},
   "outputs": [
    {
     "name": "stdout",
     "output_type": "stream",
     "text": [
      "top 100 liberal lexicons:\n"
     ]
    },
    {
     "data": {
      "text/plain": [
       "[('coverage', 186),\n",
       " ('housing', 161),\n",
       " ('protections', 160),\n",
       " ('poor', 143),\n",
       " ('cbc', 143),\n",
       " ('trillion', 142),\n",
       " ('party', 140),\n",
       " ('medicaid', 131),\n",
       " ('cutting', 126),\n",
       " ('gun', 125),\n",
       " ('college', 123),\n",
       " ('proposal', 122),\n",
       " ('values', 122),\n",
       " ('deserve', 117),\n",
       " ('bahrain', 116),\n",
       " ('deficits', 115),\n",
       " ('professor', 115),\n",
       " ('fails', 110),\n",
       " ('despite', 108),\n",
       " ('worker', 105),\n",
       " ('basic', 104),\n",
       " ('crisis', 104),\n",
       " ('victims', 102),\n",
       " ('corporate', 101),\n",
       " ('whose', 100),\n",
       " ('iraqi', 100),\n",
       " ('failed', 99),\n",
       " ('worse', 93),\n",
       " ('run', 89),\n",
       " ('show', 87),\n",
       " ('ethics', 87),\n",
       " ('lead', 86),\n",
       " ('black', 86),\n",
       " ('cafta', 86),\n",
       " ('block', 85),\n",
       " ('effective', 85),\n",
       " ('reject', 85),\n",
       " ('short', 84),\n",
       " ('billions', 83),\n",
       " ('white', 83),\n",
       " ('debtors', 83),\n",
       " ('agreements', 83),\n",
       " ('alone', 82),\n",
       " ('uninsured', 82),\n",
       " ('trust', 79),\n",
       " ('although', 79),\n",
       " ('votes', 79),\n",
       " ('wealthy', 79),\n",
       " ('wealthiest', 78),\n",
       " ('essential', 78),\n",
       " ('wildlife', 78),\n",
       " ('partisan', 76),\n",
       " ('caucus', 76),\n",
       " ('corporations', 76),\n",
       " ('seeking', 75),\n",
       " ('afghanistan', 75),\n",
       " ('south', 75),\n",
       " ('workplace', 75),\n",
       " ('opposed', 74),\n",
       " ('profits', 73),\n",
       " ('city', 73),\n",
       " ('immigrants', 73),\n",
       " ('injuries', 72),\n",
       " ('amt', 72),\n",
       " ('estates', 71),\n",
       " ('irresponsible', 71),\n",
       " ('conditions', 71),\n",
       " ('answer', 71),\n",
       " ('student', 71),\n",
       " ('cancer', 70),\n",
       " ('vulnerable', 70),\n",
       " ('suffering', 69),\n",
       " ('forced', 69),\n",
       " ('loss', 69),\n",
       " ('offered', 69),\n",
       " ('heating', 69),\n",
       " ('reasonable', 68),\n",
       " ('schools', 68),\n",
       " ('employment', 68),\n",
       " ('facilities', 68),\n",
       " ('recorded', 68),\n",
       " ('killed', 68),\n",
       " ('fy', 68),\n",
       " ('fix', 67),\n",
       " ('ground', 67),\n",
       " ('closing', 67),\n",
       " ('cover', 67),\n",
       " ('card', 66),\n",
       " ('pentagon', 66),\n",
       " ('expense', 65),\n",
       " ('affected', 65),\n",
       " ('considering', 65),\n",
       " ('dangerous', 65),\n",
       " ('led', 65),\n",
       " ('written', 65),\n",
       " ('facing', 65),\n",
       " ('data', 65),\n",
       " ('letter', 64),\n",
       " ('failure', 64),\n",
       " ('religious', 64)]"
      ]
     },
     "execution_count": 110,
     "metadata": {},
     "output_type": "execute_result"
    }
   ],
   "source": [
    "print('top 100 liberal lexicons:')\n",
    "sorted(libLexicons_filtered,key=lambda x: -x[1])[:100]"
   ]
  },
  {
   "cell_type": "code",
   "execution_count": 111,
   "metadata": {},
   "outputs": [
    {
     "name": "stdout",
     "output_type": "stream",
     "text": [
      "top 100 conservative lexicons\n"
     ]
    },
    {
     "data": {
      "text/plain": [
       "[('embryo', 231),\n",
       " ('gang', 184),\n",
       " ('lawyers', 122),\n",
       " ('growing', 117),\n",
       " ('commend', 114),\n",
       " ('identification', 114),\n",
       " ('license', 109),\n",
       " ('shall', 108),\n",
       " ('bringing', 99),\n",
       " ('gangs', 94),\n",
       " ('bit', 92),\n",
       " ('nih', 90),\n",
       " ('continuing', 90),\n",
       " ('illinois', 90),\n",
       " ('immediate', 89),\n",
       " ('talked', 89),\n",
       " ('products', 87),\n",
       " ('judiciary', 87),\n",
       " ('chinese', 87),\n",
       " ('product', 86),\n",
       " ('production', 86),\n",
       " ('regard', 83),\n",
       " ('rates', 82),\n",
       " ('activities', 81),\n",
       " ('manufacturers', 81),\n",
       " ('mentioned', 80),\n",
       " ('grow', 79),\n",
       " ('piece', 79),\n",
       " ('management', 78),\n",
       " ('chamber', 78),\n",
       " ('tonight', 77),\n",
       " ('attention', 77),\n",
       " ('stage', 77),\n",
       " ('sources', 77),\n",
       " ('toward', 77),\n",
       " ('direction', 76),\n",
       " ('fence', 76),\n",
       " ('destruction', 75),\n",
       " ('terror', 74),\n",
       " ('extend', 73),\n",
       " ('results', 73),\n",
       " ('discussion', 72),\n",
       " ('marrow', 72),\n",
       " ('understanding', 72),\n",
       " ('supply', 72),\n",
       " ('crimes', 72),\n",
       " ('tough', 72),\n",
       " ('markets', 72),\n",
       " ('focus', 71),\n",
       " ('produce', 71),\n",
       " ('medicine', 71),\n",
       " ('county', 70),\n",
       " ('lawsuit', 69),\n",
       " ('activity', 69),\n",
       " ('purposes', 68),\n",
       " ('man', 68),\n",
       " ('hyde', 68),\n",
       " ('unanimous', 67),\n",
       " ('determine', 67),\n",
       " ('democrat', 67),\n",
       " ('documents', 67),\n",
       " ('committed', 67),\n",
       " ('mass', 66),\n",
       " ('note', 65),\n",
       " ('threat', 65),\n",
       " ('tomorrow', 65),\n",
       " ('fees', 65),\n",
       " ('complete', 64),\n",
       " ('bone', 64),\n",
       " ('avoid', 64),\n",
       " ('happens', 64),\n",
       " ('sometimes', 64),\n",
       " ('sector', 63),\n",
       " ('equipment', 63),\n",
       " ('workforce', 63),\n",
       " ('creating', 63),\n",
       " ('select', 63),\n",
       " ('prior', 63),\n",
       " ('mission', 63),\n",
       " ('illegal', 63),\n",
       " ('specifically', 62),\n",
       " ('field', 62),\n",
       " ('obviously', 62),\n",
       " ('sales', 62),\n",
       " ('addresses', 62),\n",
       " ('importance', 61),\n",
       " ('creation', 61),\n",
       " ('duty', 61),\n",
       " ('represents', 61),\n",
       " ('purchase', 61),\n",
       " ('officials', 61),\n",
       " ('reduction', 61),\n",
       " ('known', 61),\n",
       " ('old', 60),\n",
       " ('contains', 60),\n",
       " ('date', 59),\n",
       " ('remarks', 59),\n",
       " ('pennsylvania', 59),\n",
       " ('points', 59),\n",
       " ('moment', 59)]"
      ]
     },
     "execution_count": 111,
     "metadata": {},
     "output_type": "execute_result"
    }
   ],
   "source": [
    "print('top 100 conservative lexicons')\n",
    "sorted(conLexicons_filtered,key=lambda x: -x[1])[:100]"
   ]
  },
  {
   "cell_type": "code",
   "execution_count": 138,
   "metadata": {},
   "outputs": [],
   "source": [
    "# keep just the bigrams and drop the count data\n",
    "libCons = [k for k,v in sorted(libLexicons_filtered,key=lambda x: -x[1])[:100]]\n",
    "conCons = [k for k,v in sorted(conLexicons_filtered,key=lambda x: -x[1])[:100]]\n",
    "# savepath = r'../data'\n",
    "# with open(os.path.join(savepath, 'libCons.pickle'), 'wb') as f:\n",
    "#     pickle.dump(libCons, f, pickle.HIGHEST_PROTOCOL)\n",
    "# with open(os.path.join(savepath, 'conCons.pickle'), 'wb') as f:\n",
    "#     pickle.dump(conCons, f, pickle.HIGHEST_PROTOCOL)\n",
    "with open('../data/libCons3.pickle', 'wb') as f:\n",
    "    pickle.dump(libCons, f, pickle.HIGHEST_PROTOCOL)\n",
    "with open('../data/conCons3.pickle', 'wb') as f:\n",
    "    pickle.dump(conCons, f, pickle.HIGHEST_PROTOCOL)"
   ]
  },
  {
   "cell_type": "code",
   "execution_count": 140,
   "metadata": {},
   "outputs": [
    {
     "name": "stdout",
     "output_type": "stream",
     "text": [
      "['coverage', 'housing', 'protections', 'poor', 'cbc']\n",
      "['embryo', 'gang', 'lawyers', 'growing', 'commend']\n"
     ]
    }
   ],
   "source": [
    "with open('../data/libCons3.pickle', 'rb') as f:\n",
    "    libCons = pickle.load(f)\n",
    "    print(libCons[:5])\n",
    "with open('../data/conCons3.pickle', 'rb') as f:\n",
    "    conCons = pickle.load(f)\n",
    "    print(conCons[:5])"
   ]
  },
  {
   "cell_type": "markdown",
   "metadata": {},
   "source": [
    "# Filter Data\n",
    "filter the original dataset for only those sentences that contain politically charged bigrams and lexicons"
   ]
  },
  {
   "cell_type": "code",
   "execution_count": 31,
   "metadata": {},
   "outputs": [],
   "source": [
    "def keepSentence(label, text):\n",
    "    # get bigrams and lexicons\n",
    "    if len(text.split()) < 6:\n",
    "        return False\n",
    "    bigrams = getBigrams(text,stops).keys()\n",
    "#     lexicons = getLexicons(text,stops).keys()\n",
    "    \n",
    "    # get the bigrams and lexicons that appear in the ideology lists\n",
    "    libBigramSet = set(bigrams).intersection(libGrams)\n",
    "#     libLexiconSet = set(lexicons).intersection(libCons)\n",
    "    conBigramSet = set(bigrams).intersection(conGrams)\n",
    "#     conLexiconSet = set(lexicons).intersection(conCons)\n",
    "    \n",
    "    # determine whether to keep the sentence\n",
    "    if label == 'liberal':\n",
    "#         if libBigramSet or libLexiconSet:\n",
    "        if libBigramSet:\n",
    "            return True\n",
    "        else:\n",
    "            return False\n",
    "    elif label == 'conservative':\n",
    "#         if conBigramSet or conLexiconSet:\n",
    "        if conBigramSet:\n",
    "            return True\n",
    "        else:\n",
    "            return False\n",
    "    elif label == 'neutral':\n",
    "        if libBigramSet or conBigramSet:\n",
    "            return False\n",
    "        else:\n",
    "            return True"
   ]
  },
  {
   "cell_type": "code",
   "execution_count": 32,
   "metadata": {},
   "outputs": [],
   "source": [
    "def filterText(df):\n",
    "    filteredText = []\n",
    "    for i in tqdm(range(df.shape[0])):\n",
    "        label,text = df.label[i], df.text[i]\n",
    "        if keepSentence(label,text):\n",
    "            filteredText.append((label, text))\n",
    "            \n",
    "    return pd.DataFrame(filteredText, columns=['label','text'])"
   ]
  },
  {
   "cell_type": "code",
   "execution_count": 33,
   "metadata": {},
   "outputs": [
    {
     "name": "stderr",
     "output_type": "stream",
     "text": [
      "100%|██████████| 54830/54830 [01:47<00:00, 509.27it/s]"
     ]
    },
    {
     "name": "stdout",
     "output_type": "stream",
     "text": [
      "runtime (min): 1.7945236682891845\n"
     ]
    },
    {
     "name": "stderr",
     "output_type": "stream",
     "text": [
      "\n"
     ]
    }
   ],
   "source": [
    "start = time.time()\n",
    "df_filtered = filterText(df)\n",
    "print('runtime (min):', (time.time() - start) / 60)"
   ]
  },
  {
   "cell_type": "code",
   "execution_count": 34,
   "metadata": {},
   "outputs": [
    {
     "data": {
      "text/plain": [
       "((54830, 2), (6693, 2))"
      ]
     },
     "execution_count": 34,
     "metadata": {},
     "output_type": "execute_result"
    }
   ],
   "source": [
    "df.shape, df_filtered.shape"
   ]
  },
  {
   "cell_type": "code",
   "execution_count": 35,
   "metadata": {},
   "outputs": [
    {
     "data": {
      "text/html": [
       "<div>\n",
       "<style scoped>\n",
       "    .dataframe tbody tr th:only-of-type {\n",
       "        vertical-align: middle;\n",
       "    }\n",
       "\n",
       "    .dataframe tbody tr th {\n",
       "        vertical-align: top;\n",
       "    }\n",
       "\n",
       "    .dataframe thead th {\n",
       "        text-align: right;\n",
       "    }\n",
       "</style>\n",
       "<table border=\"1\" class=\"dataframe\">\n",
       "  <thead>\n",
       "    <tr style=\"text-align: right;\">\n",
       "      <th></th>\n",
       "      <th>text</th>\n",
       "    </tr>\n",
       "    <tr>\n",
       "      <th>label</th>\n",
       "      <th></th>\n",
       "    </tr>\n",
       "  </thead>\n",
       "  <tbody>\n",
       "    <tr>\n",
       "      <th>conservative</th>\n",
       "      <td>2831</td>\n",
       "    </tr>\n",
       "    <tr>\n",
       "      <th>liberal</th>\n",
       "      <td>3678</td>\n",
       "    </tr>\n",
       "    <tr>\n",
       "      <th>neutral</th>\n",
       "      <td>184</td>\n",
       "    </tr>\n",
       "  </tbody>\n",
       "</table>\n",
       "</div>"
      ],
      "text/plain": [
       "              text\n",
       "label             \n",
       "conservative  2831\n",
       "liberal       3678\n",
       "neutral        184"
      ]
     },
     "execution_count": 35,
     "metadata": {},
     "output_type": "execute_result"
    }
   ],
   "source": [
    "df_filtered.groupby('label').count()"
   ]
  },
  {
   "cell_type": "code",
   "execution_count": 33,
   "metadata": {},
   "outputs": [
    {
     "ename": "NameError",
     "evalue": "name 'df_filtered' is not defined",
     "output_type": "error",
     "traceback": [
      "\u001b[0;31m---------------------------------------------------------------------------\u001b[0m",
      "\u001b[0;31mNameError\u001b[0m                                 Traceback (most recent call last)",
      "\u001b[0;32m<ipython-input-33-672e4e96f70f>\u001b[0m in \u001b[0;36m<module>\u001b[0;34m\u001b[0m\n\u001b[1;32m      1\u001b[0m \u001b[0mn\u001b[0m \u001b[0;34m=\u001b[0m \u001b[0;36m20\u001b[0m\u001b[0;34m\u001b[0m\u001b[0;34m\u001b[0m\u001b[0m\n\u001b[0;32m----> 2\u001b[0;31m \u001b[0msample\u001b[0m \u001b[0;34m=\u001b[0m \u001b[0mdf_filtered\u001b[0m\u001b[0;34m.\u001b[0m\u001b[0msample\u001b[0m\u001b[0;34m(\u001b[0m\u001b[0mn\u001b[0m\u001b[0;34m)\u001b[0m\u001b[0;34m\u001b[0m\u001b[0;34m\u001b[0m\u001b[0m\n\u001b[0m\u001b[1;32m      3\u001b[0m \u001b[0;32mfor\u001b[0m \u001b[0mi\u001b[0m \u001b[0;32min\u001b[0m \u001b[0mrange\u001b[0m\u001b[0;34m(\u001b[0m\u001b[0mn\u001b[0m\u001b[0;34m)\u001b[0m\u001b[0;34m:\u001b[0m\u001b[0;34m\u001b[0m\u001b[0;34m\u001b[0m\u001b[0m\n\u001b[1;32m      4\u001b[0m     \u001b[0mprint\u001b[0m\u001b[0;34m(\u001b[0m\u001b[0mi\u001b[0m\u001b[0;34m,\u001b[0m \u001b[0msample\u001b[0m\u001b[0;34m.\u001b[0m\u001b[0miloc\u001b[0m\u001b[0;34m[\u001b[0m\u001b[0mi\u001b[0m\u001b[0;34m]\u001b[0m\u001b[0;34m.\u001b[0m\u001b[0mvalues\u001b[0m\u001b[0;34m)\u001b[0m\u001b[0;34m\u001b[0m\u001b[0;34m\u001b[0m\u001b[0m\n",
      "\u001b[0;31mNameError\u001b[0m: name 'df_filtered' is not defined"
     ]
    }
   ],
   "source": [
    "n = 20\n",
    "sample = df_filtered.sample(n)\n",
    "for i in range(n):\n",
    "    print(i, sample.iloc[i].values)"
   ]
  },
  {
   "cell_type": "code",
   "execution_count": 37,
   "metadata": {},
   "outputs": [],
   "source": [
    "# savepath = r'../data'\n",
    "# with open(os.path.join(savepath, 'filteredConvote.pickle'), 'wb') as f:\n",
    "#     pickle.dump(df_filtered, f, pickle.HIGHEST_PROTOCOL)\n",
    "with open('../data/filteredConvote4.pickle', 'wb') as f:\n",
    "    pickle.dump(df_filtered, f, pickle.HIGHEST_PROTOCOL)"
   ]
  },
  {
   "cell_type": "code",
   "execution_count": 7,
   "metadata": {},
   "outputs": [
    {
     "data": {
      "text/html": [
       "<div>\n",
       "<style scoped>\n",
       "    .dataframe tbody tr th:only-of-type {\n",
       "        vertical-align: middle;\n",
       "    }\n",
       "\n",
       "    .dataframe tbody tr th {\n",
       "        vertical-align: top;\n",
       "    }\n",
       "\n",
       "    .dataframe thead th {\n",
       "        text-align: right;\n",
       "    }\n",
       "</style>\n",
       "<table border=\"1\" class=\"dataframe\">\n",
       "  <thead>\n",
       "    <tr style=\"text-align: right;\">\n",
       "      <th></th>\n",
       "      <th>label</th>\n",
       "      <th>text</th>\n",
       "    </tr>\n",
       "  </thead>\n",
       "  <tbody>\n",
       "    <tr>\n",
       "      <th>5052</th>\n",
       "      <td>conservative</td>\n",
       "      <td>the most important step we can take to curb ob...</td>\n",
       "    </tr>\n",
       "    <tr>\n",
       "      <th>6183</th>\n",
       "      <td>liberal</td>\n",
       "      <td>because section 1502 would apply to all such c...</td>\n",
       "    </tr>\n",
       "    <tr>\n",
       "      <th>3914</th>\n",
       "      <td>conservative</td>\n",
       "      <td>gang activity has been directly linked to the ...</td>\n",
       "    </tr>\n",
       "    <tr>\n",
       "      <th>374</th>\n",
       "      <td>liberal</td>\n",
       "      <td>810 , with the informed consent of the donor ,...</td>\n",
       "    </tr>\n",
       "    <tr>\n",
       "      <th>4021</th>\n",
       "      <td>conservative</td>\n",
       "      <td>the science -- the committee on science shall ...</td>\n",
       "    </tr>\n",
       "  </tbody>\n",
       "</table>\n",
       "</div>"
      ],
      "text/plain": [
       "             label                                               text\n",
       "5052  conservative  the most important step we can take to curb ob...\n",
       "6183       liberal  because section 1502 would apply to all such c...\n",
       "3914  conservative  gang activity has been directly linked to the ...\n",
       "374        liberal  810 , with the informed consent of the donor ,...\n",
       "4021  conservative  the science -- the committee on science shall ..."
      ]
     },
     "execution_count": 7,
     "metadata": {},
     "output_type": "execute_result"
    }
   ],
   "source": [
    "with open('../data/filteredConvote4.pickle', 'rb') as f:\n",
    "    test = pickle.load(f)\n",
    "test.sample(5)"
   ]
  },
  {
   "cell_type": "code",
   "execution_count": 34,
   "metadata": {},
   "outputs": [
    {
     "name": "stdout",
     "output_type": "stream",
     "text": [
      "0 ['conservative'\n",
      " 'small business , 99.7 percent of all business is small business ; and 75 percent of all new jobs are hired in the small business sector .']\n",
      "1 ['liberal'\n",
      " 'in short , in the considered judgment of each of these 18 state legislatures , laws have been enacted that best serve their states .']\n",
      "2 ['conservative'\n",
      " 'mr. chairman , this has been a fine debate today , and i believe that both sides have handled it very responsibly , but let us take a look at what the real issue is .']\n",
      "3 ['conservative'\n",
      " '418 is critical to the continued construction of the southwest border fence in san diego .']\n",
      "4 ['liberal' 'i can not believe the republican budget .']\n",
      "5 ['conservative'\n",
      " '3824 will allow the secretary of interior to compensate private property owners for the fair market value of the loss of use of their property when the secretary concludes that the use of the property would be a taking .']\n",
      "6 ['conservative'\n",
      " 'as they start to interconnect , we need laws that can address this , and i commend the chairman from the committee on international relations with trying to address this rapidly growing threat in all regions of the world .']\n",
      "7 ['liberal'\n",
      " 'why is it so terrible to tell jews that they must associate with baptists if federal money is being spent to provide child care services ?']\n",
      "8 ['conservative'\n",
      " \"on july 14 , the brac commission 's own deputy general counsel issued an opinion that not only are the proposed air guard moves in violation of federal law , they may be unconstitutional .\"]\n",
      "9 ['conservative' 'we must act , mr. chairman .']\n",
      "10 ['liberal'\n",
      " 'yet again the republican leadership neglects the needs of low and middle income families in order to provide hundreds of billions of dollars in tax cuts to the wealthiest of americans .']\n",
      "11 ['conservative'\n",
      " 'if we look at the last few years , at the last 4 years , we have seen 4.5 million new jobs created .']\n",
      "12 ['liberal'\n",
      " 'the conference agreement freezes or cuts most programs below their fy 2005 levels , including the following : international assistance grants to eradicate child labor and protect worker rights through the bureau of international labor affairs are cut by 21.4 percent .']\n",
      "13 ['liberal'\n",
      " 'and the bill would open the door to oil and gas exploration in the arctic national wildlife refuge , a pristine habitat that would yield less than three-tenths of a percent of world oil production by 2015 .']\n",
      "14 ['liberal'\n",
      " 'i stand in support of the cbc budget because it is a fiscally responsible alternative that targets the disparities that plague our communities and puts our priorities where they belong .']\n",
      "15 ['liberal'\n",
      " \"more proof of the overreaching of this bill is that the so-called `` class action fairness act '' is not even limited to class action cases .\"]\n",
      "16 ['liberal'\n",
      " \"what this budget says to america 's veterans is that congress does not value your service to country .\"]\n",
      "17 ['liberal'\n",
      " 'among the total sample of 1 , 771 debtors , those with more than $ 1 , 000 in medical bills were more likely than others to have taken out a mortgage to pay medical bills ( 5.0 percent versus 0.8 percent ) .']\n",
      "18 ['conservative'\n",
      " 'i believe that this legislation will be an important step in that process , and i urge my colleagues to vote for its passage .']\n",
      "19 ['liberal' 'big oil gets a pass yet again .']\n"
     ]
    }
   ],
   "source": [
    "n = 20\n",
    "sample = test.sample(n)\n",
    "for i in range(n):\n",
    "    print(i, sample.iloc[i].values)"
   ]
  },
  {
   "cell_type": "code",
   "execution_count": 37,
   "metadata": {},
   "outputs": [
    {
     "name": "stdout",
     "output_type": "stream",
     "text": [
      "['liberal'\n",
      " 'unfortunately , the republican leadership was not willing to follow that more reasonable approach , and is insisting on sticking with their own recipe .']\n",
      "['liberal' 'that is why the judicial conference looks at rules changes .']\n",
      "['liberal'\n",
      " \"the committee has seen fit to provide $ 20 million over the president 's request for operations , an increase i support , but our national parks should be safe places , where parents and children can roam and relax , where they can picnic and hike and raft .\"]\n",
      "['liberal'\n",
      " 'this adjustment would restore an estimated $ 36.3 billion in fy 2006 , including nearly $ 4 billion for deficit reduction .']\n",
      "['liberal'\n",
      " \"mr. speaker , it is one of the more amazing aspects of this debate that the party that claims to be for states ' rights and tries to take political advantage of saying , listen , states , we stand for you and what you decide to do on a policy level , is so quick to jettison states ' rights when it becomes politically inconvenient for their political allies , and that is exactly what is going on here today with the proposed associated health plans , which will preempt and trump the public policy decisions that have been made throughout this country by state legislatures .\"]\n"
     ]
    }
   ],
   "source": [
    "for v in test[test.label == 'liberal'].sample(5).values:\n",
    "    print(v)"
   ]
  },
  {
   "cell_type": "code",
   "execution_count": 38,
   "metadata": {},
   "outputs": [
    {
     "name": "stdout",
     "output_type": "stream",
     "text": [
      "['conservative'\n",
      " 'i note there are some small increases included in the bill for invasive species efforts by the fish and wildlife service also .']\n",
      "['conservative' 'mr. chairman , i yield myself 30 seconds .']\n",
      "['conservative'\n",
      " \"it 's a tremendous step in the right direction for this nation to achieve energy independence .\"]\n",
      "['conservative'\n",
      " '`` and , madam speaker , 60 percent said that democrats want to use this issue for political advantage rather than trying to get at what went wrong .']\n",
      "['conservative'\n",
      " 'thus , there is no reason to believe that the mass action provision would affect any vioxx-related cases whatsoever .']\n"
     ]
    }
   ],
   "source": [
    "for v in test[test.label == 'conservative'].sample(5).values:\n",
    "    print(v)"
   ]
  },
  {
   "cell_type": "code",
   "execution_count": 32,
   "metadata": {},
   "outputs": [
    {
     "name": "stdout",
     "output_type": "stream",
     "text": [
      "['neutral'\n",
      " 'we should be very proud that , on this issue , such diverse groups as the aclu , the american conservative union , the gun owners of america , the u.s. chamber of commerce , the american library association and the american book sellers association have come together to say to congress , please support the senate version .']\n",
      "['neutral'\n",
      " \"according to a recent report from the department of labor 's bureau of labor statistics , over the next decade , seven out of the 10 fastest-growing occupations will be low-paying , low-skilled jobs that do not require a college education .\"]\n",
      "['neutral'\n",
      " 'president george bush has not created one new job in the private sector since he has been in office ; he has lost jobs .']\n",
      "['neutral'\n",
      " 'mr. speaker , can i inquire again as to how much time remains ?']\n",
      "['neutral'\n",
      " 'i am not going to suggest that trade alone is the only reason for the decline of the middle class .']\n"
     ]
    }
   ],
   "source": [
    "for v in test[test.label == 'neutral'].sample(5).values:\n",
    "    print(v)"
   ]
  },
  {
   "cell_type": "code",
   "execution_count": null,
   "metadata": {},
   "outputs": [],
   "source": []
  }
 ],
 "metadata": {
  "kernelspec": {
   "display_name": "Python 3",
   "language": "python",
   "name": "python3"
  },
  "language_info": {
   "codemirror_mode": {
    "name": "ipython",
    "version": 3
   },
   "file_extension": ".py",
   "mimetype": "text/x-python",
   "name": "python",
   "nbconvert_exporter": "python",
   "pygments_lexer": "ipython3",
   "version": "3.7.3"
  }
 },
 "nbformat": 4,
 "nbformat_minor": 2
}
