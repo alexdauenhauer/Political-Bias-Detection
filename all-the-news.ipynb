{
 "cells": [
  {
   "cell_type": "code",
   "execution_count": 1,
   "metadata": {},
   "outputs": [
    {
     "name": "stderr",
     "output_type": "stream",
     "text": [
      "[nltk_data] Downloading package punkt to /home/alex/nltk_data...\n",
      "[nltk_data]   Package punkt is already up-to-date!\n"
     ]
    },
    {
     "data": {
      "text/plain": [
       "True"
      ]
     },
     "execution_count": 1,
     "metadata": {},
     "output_type": "execute_result"
    }
   ],
   "source": [
    "import pandas as pd\n",
    "# import matplotlib.pyplot as plt\n",
    "import nltk\n",
    "import time, os, pickle\n",
    "from nltk.tokenize import word_tokenize, sent_tokenize\n",
    "from itertools import combinations, permutations\n",
    "# plt.style.use('ggplot')\n",
    "nltk.download('punkt')"
   ]
  },
  {
   "cell_type": "markdown",
   "metadata": {},
   "source": [
    "# import data"
   ]
  },
  {
   "cell_type": "code",
   "execution_count": 2,
   "metadata": {},
   "outputs": [
    {
     "data": {
      "text/plain": [
       "(142570, 10)"
      ]
     },
     "execution_count": 2,
     "metadata": {},
     "output_type": "execute_result"
    }
   ],
   "source": [
    "df1 = pd.read_csv(r'../all-the-news/articles1.csv')\n",
    "df2 = pd.read_csv(r'../all-the-news/articles2.csv')\n",
    "df3 = pd.read_csv(r'../all-the-news/articles3.csv')\n",
    "df = df1.append(df2).append(df3)\n",
    "df.index = range(df.shape[0])\n",
    "del df1, df2, df3\n",
    "df.shape"
   ]
  },
  {
   "cell_type": "code",
   "execution_count": 3,
   "metadata": {},
   "outputs": [
    {
     "data": {
      "text/html": [
       "<div>\n",
       "<style scoped>\n",
       "    .dataframe tbody tr th:only-of-type {\n",
       "        vertical-align: middle;\n",
       "    }\n",
       "\n",
       "    .dataframe tbody tr th {\n",
       "        vertical-align: top;\n",
       "    }\n",
       "\n",
       "    .dataframe thead th {\n",
       "        text-align: right;\n",
       "    }\n",
       "</style>\n",
       "<table border=\"1\" class=\"dataframe\">\n",
       "  <thead>\n",
       "    <tr style=\"text-align: right;\">\n",
       "      <th></th>\n",
       "      <th>Unnamed: 0</th>\n",
       "      <th>id</th>\n",
       "      <th>title</th>\n",
       "      <th>publication</th>\n",
       "      <th>author</th>\n",
       "      <th>date</th>\n",
       "      <th>year</th>\n",
       "      <th>month</th>\n",
       "      <th>url</th>\n",
       "      <th>content</th>\n",
       "    </tr>\n",
       "  </thead>\n",
       "  <tbody>\n",
       "    <tr>\n",
       "      <th>132003</th>\n",
       "      <td>135466</td>\n",
       "      <td>204709</td>\n",
       "      <td>White House says Mexico border wall might be f...</td>\n",
       "      <td>Washington Post</td>\n",
       "      <td>Joshua Partlow</td>\n",
       "      <td>2017-01-26</td>\n",
       "      <td>2017.0</td>\n",
       "      <td>1.0</td>\n",
       "      <td>https://web.archive.org/web/20170127000123/htt...</td>\n",
       "      <td>MEXICO CITY  —   A deep rift opened Thursday...</td>\n",
       "    </tr>\n",
       "    <tr>\n",
       "      <th>106518</th>\n",
       "      <td>109978</td>\n",
       "      <td>164052</td>\n",
       "      <td>Student Loans: You’ve Got Questions, We’ve Got...</td>\n",
       "      <td>NPR</td>\n",
       "      <td>Anya Kamenetz</td>\n",
       "      <td>2017-04-23</td>\n",
       "      <td>2017.0</td>\n",
       "      <td>4.0</td>\n",
       "      <td>http://www.npr.org/sections/ed/2017/04/23/5250...</td>\n",
       "      <td>With student debt at a staggering $1. 3 trilli...</td>\n",
       "    </tr>\n",
       "    <tr>\n",
       "      <th>76904</th>\n",
       "      <td>80361</td>\n",
       "      <td>121330</td>\n",
       "      <td>Trump Is Losing because He’s Losing — Not beca...</td>\n",
       "      <td>National Review</td>\n",
       "      <td>Kevin D. Williamson</td>\n",
       "      <td>2016-10-19</td>\n",
       "      <td>2016.0</td>\n",
       "      <td>10.0</td>\n",
       "      <td>http://www.nationalreview.com/article/441193/d...</td>\n",
       "      <td>Donald Trump protests that his ascent to the W...</td>\n",
       "    </tr>\n",
       "    <tr>\n",
       "      <th>7801</th>\n",
       "      <td>7801</td>\n",
       "      <td>26537</td>\n",
       "      <td>U.S. Presses for Truce in Syria, With Its Larg...</td>\n",
       "      <td>New York Times</td>\n",
       "      <td>Mark Landler and Mark Mazzetti</td>\n",
       "      <td>2017-03-08</td>\n",
       "      <td>2017.0</td>\n",
       "      <td>3.0</td>\n",
       "      <td>NaN</td>\n",
       "      <td>HANGZHOU, China  —   The image of a    Syrian ...</td>\n",
       "    </tr>\n",
       "    <tr>\n",
       "      <th>43800</th>\n",
       "      <td>46616</td>\n",
       "      <td>65717</td>\n",
       "      <td>Trump announces he won’t attend this year’s Wh...</td>\n",
       "      <td>Business Insider</td>\n",
       "      <td>NaN</td>\n",
       "      <td>2017-02-26</td>\n",
       "      <td>2017.0</td>\n",
       "      <td>2.0</td>\n",
       "      <td>NaN</td>\n",
       "      <td>’  ’ ”   President Donald Trump on Saturday  t...</td>\n",
       "    </tr>\n",
       "  </tbody>\n",
       "</table>\n",
       "</div>"
      ],
      "text/plain": [
       "        Unnamed: 0      id                                              title  \\\n",
       "132003      135466  204709  White House says Mexico border wall might be f...   \n",
       "106518      109978  164052  Student Loans: You’ve Got Questions, We’ve Got...   \n",
       "76904        80361  121330  Trump Is Losing because He’s Losing — Not beca...   \n",
       "7801          7801   26537  U.S. Presses for Truce in Syria, With Its Larg...   \n",
       "43800        46616   65717  Trump announces he won’t attend this year’s Wh...   \n",
       "\n",
       "             publication                          author        date    year  \\\n",
       "132003   Washington Post                  Joshua Partlow  2017-01-26  2017.0   \n",
       "106518               NPR                   Anya Kamenetz  2017-04-23  2017.0   \n",
       "76904    National Review             Kevin D. Williamson  2016-10-19  2016.0   \n",
       "7801      New York Times  Mark Landler and Mark Mazzetti  2017-03-08  2017.0   \n",
       "43800   Business Insider                             NaN  2017-02-26  2017.0   \n",
       "\n",
       "        month                                                url  \\\n",
       "132003    1.0  https://web.archive.org/web/20170127000123/htt...   \n",
       "106518    4.0  http://www.npr.org/sections/ed/2017/04/23/5250...   \n",
       "76904    10.0  http://www.nationalreview.com/article/441193/d...   \n",
       "7801      3.0                                                NaN   \n",
       "43800     2.0                                                NaN   \n",
       "\n",
       "                                                  content  \n",
       "132003    MEXICO CITY  —   A deep rift opened Thursday...  \n",
       "106518  With student debt at a staggering $1. 3 trilli...  \n",
       "76904   Donald Trump protests that his ascent to the W...  \n",
       "7801    HANGZHOU, China  —   The image of a    Syrian ...  \n",
       "43800   ’  ’ ”   President Donald Trump on Saturday  t...  "
      ]
     },
     "execution_count": 3,
     "metadata": {},
     "output_type": "execute_result"
    }
   ],
   "source": [
    "df.sample(5)"
   ]
  },
  {
   "cell_type": "code",
   "execution_count": 4,
   "metadata": {},
   "outputs": [
    {
     "data": {
      "text/plain": [
       "array(['New York Times', 'Breitbart', 'CNN', 'Business Insider',\n",
       "       'Atlantic', 'Fox News', 'Talking Points Memo', 'Buzzfeed News',\n",
       "       'National Review', 'New York Post', 'Guardian', 'NPR', 'Reuters',\n",
       "       'Vox', 'Washington Post'], dtype=object)"
      ]
     },
     "execution_count": 4,
     "metadata": {},
     "output_type": "execute_result"
    }
   ],
   "source": [
    "df.publication.unique()"
   ]
  },
  {
   "cell_type": "markdown",
   "metadata": {},
   "source": [
    "# Define bias of each publication based on mediabiasfactcheck.com"
   ]
  },
  {
   "cell_type": "code",
   "execution_count": 5,
   "metadata": {},
   "outputs": [],
   "source": [
    "# actual labels from MBFC\n",
    "bias_dict = {\n",
    "    'New York Times': 'left-center',\n",
    "    'Breitbart': 'extreme-right',\n",
    "    'CNN': 'left',\n",
    "    'Business Insider': 'left-center',\n",
    "    'Atlantic': 'left-center',\n",
    "    'Fox News': 'right',\n",
    "    'Talking Points Memo': 'left',\n",
    "    'Buzzfeed News': 'left-center',\n",
    "    'National Review': 'right',\n",
    "    'New York Post': 'right-center',\n",
    "    'Guardian': 'left-center',\n",
    "    'NPR': 'left-center',\n",
    "    'Reuters': 'neutral',\n",
    "    'Vox': 'left',\n",
    "    'Washington Post': 'left-center'\n",
    "}"
   ]
  },
  {
   "cell_type": "code",
   "execution_count": 6,
   "metadata": {},
   "outputs": [
    {
     "name": "stdout",
     "output_type": "stream",
     "text": [
      "New York Times liberal\n",
      "Breitbart conservative\n",
      "CNN liberal\n",
      "Business Insider liberal\n",
      "Atlantic liberal\n",
      "Fox News conservative\n",
      "Talking Points Memo liberal\n",
      "Buzzfeed News liberal\n",
      "National Review conservative\n",
      "New York Post conservative\n",
      "Guardian liberal\n",
      "NPR liberal\n",
      "Reuters neutral\n",
      "Vox liberal\n",
      "Washington Post liberal\n"
     ]
    }
   ],
   "source": [
    "# simplified labels\n",
    "for k,v in bias_dict.items():\n",
    "    if 'left' in v:\n",
    "        bias_dict[k] = 'liberal'\n",
    "    elif 'right' in v:\n",
    "        bias_dict[k] = 'conservative'\n",
    "    else:\n",
    "        bias_dict[k] = 'neutral'\n",
    "for k,v in bias_dict.items():\n",
    "    print(k,v)"
   ]
  },
  {
   "cell_type": "code",
   "execution_count": 7,
   "metadata": {},
   "outputs": [],
   "source": [
    "# load in the bigrams and lexicons\n",
    "datapath = r'../data'\n",
    "# with open(os.path.join(datapath, 'libCons.pickle'), 'rb') as f:\n",
    "#     libCons = pickle.load(f)\n",
    "# with open(os.path.join(datapath, 'conCons.pickle'), 'rb') as f:\n",
    "#     conCons = pickle.load(f)\n",
    "# with open(os.path.join(datapath, 'libGrams.pickle'), 'rb') as f:\n",
    "#     libGrams = pickle.load(f)\n",
    "# with open(os.path.join(datapath, 'conGrams.pickle'), 'rb') as f:\n",
    "#     conGrams = pickle.load(f)\n",
    "with open(os.path.join(datapath, 'libCons2.pickle'), 'rb') as f:\n",
    "    libCons = pickle.load(f)\n",
    "with open(os.path.join(datapath, 'conCons2.pickle'), 'rb') as f:\n",
    "    conCons = pickle.load(f)\n",
    "with open(os.path.join(datapath, 'libGrams2.pickle'), 'rb') as f:\n",
    "    libGrams = pickle.load(f)\n",
    "with open(os.path.join(datapath, 'conGrams2.pickle'), 'rb') as f:\n",
    "    conGrams = pickle.load(f)"
   ]
  },
  {
   "cell_type": "code",
   "execution_count": 8,
   "metadata": {},
   "outputs": [
    {
     "data": {
      "text/plain": [
       "(23, 85, 9, 63)"
      ]
     },
     "execution_count": 8,
     "metadata": {},
     "output_type": "execute_result"
    }
   ],
   "source": [
    "len(libCons), len(libGrams), len(conCons), len(conGrams)"
   ]
  },
  {
   "cell_type": "markdown",
   "metadata": {},
   "source": [
    "# testing"
   ]
  },
  {
   "cell_type": "code",
   "execution_count": 93,
   "metadata": {},
   "outputs": [
    {
     "data": {
      "text/plain": [
       "0"
      ]
     },
     "execution_count": 93,
     "metadata": {},
     "output_type": "execute_result"
    }
   ],
   "source": [
    "s = ['the']\n",
    "len(set(s).intersection(libCons)) + len(set(s).intersection(conCons))"
   ]
  },
  {
   "cell_type": "code",
   "execution_count": 100,
   "metadata": {},
   "outputs": [],
   "source": [
    "def extractContent(row,n=None):\n",
    "    sentList = []\n",
    "#     label = bias_dict[row.publication]\n",
    "    try:\n",
    "        sentences = sent_tokenize(row.content)\n",
    "    except:\n",
    "        sentences = []\n",
    "    sentences.append(row.title)\n",
    "    for s in sentences:\n",
    "        try:\n",
    "            words = word_tokenize(s)\n",
    "            words = [w.lower() for w in words]\n",
    "            bigrams = []\n",
    "            for i in range(len(words) - 1):\n",
    "                bigrams.append(' '.join((words[i], words[i+1])))\n",
    "        except:\n",
    "            words = []\n",
    "        libConsPresent = set(words).intersection(libCons)\n",
    "        libGramsPresent = set(bigrams).intersection(libGrams)\n",
    "        conConsPresent = set(words).intersection(conCons)\n",
    "        conGramsPresent = set(bigrams).intersection(conGrams)\n",
    "        libNum = len(libConsPresent) + len(libGramsPresent)\n",
    "        conNum = len(conConsPresent) + len(conGramsPresent)\n",
    "        if libNum == conNum:\n",
    "            label = 'neutral'\n",
    "        elif libNum > conNum:\n",
    "            label = 'liberal'\n",
    "        else:\n",
    "            label = 'conservative'\n",
    "        sentList.append((label, s))\n",
    "#         if label == 'liberal':\n",
    "#             if n:\n",
    "#                 lexPresent = set(words).intersection(libCons[:n])\n",
    "#                 gramsPresent = set(bigrams).intersection(libGrams[:n])\n",
    "#             else:\n",
    "#                 lexPresent = set(words).intersection(libCons)\n",
    "#                 gramsPresent = set(bigrams).intersection(libGrams)\n",
    "#             if lexPresent and gramsPresent:\n",
    "#                 sentList.append((label, s, lexPresent, gramsPresent))\n",
    "#         elif label == 'conservative':\n",
    "#             if n:\n",
    "#                 lexPresent = set(words).intersection(conCons[:n])\n",
    "#                 gramsPresent = set(bigrams).intersection(conGrams[:n])\n",
    "#             else:\n",
    "#                 lexPresent = set(words).intersection(conCons)\n",
    "#                 gramsPresent = set(bigrams).intersection(conGrams)\n",
    "#             if lexPresent and gramsPresent:\n",
    "#                 sentList.append((label, s, lexPresent, gramsPresent))\n",
    "#         else:\n",
    "#             lexPresent = set(words).intersection(set(libCons).union(conCons))\n",
    "#             gramsPresent = set(bigrams).intersection(set(libGrams).union(conGrams))\n",
    "#             if not lexPresent and not gramsPresent:\n",
    "#                 sentList.append((label, s, lexPresent, gramsPresent))\n",
    "    return sentList"
   ]
  },
  {
   "cell_type": "code",
   "execution_count": 101,
   "metadata": {},
   "outputs": [
    {
     "data": {
      "text/plain": [
       "Unnamed: 0                                                 10169\n",
       "id                                                         28905\n",
       "title          MILO: Trump Slims Down Lena Dunham. Is There A...\n",
       "publication                                            Breitbart\n",
       "author                                                      Milo\n",
       "date                                                  2017-02-07\n",
       "year                                                        2017\n",
       "month                                                          2\n",
       "url                                                          NaN\n",
       "content        Lena Dunham claims (claims!) she is losing wei...\n",
       "Name: 10169, dtype: object"
      ]
     },
     "execution_count": 101,
     "metadata": {},
     "output_type": "execute_result"
    }
   ],
   "source": [
    "sample = df.loc[df.publication == 'Breitbart'].sample().iloc[0]\n",
    "sample"
   ]
  },
  {
   "cell_type": "code",
   "execution_count": 102,
   "metadata": {},
   "outputs": [
    {
     "data": {
      "text/plain": [
       "(53, 52)"
      ]
     },
     "execution_count": 102,
     "metadata": {},
     "output_type": "execute_result"
    }
   ],
   "source": [
    "sentList = extractContent(sample)\n",
    "len(sentList), len(sent_tokenize(sample.content))"
   ]
  },
  {
   "cell_type": "code",
   "execution_count": 105,
   "metadata": {},
   "outputs": [
    {
     "name": "stdout",
     "output_type": "stream",
     "text": [
      "28 ('conservative', 'In the past she was content to be a typical feminist    and an ugly poster child for the body positivity movement.')\n",
      "29 ('liberal', 'But since the election she has vomited forth a steady stream of hysteria and worse.')\n"
     ]
    }
   ],
   "source": [
    "for i,s in enumerate(sentList):\n",
    "    if s[0] != 'neutral':\n",
    "        print(i,s)"
   ]
  },
  {
   "cell_type": "code",
   "execution_count": 104,
   "metadata": {},
   "outputs": [
    {
     "name": "stdout",
     "output_type": "stream",
     "text": [
      "0 Lena Dunham claims (claims!)\n",
      "1 she is losing weight because Donald Trump has convinced her not to eat.\n",
      "2 The Catholic church won’t declare a person a saint until after their death, but if this extraordinary statement is true, maybe a miracle of this magnitude deserves an exception?\n",
      "3 [Dunham revealed the news on the Howard Stern Show, during which the actress went through her tired   routine of explaining that promising to move to Canada was “just a joke.\n",
      "4 ” She also said Hillary Clinton was “the best qualified candidate we’ve ever had.\n",
      "5 ”  But in the middle of her schtick, an amazing revelation emerged.\n",
      "6 Lena said “Donald Trump became president and I stopped being able to eat food  …    Everyone’s been asking like, ‘What have you been doing?’ And I’m like, try   pain and devastation and hopelessness and you, too, will lose weight.\n",
      "7 ” Now that we’ve collectively pulled ourselves together, stopped guffawing and picked the sick out of our keyboards, let’s unpack that statement for a moment.\n",
      "8 None of us really believes that Lena Dunham can stay off cheeseburgers for long.\n",
      "9 But if it is true, Trump’s achievement is on par with curing the sick and returning sight to the blind.\n",
      "10 You’ll recall that when Lena made disgusting comments about abortion, her excuse was that they were said as part of a “delusional girl persona” she “often inhabits.\n",
      "11 ” Perhaps these weight loss comments were made as part of another persona, one that doesn’t want to die lonely and far too young due to obesity and feminism  …     but I repeat myself.\n",
      "12 I’ve had my   with Dunham.\n",
      "13 Without a doubt she is one of the best examples of how feminism attracts ugly women.\n",
      "14 I even offered to buy her ticket to Canada before she explained it was all of course just a joke.\n",
      "15 Before the election, I used my Dangerous Faggot college tour stop at Ohio University to point out something Dunham was serious about  —   the extinction of white men.\n",
      "16 Maybe the real reason she’s lost her appetite is that she realized her antics directly contributed to Daddy’s election!\n",
      "17 A reasonable person at this point would say, “Why should we pay any attention to Lena Dunham at all?” And it is a fair question.\n",
      "18 Her HBO series Girls is long gone, and her lack of comedic chops and acting skill ensures she won’t have a serious career outside of small parts given to her out of pity and ideological sisterhood by   producers and directors.\n",
      "19 As President Donald Trump correctly put it,”Well, she’s a  .\n",
      "20 You know, she has no  —   you know, no mojo.\n",
      "21 ” One could argue she has no mojo because that would be cultural appropriation from indigenous tribes, but either way, she certainly lacks the elusive star factor needed in Hollywood.\n",
      "22 But I’d argue Lena Dunham is an important person to keep an eye on, even now, because she represents the continued lunacy of the left and the progressive march off the cliff.\n",
      "23 They’ve doubled down on stupidity, and little lost Lena is a perfect case study of the terrible  .\n",
      "24 (I say “keep an eye on,” but I mean this metaphorically.\n",
      "25 Even a few Lena Dunham photos can cause irreparable mental scarring and random malfunctions in the optic nerve.)\n",
      "26 Dunham has also revealed herself to be something of a chameleon, which is another reason we ought not count her out just yet.\n",
      "27 Consider the drastic changes she has undergone since the election.\n",
      "28 In the past she was content to be a typical feminist    and an ugly poster child for the body positivity movement.\n",
      "29 But since the election she has vomited forth a steady stream of hysteria and worse.\n",
      "30 Her immediate reaction to the election was to blame her fellow white women for the loss, inventing a new privilege called violent privilege to do so.\n",
      "31 It is certainly instructive that the sisterhood falls apart at the first sign of trouble.\n",
      "32 Dunham then posted a selfie while sitting on a toilet in December.\n",
      "33 It was a torrid cry for help from a frightened little girl  —   not a brave move from an empowered woman.\n",
      "34 She had no clue why people didn’t applaud her for it, either.\n",
      "35 Just a few weeks into the Trump presidency and the porcine princess of progressive politics is on hunger strike.\n",
      "36 What’s not to love?\n",
      "37 And what could be coming next?\n",
      "38 It’s all just so exciting.\n",
      "39 Because the deterioration of Lena’s piddling reserves of sanity is speeding up.\n",
      "40 Will she next be spotted “punching a Nazi” (i. e. anyone to the right of Jane Fonda)?\n",
      "41 Will she run for the Senate against Al Franken, because he isn’t unfunny enough to be the left’s former star in Washington?\n",
      "42 Who can say!\n",
      "43 I guess there’s a chance she will calm down and moderate her politics instead of attempting to further divide America.\n",
      "44 But realistically, there is a higher chance of me doing a photoshoot naked in a public bathroom eating cake.\n",
      "45 Not that such a shoot wouldn’t be, like, super hot.\n",
      "46 DANGEROUS is available to   now via Amazon, in hardcover and Kindle editions.\n",
      "47 And yes, MILO is reading the audiobook version himself!\n",
      "48 Follow Milo Yiannopoulos (@Nero) on Facebook, Instagram and Snapchat.\n",
      "49 Hear him every Friday on The Milo Yiannopoulos Show.\n",
      "50 Write to Milo at milo@breitbart.\n",
      "51 com.\n"
     ]
    }
   ],
   "source": [
    "for i,s in enumerate(sent_tokenize(sample.content)):\n",
    "    print(i,s)"
   ]
  },
  {
   "cell_type": "code",
   "execution_count": null,
   "metadata": {},
   "outputs": [],
   "source": []
  },
  {
   "cell_type": "code",
   "execution_count": 109,
   "metadata": {},
   "outputs": [
    {
     "data": {
      "text/plain": [
       "(32, 2)"
      ]
     },
     "execution_count": 109,
     "metadata": {},
     "output_type": "execute_result"
    }
   ],
   "source": [
    "# testing\n",
    "sample = df.sample(20)\n",
    "sents = []\n",
    "for i in range(20):\n",
    "    sentList = extractContent(sample.iloc[i])\n",
    "    sents.extend(sentList)\n",
    "df2 = pd.DataFrame(sents, columns=['label','text'])\n",
    "df2[df2.label != 'neutral'].shape"
   ]
  },
  {
   "cell_type": "code",
   "execution_count": 111,
   "metadata": {},
   "outputs": [
    {
     "name": "stdout",
     "output_type": "stream",
     "text": [
      "0 ['conservative'\n",
      " 'It’s believed that the   tomb at the heart of the church was where the body of Jesus Christ was once laid.']\n",
      "1 ['conservative'\n",
      " 'My knees are shaking a little bit because I wasn’t expecting this,” Fredrik Hiebert, National Geographic’s    is quoted by the publication’s website.']\n",
      "2 ['conservative'\n",
      " 'Today, Egypt’s current president Abdel Fattah   is many of the things Mubarak never was: ambitious, zealous, unforgiving, coupled with that sense of grandeur and destiny that the most brutal autocrats always seem to possess.']\n",
      "3 ['conservative' '.. and this area is enclosed with a chained fence.']\n",
      "4 ['conservative'\n",
      " 'Holloway: Well I kept looking at it and looking at the facts and what he said, and I thought, man, I can’t go here because I’ve gone through so many of these where they had details and facts and it turned out to be nothing.']\n",
      "5 ['liberal'\n",
      " 'We were kind of blocked in the areas that we wanted to do the search so it was kind of a failed mission I guess, so to speak.']\n",
      "6 ['conservative'\n",
      " '” The DNC won’t just be hosting   house parties, but will also be pumping money, in the form of grants, into state party programs.']\n",
      "7 ['liberal'\n",
      " '[Reporter Lisa Mascaro of the Tribune news service called it “the most sizable shifts of partisan allegiance ever in Pennsylvania.']\n",
      "8 ['liberal'\n",
      " '” “They feel frustrated, they feel left behind,” Madonna added.']\n",
      "9 ['liberal'\n",
      " '“Democrats still hold a more than   advantage over the Republicans in Pennsylvania,” Mascaro reports.']\n",
      "10 ['conservative'\n",
      " '” In April 2012, President Obama signed an executive order imposing sanctions on telecom sales to Iran and Syria.']\n",
      "11 ['conservative'\n",
      " 'Liodice, the chief executive of the Association of National Advertisers, won’t be the most popular man in this tony resort town on the Mediterranean as the advertising industry holds it summer camp  —   better known as Cannes Lions.']\n",
      "12 ['conservative'\n",
      " 'The political crisis has erupted at a time when Brazil had planned to be shining on the world stage, as it prepares to host the Olympic Games in Rio de Janeiro in August.']\n",
      "13 ['liberal'\n",
      " 'That meant Cardozo’s appeal to the top court may be the president’s best hope of stopping the process from moving forward.']\n",
      "14 ['conservative'\n",
      " 'The legality of Rousseff’s imminent removal from office was questioned by the secretary general of the Organization of American States, Luis Almagro, who said he would seek the legal opinion of the   Human Rights Court.']\n",
      "15 ['liberal'\n",
      " 'Temer aides said on Tuesday that he will stick to plans to cut the number of government ministries to 22 from 32 to show his commitment to plugging a widening fiscal deficit that cost Brazil’s its prized   credit rating.']\n",
      "16 ['conservative'\n",
      " 'Rousseff’s opponents have more than the 41 votes needed to launch her trial in the upper chamber, and they are confident they can muster   of the body’s 81 senators, or 54, needed to unseat the unpopular president at the end of a trial.']\n",
      "17 ['liberal'\n",
      " '” Election year 1996 would see Clinton triangulate both against congressional Republicans perceived as too eager to cut taxes for the rich and congressional Democrats perceived as too narrowly attentive to the minorities and the poor.']\n",
      "18 ['liberal'\n",
      " 'Clinton would uphold the values of the middle class —  school uniforms for children in poor schools —  and champion their concerns: Medicare, Medicaid, the economy, and the environment.']\n",
      "19 ['conservative'\n",
      " 'Trump may not be as   or as   as Bill Clinton, but the survivor of multiple brushes with bankruptcy has certainly proven himself a canny survivor with a shrewd awareness of his opponents’ weaknesses.']\n",
      "20 ['liberal'\n",
      " 'He accepted Paul Ryan’s   healthcare plan as his own first priority —  and promptly suffered a worse beating than he ever inflicted.']\n",
      "21 ['liberal' 'His White House lacks policy expertise, to put it mildly.']\n",
      "22 ['liberal'\n",
      " 'I challenge all our schools to teach character education, to teach good values and good citizenship.']\n",
      "23 ['liberal'\n",
      " 'Trump retains his grip on the Republican caucus in Congress and the   conservative media complex.']\n",
      "24 ['liberal'\n",
      " 'As embarrassing as it is that the health bill collapsed, it would have been far worse for him politically had it passed.']\n",
      "25 ['liberal'\n",
      " 'If he fails, he will then face lethal dangers: meaningful investigation, backed by subpoenas.']\n",
      "26 ['liberal'\n",
      " 'As you suggested, other channels have the White House counsel give it to Trump’s incoming White House counsel.']\n",
      "27 ['liberal'\n",
      " 'The 90s saw him work with Martin Scorsese in The Age of Innocence, Michael Mann in Last of the Mohicans and again with the My Left Foot director Jim Sheridan, in In the Name of the Father and The Boxer.']\n",
      "28 ['conservative'\n",
      " 'The following decade, he worked with Scorsese again in Gangs of New York and won two further best actor Oscars for There Will Be Blood and Lincoln.']\n",
      "29 ['liberal'\n",
      " '” Although “the Cal State Channel Islands student’s body has been released to her family, the cause of her death still hasn’t been determined.']\n",
      "30 ['liberal'\n",
      " '“It’s not just us that learn the lessons, it’s the Islamic State as well,” said the   official.']\n",
      "31 ['liberal'\n",
      " 'Nehlen can gain traction on those issues because of Ryan’s decisions since he’s been at the top of House leadership, responsible in part for crafting a national bipartisan agenda with the   White House.']\n"
     ]
    }
   ],
   "source": [
    "for i,t in enumerate(df2[df2.label != 'neutral'].values):\n",
    "    print(i,t)"
   ]
  },
  {
   "cell_type": "code",
   "execution_count": 114,
   "metadata": {},
   "outputs": [],
   "source": [
    "def extractSentences(df,n=None):\n",
    "    output = []\n",
    "    for i in range(df.shape[0]):\n",
    "        if n:\n",
    "            sentList = extractContent(df.iloc[i],n)\n",
    "        else:\n",
    "            sentList = extractContent(df.iloc[i])\n",
    "        output.extend(sentList)\n",
    "    df = pd.DataFrame(output, columns=['label','text'])\n",
    "    return df"
   ]
  },
  {
   "cell_type": "code",
   "execution_count": null,
   "metadata": {},
   "outputs": [],
   "source": [
    "# start = time.time()\n",
    "# df1 = extractSentences(df,50)\n",
    "# print('runtime (min): ', (time.time() - start) / 60)\n",
    "# df1.groupby('label').count()"
   ]
  },
  {
   "cell_type": "code",
   "execution_count": 115,
   "metadata": {},
   "outputs": [
    {
     "name": "stdout",
     "output_type": "stream",
     "text": [
      "runtime (min):  19.849251770973204\n"
     ]
    },
    {
     "data": {
      "text/html": [
       "<div>\n",
       "<style scoped>\n",
       "    .dataframe tbody tr th:only-of-type {\n",
       "        vertical-align: middle;\n",
       "    }\n",
       "\n",
       "    .dataframe tbody tr th {\n",
       "        vertical-align: top;\n",
       "    }\n",
       "\n",
       "    .dataframe thead th {\n",
       "        text-align: right;\n",
       "    }\n",
       "</style>\n",
       "<table border=\"1\" class=\"dataframe\">\n",
       "  <thead>\n",
       "    <tr style=\"text-align: right;\">\n",
       "      <th></th>\n",
       "      <th>text</th>\n",
       "    </tr>\n",
       "    <tr>\n",
       "      <th>label</th>\n",
       "      <th></th>\n",
       "    </tr>\n",
       "  </thead>\n",
       "  <tbody>\n",
       "    <tr>\n",
       "      <th>conservative</th>\n",
       "      <td>124818</td>\n",
       "    </tr>\n",
       "    <tr>\n",
       "      <th>liberal</th>\n",
       "      <td>292533</td>\n",
       "    </tr>\n",
       "    <tr>\n",
       "      <th>neutral</th>\n",
       "      <td>4795360</td>\n",
       "    </tr>\n",
       "  </tbody>\n",
       "</table>\n",
       "</div>"
      ],
      "text/plain": [
       "                 text\n",
       "label                \n",
       "conservative   124818\n",
       "liberal        292533\n",
       "neutral       4795360"
      ]
     },
     "execution_count": 115,
     "metadata": {},
     "output_type": "execute_result"
    }
   ],
   "source": [
    "start = time.time()\n",
    "df2 = extractSentences(df)\n",
    "print('runtime (min): ', (time.time() - start) / 60)\n",
    "df2.groupby('label').count()"
   ]
  },
  {
   "cell_type": "code",
   "execution_count": 116,
   "metadata": {},
   "outputs": [
    {
     "name": "stdout",
     "output_type": "stream",
     "text": [
      "0 ['liberal'\n",
      " '.. gives them that stamp of approval showing ’’if a big name brand designer is willing to collaborate with us and give us that stamp of approval,’’ that kind of trickles down to the customer and their perception of ’’it’’s okay to still shop here even if I [have] issues with [the company].']\n",
      "1 ['liberal'\n",
      " 'News institutions also serve a very valuable role for the Left in providing a place for people who have similar values to remain connected to the larger movement while still maintaining the independence from parties and advocacy groups that they desire.']\n",
      "2 ['conservative'\n",
      " 'I think everybody needs to understand: All people need is opportunity, and everyone’s willing to change with a little bit of hard work,” LaCourt says.']\n",
      "3 ['liberal'\n",
      " 'I love those people  …     It’s a big deal,” Trump said, noting that the reason they are turning to him is because “Hillary Clinton is the wrong messenger.']\n",
      "4 ['liberal'\n",
      " 'Unless you turn to the topic of student loans, in which case millennials sound about as moderate as Karl Marx.']\n",
      "5 ['conservative'\n",
      " '” Fueling the sudden rush of activity, the National Collegiate Athletic Association had threatened to withhold championship games from   state until 2022 unless lawmakers changed the existing law by Thursday.']\n",
      "6 ['liberal'\n",
      " 'Other states, including Alabama and Texas, have also waged legal battles in the courts to block Syrian refugees.']\n",
      "7 ['liberal'\n",
      " 'Asteak, the Easton lawyer, represented the student in the case (the student ultimately entered a diversionary program and was not convicted).']\n",
      "8 ['conservative'\n",
      " '”Places that were called ground zero for modern day slavery by federal prosecutors a few years ago are now cited by national and international human rights experts as the best work environment in U. S. agriculture,” she says.']\n",
      "9 ['liberal'\n",
      " 'The guns on our own hips represent our commitment to freedom, and this much I know: If law enforcement fails to defend our nation’s founding liberties, then, ultimately, an armed citizenry will.']\n",
      "10 ['conservative'\n",
      " 'There is in fact fire.” ”In working with our districts and in looking at the data, we just haven’t seen evidence of that kind of bad behavior here yet,” says Nate Schwartz, Tennessee’s chief data officer for education.']\n",
      "11 ['liberal'\n",
      " 'Last summer Matt Black left the Central Valley of California, where he lives, to travel 18, 000 miles across the US on a road trip that took him through 30 states and 70 of the poorest towns in America.']\n",
      "12 ['conservative'\n",
      " 'Go originated in Asia about 2, 500 years ago and is considered many, many times more complex than chess, which fell to AI back in 1997.']\n",
      "13 ['liberal'\n",
      " 'Police are looking for three people spotted in a black car near the scene.']\n",
      "14 ['liberal'\n",
      " 'It’s no fun to be secretary of defense if you have to constantly feud with the White House.']\n",
      "15 ['liberal'\n",
      " 'A call to that number went unanswered, and it was unclear if the social security card number belonged to Trump.']\n",
      "16 ['liberal'\n",
      " 'We hit them with bigger and bigger hammers, and they wear better and better hats,”  —  Michael Baym, a biologist, on how bacteria evolve to resist antibiotics.']\n",
      "17 ['liberal'\n",
      " 'They showed tonight they have no answers to the challenges facing Britain and that they would make pensioners and working people worse off.']\n",
      "18 ['liberal'\n",
      " 'The Girl Scouts ended up sleeping in the Eisenhower Executive Office Building, according to a White House official.']\n",
      "19 ['liberal'\n",
      " 'Here is where other nations may have something to offer the Trump administration and Congress as they seek to reverse this trend of bureaucratic lawmaking.']\n"
     ]
    }
   ],
   "source": [
    "sample = df2[df2.label != 'neutral'].sample(20)\n",
    "for i,t in enumerate(sample.values):\n",
    "    print(i,t)"
   ]
  },
  {
   "cell_type": "code",
   "execution_count": null,
   "metadata": {},
   "outputs": [],
   "source": []
  },
  {
   "cell_type": "code",
   "execution_count": null,
   "metadata": {},
   "outputs": [],
   "source": []
  },
  {
   "cell_type": "code",
   "execution_count": null,
   "metadata": {},
   "outputs": [],
   "source": [
    "# with open(r'../data/filteredNews_top50grams.pickle', 'wb') as f:\n",
    "#     pickle.dump(df1, f, pickle.HIGHEST_PROTOCOL)\n",
    "with open(r'../data/filteredNews_allgrams.pickle', 'wb') as f:\n",
    "    pickle.dump(df2, f, pickle.HIGHEST_PROTOCOL)"
   ]
  },
  {
   "cell_type": "code",
   "execution_count": null,
   "metadata": {},
   "outputs": [],
   "source": [
    "# with open(r'../data/filteredNews_top50grams.pickle', 'rb') as f:\n",
    "#     df1 = pickle.load(f)\n",
    "with open(r'../data/filteredNews_allgrams.pickle', 'rb') as f:\n",
    "    df2 = pickle.load(f)"
   ]
  },
  {
   "cell_type": "code",
   "execution_count": null,
   "metadata": {},
   "outputs": [],
   "source": [
    "df2.shape"
   ]
  },
  {
   "cell_type": "code",
   "execution_count": null,
   "metadata": {},
   "outputs": [],
   "source": []
  },
  {
   "cell_type": "code",
   "execution_count": null,
   "metadata": {},
   "outputs": [],
   "source": []
  },
  {
   "cell_type": "code",
   "execution_count": 12,
   "metadata": {},
   "outputs": [
    {
     "name": "stdout",
     "output_type": "stream",
     "text": [
      "/home/alex/Documents/MIDS/w266/final_project/w266_final_project\n"
     ]
    }
   ],
   "source": [
    "!pwd"
   ]
  },
  {
   "cell_type": "code",
   "execution_count": 17,
   "metadata": {},
   "outputs": [],
   "source": [
    "df.to_csv('filtered_sentences.csv')"
   ]
  },
  {
   "cell_type": "code",
   "execution_count": 18,
   "metadata": {},
   "outputs": [],
   "source": [
    "import pickle"
   ]
  },
  {
   "cell_type": "code",
   "execution_count": 26,
   "metadata": {},
   "outputs": [
    {
     "data": {
      "text/plain": [
       "0.7255961894989014"
      ]
     },
     "execution_count": 26,
     "metadata": {},
     "output_type": "execute_result"
    }
   ],
   "source": [
    "start = time.time()\n",
    "with open('filtered_sentences.pickle', 'wb') as f:\n",
    "    pickle.dump(df, f, pickle.HIGHEST_PROTOCOL)\n",
    "with open('filtered_sentences.pickle', 'rb') as f:\n",
    "    df2 = pickle.load(f)\n",
    "time.time() - start"
   ]
  },
  {
   "cell_type": "code",
   "execution_count": 27,
   "metadata": {},
   "outputs": [
    {
     "data": {
      "text/plain": [
       "4.2353599071502686"
      ]
     },
     "execution_count": 27,
     "metadata": {},
     "output_type": "execute_result"
    }
   ],
   "source": [
    "start = time.time()\n",
    "df.to_csv('filtered_sentences.csv')\n",
    "df3 = pd.read_csv('filtered_sentences.csv')\n",
    "time.time() - start"
   ]
  },
  {
   "cell_type": "code",
   "execution_count": 24,
   "metadata": {},
   "outputs": [],
   "source": [
    "with open('filtered_sentences.pickle', 'rb') as f:\n",
    "    df2 = pickle.load(f)"
   ]
  },
  {
   "cell_type": "code",
   "execution_count": 25,
   "metadata": {},
   "outputs": [
    {
     "data": {
      "text/html": [
       "<div>\n",
       "<style scoped>\n",
       "    .dataframe tbody tr th:only-of-type {\n",
       "        vertical-align: middle;\n",
       "    }\n",
       "\n",
       "    .dataframe tbody tr th {\n",
       "        vertical-align: top;\n",
       "    }\n",
       "\n",
       "    .dataframe thead th {\n",
       "        text-align: right;\n",
       "    }\n",
       "</style>\n",
       "<table border=\"1\" class=\"dataframe\">\n",
       "  <thead>\n",
       "    <tr style=\"text-align: right;\">\n",
       "      <th></th>\n",
       "      <th>label</th>\n",
       "      <th>text</th>\n",
       "    </tr>\n",
       "  </thead>\n",
       "  <tbody>\n",
       "    <tr>\n",
       "      <th>0</th>\n",
       "      <td>liberal</td>\n",
       "      <td>WASHINGTON  —   Congressional Republicans have...</td>\n",
       "    </tr>\n",
       "    <tr>\n",
       "      <th>1</th>\n",
       "      <td>liberal</td>\n",
       "      <td>The incoming Trump administration could choose...</td>\n",
       "    </tr>\n",
       "    <tr>\n",
       "      <th>2</th>\n",
       "      <td>liberal</td>\n",
       "      <td>In another twist, Donald J. Trump’s administra...</td>\n",
       "    </tr>\n",
       "    <tr>\n",
       "      <th>3</th>\n",
       "      <td>liberal</td>\n",
       "      <td>“Given that this pending litigation involves t...</td>\n",
       "    </tr>\n",
       "    <tr>\n",
       "      <th>4</th>\n",
       "      <td>liberal</td>\n",
       "      <td>“Upon taking office, the Trump administration ...</td>\n",
       "    </tr>\n",
       "  </tbody>\n",
       "</table>\n",
       "</div>"
      ],
      "text/plain": [
       "     label                                               text\n",
       "0  liberal  WASHINGTON  —   Congressional Republicans have...\n",
       "1  liberal  The incoming Trump administration could choose...\n",
       "2  liberal  In another twist, Donald J. Trump’s administra...\n",
       "3  liberal  “Given that this pending litigation involves t...\n",
       "4  liberal  “Upon taking office, the Trump administration ..."
      ]
     },
     "execution_count": 25,
     "metadata": {},
     "output_type": "execute_result"
    }
   ],
   "source": [
    "df2.head()"
   ]
  }
 ],
 "metadata": {
  "kernelspec": {
   "display_name": "Python 3",
   "language": "python",
   "name": "python3"
  },
  "language_info": {
   "codemirror_mode": {
    "name": "ipython",
    "version": 3
   },
   "file_extension": ".py",
   "mimetype": "text/x-python",
   "name": "python",
   "nbconvert_exporter": "python",
   "pygments_lexer": "ipython3",
   "version": "3.7.3"
  }
 },
 "nbformat": 4,
 "nbformat_minor": 2
}
