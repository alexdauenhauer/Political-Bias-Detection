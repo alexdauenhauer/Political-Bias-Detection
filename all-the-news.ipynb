{
 "cells": [
  {
   "cell_type": "code",
   "execution_count": 1,
   "metadata": {},
   "outputs": [
    {
     "name": "stderr",
     "output_type": "stream",
     "text": [
      "[nltk_data] Downloading package punkt to /home/alex/nltk_data...\n",
      "[nltk_data]   Package punkt is already up-to-date!\n"
     ]
    },
    {
     "data": {
      "text/plain": [
       "True"
      ]
     },
     "execution_count": 1,
     "metadata": {},
     "output_type": "execute_result"
    }
   ],
   "source": [
    "import pandas as pd\n",
    "# import matplotlib.pyplot as plt\n",
    "import nltk\n",
    "import time, os, pickle\n",
    "from nltk.tokenize import word_tokenize, sent_tokenize\n",
    "from itertools import combinations, permutations\n",
    "# plt.style.use('ggplot')\n",
    "nltk.download('punkt')"
   ]
  },
  {
   "cell_type": "markdown",
   "metadata": {},
   "source": [
    "# import data"
   ]
  },
  {
   "cell_type": "code",
   "execution_count": 3,
   "metadata": {},
   "outputs": [
    {
     "data": {
      "text/plain": [
       "(142570, 10)"
      ]
     },
     "execution_count": 3,
     "metadata": {},
     "output_type": "execute_result"
    }
   ],
   "source": [
    "df1 = pd.read_csv(r'../all-the-news/articles1.csv')\n",
    "df2 = pd.read_csv(r'../all-the-news/articles2.csv')\n",
    "df3 = pd.read_csv(r'../all-the-news/articles3.csv')\n",
    "df = df1.append(df2).append(df3)\n",
    "df.index = range(df.shape[0])\n",
    "del df1, df2, df3\n",
    "df.shape"
   ]
  },
  {
   "cell_type": "code",
   "execution_count": 4,
   "metadata": {},
   "outputs": [
    {
     "data": {
      "text/html": [
       "<div>\n",
       "<style scoped>\n",
       "    .dataframe tbody tr th:only-of-type {\n",
       "        vertical-align: middle;\n",
       "    }\n",
       "\n",
       "    .dataframe tbody tr th {\n",
       "        vertical-align: top;\n",
       "    }\n",
       "\n",
       "    .dataframe thead th {\n",
       "        text-align: right;\n",
       "    }\n",
       "</style>\n",
       "<table border=\"1\" class=\"dataframe\">\n",
       "  <thead>\n",
       "    <tr style=\"text-align: right;\">\n",
       "      <th></th>\n",
       "      <th>Unnamed: 0</th>\n",
       "      <th>id</th>\n",
       "      <th>title</th>\n",
       "      <th>publication</th>\n",
       "      <th>author</th>\n",
       "      <th>date</th>\n",
       "      <th>year</th>\n",
       "      <th>month</th>\n",
       "      <th>url</th>\n",
       "      <th>content</th>\n",
       "    </tr>\n",
       "  </thead>\n",
       "  <tbody>\n",
       "    <tr>\n",
       "      <th>91429</th>\n",
       "      <td>94888</td>\n",
       "      <td>140476</td>\n",
       "      <td>Jesse Owens’ inspiring story drives ‘Race’</td>\n",
       "      <td>New York Post</td>\n",
       "      <td>Kyle Smith</td>\n",
       "      <td>2016-02-18</td>\n",
       "      <td>2016.0</td>\n",
       "      <td>2.0</td>\n",
       "      <td>http://nypost.com/2016/02/18/jesse-owens-inspi...</td>\n",
       "      <td>Hitler didn’t actually snub Jesse Owens at the...</td>\n",
       "    </tr>\n",
       "    <tr>\n",
       "      <th>130178</th>\n",
       "      <td>133641</td>\n",
       "      <td>201703</td>\n",
       "      <td>It sure looks like Aetna quit Obamacare becaus...</td>\n",
       "      <td>Vox</td>\n",
       "      <td>Sarah Kliff</td>\n",
       "      <td>2016/8/17</td>\n",
       "      <td>2016.0</td>\n",
       "      <td>8.0</td>\n",
       "      <td>http://www.vox.com/2016/8/17/12515502/aetna-ob...</td>\n",
       "      <td>There has been a theory, circulating in Washi...</td>\n",
       "    </tr>\n",
       "    <tr>\n",
       "      <th>11574</th>\n",
       "      <td>11574</td>\n",
       "      <td>30310</td>\n",
       "      <td>AG Sessions: ’No Legal Problem’ with Imprisoni...</td>\n",
       "      <td>Breitbart</td>\n",
       "      <td>Edwin Mora</td>\n",
       "      <td>2017-03-09</td>\n",
       "      <td>2017.0</td>\n",
       "      <td>3.0</td>\n",
       "      <td>NaN</td>\n",
       "      <td>Attorney General (AG) Jeff Sessions indicated ...</td>\n",
       "    </tr>\n",
       "    <tr>\n",
       "      <th>126141</th>\n",
       "      <td>129604</td>\n",
       "      <td>194609</td>\n",
       "      <td>U.S. retail sales, industrial output data poin...</td>\n",
       "      <td>Reuters</td>\n",
       "      <td>Lucia Mutikani</td>\n",
       "      <td>2016-12-14</td>\n",
       "      <td>2016.0</td>\n",
       "      <td>12.0</td>\n",
       "      <td>http://www.reuters.com/article/us-usa-economy-...</td>\n",
       "      <td>U. S. retail sales barely rose in November an...</td>\n",
       "    </tr>\n",
       "    <tr>\n",
       "      <th>110685</th>\n",
       "      <td>114148</td>\n",
       "      <td>169006</td>\n",
       "      <td>Should We Really Be Keeping Cats And Dogs — An...</td>\n",
       "      <td>NPR</td>\n",
       "      <td>Barbara J. King</td>\n",
       "      <td>2016-05-05</td>\n",
       "      <td>2016.0</td>\n",
       "      <td>5.0</td>\n",
       "      <td>http://www.npr.org/sections/13.7/2016/05/05/47...</td>\n",
       "      <td>Bioethicist Jessica Pierce includes pets  —   ...</td>\n",
       "    </tr>\n",
       "  </tbody>\n",
       "</table>\n",
       "</div>"
      ],
      "text/plain": [
       "        Unnamed: 0      id                                              title  \\\n",
       "91429        94888  140476         Jesse Owens’ inspiring story drives ‘Race’   \n",
       "130178      133641  201703  It sure looks like Aetna quit Obamacare becaus...   \n",
       "11574        11574   30310  AG Sessions: ’No Legal Problem’ with Imprisoni...   \n",
       "126141      129604  194609  U.S. retail sales, industrial output data poin...   \n",
       "110685      114148  169006  Should We Really Be Keeping Cats And Dogs — An...   \n",
       "\n",
       "          publication           author        date    year  month  \\\n",
       "91429   New York Post       Kyle Smith  2016-02-18  2016.0    2.0   \n",
       "130178            Vox      Sarah Kliff   2016/8/17  2016.0    8.0   \n",
       "11574       Breitbart       Edwin Mora  2017-03-09  2017.0    3.0   \n",
       "126141        Reuters   Lucia Mutikani  2016-12-14  2016.0   12.0   \n",
       "110685            NPR  Barbara J. King  2016-05-05  2016.0    5.0   \n",
       "\n",
       "                                                      url  \\\n",
       "91429   http://nypost.com/2016/02/18/jesse-owens-inspi...   \n",
       "130178  http://www.vox.com/2016/8/17/12515502/aetna-ob...   \n",
       "11574                                                 NaN   \n",
       "126141  http://www.reuters.com/article/us-usa-economy-...   \n",
       "110685  http://www.npr.org/sections/13.7/2016/05/05/47...   \n",
       "\n",
       "                                                  content  \n",
       "91429   Hitler didn’t actually snub Jesse Owens at the...  \n",
       "130178   There has been a theory, circulating in Washi...  \n",
       "11574   Attorney General (AG) Jeff Sessions indicated ...  \n",
       "126141   U. S. retail sales barely rose in November an...  \n",
       "110685  Bioethicist Jessica Pierce includes pets  —   ...  "
      ]
     },
     "execution_count": 4,
     "metadata": {},
     "output_type": "execute_result"
    }
   ],
   "source": [
    "df.sample(5)"
   ]
  },
  {
   "cell_type": "code",
   "execution_count": 5,
   "metadata": {},
   "outputs": [
    {
     "data": {
      "text/plain": [
       "array(['New York Times', 'Breitbart', 'CNN', 'Business Insider',\n",
       "       'Atlantic', 'Fox News', 'Talking Points Memo', 'Buzzfeed News',\n",
       "       'National Review', 'New York Post', 'Guardian', 'NPR', 'Reuters',\n",
       "       'Vox', 'Washington Post'], dtype=object)"
      ]
     },
     "execution_count": 5,
     "metadata": {},
     "output_type": "execute_result"
    }
   ],
   "source": [
    "df.publication.unique()"
   ]
  },
  {
   "cell_type": "markdown",
   "metadata": {},
   "source": [
    "# Define bias of each publication based on mediabiasfactcheck.com"
   ]
  },
  {
   "cell_type": "code",
   "execution_count": 6,
   "metadata": {},
   "outputs": [],
   "source": [
    "# actual labels from MBFC\n",
    "bias_dict = {\n",
    "    'New York Times': 'left-center',\n",
    "    'Breitbart': 'extreme-right',\n",
    "    'CNN': 'left',\n",
    "    'Business Insider': 'left-center',\n",
    "    'Atlantic': 'left-center',\n",
    "    'Fox News': 'right',\n",
    "    'Talking Points Memo': 'left',\n",
    "    'Buzzfeed News': 'left-center',\n",
    "    'National Review': 'right',\n",
    "    'New York Post': 'right-center',\n",
    "    'Guardian': 'left-center',\n",
    "    'NPR': 'left-center',\n",
    "    'Reuters': 'neutral',\n",
    "    'Vox': 'left',\n",
    "    'Washington Post': 'left-center'\n",
    "}"
   ]
  },
  {
   "cell_type": "code",
   "execution_count": 7,
   "metadata": {},
   "outputs": [
    {
     "name": "stdout",
     "output_type": "stream",
     "text": [
      "New York Times liberal\n",
      "Breitbart conservative\n",
      "CNN liberal\n",
      "Business Insider liberal\n",
      "Atlantic liberal\n",
      "Fox News conservative\n",
      "Talking Points Memo liberal\n",
      "Buzzfeed News liberal\n",
      "National Review conservative\n",
      "New York Post conservative\n",
      "Guardian liberal\n",
      "NPR liberal\n",
      "Reuters neutral\n",
      "Vox liberal\n",
      "Washington Post liberal\n"
     ]
    }
   ],
   "source": [
    "# simplified labels\n",
    "for k,v in bias_dict.items():\n",
    "    if 'left' in v:\n",
    "        bias_dict[k] = 'liberal'\n",
    "    elif 'right' in v:\n",
    "        bias_dict[k] = 'conservative'\n",
    "    else:\n",
    "        bias_dict[k] = 'neutral'\n",
    "for k,v in bias_dict.items():\n",
    "    print(k,v)"
   ]
  },
  {
   "cell_type": "code",
   "execution_count": 8,
   "metadata": {},
   "outputs": [
    {
     "name": "stdout",
     "output_type": "stream",
     "text": [
      "/home/alex/Documents/MIDS/w266/final_project/w266_final_project\n"
     ]
    }
   ],
   "source": [
    "!pwd"
   ]
  },
  {
   "cell_type": "code",
   "execution_count": 8,
   "metadata": {},
   "outputs": [],
   "source": [
    "# load in the bigrams and lexicons\n",
    "datapath = r'../data'\n",
    "with open(os.path.join(datapath, 'libCons.pickle'), 'rb') as f:\n",
    "    libCons = pickle.load(f)\n",
    "with open(os.path.join(datapath, 'conCons.pickle'), 'rb') as f:\n",
    "    conCons = pickle.load(f)\n",
    "with open(os.path.join(datapath, 'libGrams.pickle'), 'rb') as f:\n",
    "    libGrams = pickle.load(f)\n",
    "with open(os.path.join(datapath, 'conGrams.pickle'), 'rb') as f:\n",
    "    conGrams = pickle.load(f)"
   ]
  },
  {
   "cell_type": "markdown",
   "metadata": {},
   "source": [
    "# testing"
   ]
  },
  {
   "cell_type": "code",
   "execution_count": 9,
   "metadata": {},
   "outputs": [],
   "source": [
    "def extractContent(row,n=None):\n",
    "    sentList = []\n",
    "    label = bias_dict[row.publication]\n",
    "    try:\n",
    "        sentences = sent_tokenize(row.content)\n",
    "    except:\n",
    "        sentences = []\n",
    "    sentences.append(row.title)\n",
    "    for s in sentences:\n",
    "        try:\n",
    "            words = word_tokenize(s)\n",
    "            words = [w.lower() for w in words]\n",
    "            bigrams = []\n",
    "            for i in range(len(words) - 1):\n",
    "                bigrams.append(' '.join((words[i], words[i+1])))\n",
    "        except:\n",
    "            words = []\n",
    "        if label == 'liberal':\n",
    "            if n:\n",
    "                lexPresent = set(words).intersection(libCons[:n])\n",
    "                gramsPresent = set(bigrams).intersection(libGrams[:n])\n",
    "            else:\n",
    "                lexPresent = set(words).intersection(libCons)\n",
    "                gramsPresent = set(bigrams).intersection(libGrams)\n",
    "            if lexPresent and gramsPresent:\n",
    "                sentList.append((label, s, lexPresent, gramsPresent))\n",
    "        elif label == 'conservative':\n",
    "            if n:\n",
    "                lexPresent = set(words).intersection(conCons[:n])\n",
    "                gramsPresent = set(bigrams).intersection(conGrams[:n])\n",
    "            else:\n",
    "                lexPresent = set(words).intersection(conCons)\n",
    "                gramsPresent = set(bigrams).intersection(conGrams)\n",
    "            if lexPresent and gramsPresent:\n",
    "                sentList.append((label, s, lexPresent, gramsPresent))\n",
    "        else:\n",
    "            lexPresent = set(words).intersection(set(libCons).union(conCons))\n",
    "            gramsPresent = set(bigrams).intersection(set(libGrams).union(conGrams))\n",
    "            if not lexPresent and not gramsPresent:\n",
    "                sentList.append((label, s, lexPresent, gramsPresent))\n",
    "    return sentList"
   ]
  },
  {
   "cell_type": "code",
   "execution_count": 14,
   "metadata": {},
   "outputs": [
    {
     "data": {
      "text/plain": [
       "Unnamed: 0                                                 14380\n",
       "id                                                         33116\n",
       "title          At UN, Nikki Haley Has Become the Conscience o...\n",
       "publication                                            Breitbart\n",
       "author                                            Frances Martel\n",
       "date                                                  2017-03-14\n",
       "year                                                        2017\n",
       "month                                                          3\n",
       "url                                                          NaN\n",
       "content        Upon assuming the presidency, many observers e...\n",
       "Name: 14379, dtype: object"
      ]
     },
     "execution_count": 14,
     "metadata": {},
     "output_type": "execute_result"
    }
   ],
   "source": [
    "sample = df.loc[df.publication == 'Breitbart'].sample().iloc[0]\n",
    "sample"
   ]
  },
  {
   "cell_type": "code",
   "execution_count": 12,
   "metadata": {},
   "outputs": [],
   "source": [
    "sample = df.sample().iloc[0]"
   ]
  },
  {
   "cell_type": "code",
   "execution_count": 18,
   "metadata": {},
   "outputs": [
    {
     "data": {
      "text/plain": [
       "(1, 5223)"
      ]
     },
     "execution_count": 18,
     "metadata": {},
     "output_type": "execute_result"
    }
   ],
   "source": [
    "sentList = extractContent(sample)\n",
    "len(sentList), len(sample.content)"
   ]
  },
  {
   "cell_type": "code",
   "execution_count": 19,
   "metadata": {},
   "outputs": [
    {
     "name": "stdout",
     "output_type": "stream",
     "text": [
      "0 ('conservative', 'In these three key regions  —   Asia, Eastern Europe, and the Middle East  —   Haley has sent a message to the enemies of freedom that her predecessor, Samantha Power, never bothered with: the United States will not allow the UN to be hijacked by allies of Palestinian terror organizations, or allow it to continue ignoring the seemingly endless transgressions of North Korea, or allow the Russian government to flex its diplomatic muscle to silence its critics in the Security Council.', {'terror', 'freedom', 'east'}, {'in these'})\n"
     ]
    }
   ],
   "source": [
    "for i,s in enumerate(sentList):\n",
    "    print(i,s)"
   ]
  },
  {
   "cell_type": "code",
   "execution_count": 20,
   "metadata": {},
   "outputs": [
    {
     "name": "stdout",
     "output_type": "stream",
     "text": [
      "0 Upon assuming the presidency, many observers expressed reservations about what a Trump administration foreign policy would look like.\n",
      "1 More than any other representative of President Donald Trump’s government, United Nations Ambassador Nikki Haley has answered those critics.\n",
      "2 [At the UN, Haley has articulated a clear vision of how America would handle itself on the world stage: a stalwart friend to its allies, fearsome foe to its enemies, and consistent voice of reason in a forum often governed by the whims of authoritarian regimes and violent special interests.\n",
      "3 This week, for example, Haley made clear the Trump administration would stop at nothing to curb dictator Kim  ’s threats in North Korea and uproot Iranian terror proxies from Syria.\n",
      "4 “We’re not ruling anything out,” Haley told reporters on Wednesday in response to what the United States would do in response to North Korea’s latest missile tests, which Pyongyang openly admitted were in preparation for an attack on U. S. bases in Japan.\n",
      "5 She offered a staunch defense of the Terminal High Altitude Area Defense (THAAD) missile system: “We are not going to leave South Korea standing there with the threat of North Korea facing them and not help.\n",
      "6 The reason for THAAD is because of the actions of North Korea.\n",
      "7 ” Both China and Russia, permanent members of the UN Security Council, disapprove of the deployment of THAAD in South Korea.\n",
      "8 The system allows South Korea to reach deep into both countries, as well as North Korea, to destroy any missiles heading its way.\n",
      "9 “Tell me why we wouldn’t do the THAAD in light of   ballistic missiles?\n",
      "10 In light of two nuclear tests?” Haley asked critics.\n",
      "11 Haley’s support for South Korea is a far cry from what domestic and South Korean critics feared out of a Trump administration  —   a full withdrawal from Asia.\n",
      "12 As a candidate, Trump had encouraged both nations to be   even invoking the possibility of nuclear weapons development.\n",
      "13 Critics also claimed Trump’s White House would remain silent in the face of Russian belligerence in Eastern Europe.\n",
      "14 As chief international representative to that White House, Haley has done no such thing.\n",
      "15 On the contrary her debut before the UN Security Council was a condemnation of Russian military incursions into Eastern Ukraine.\n",
      "16 “I consider it unfortunate on the occasion of my first appearance here I must condemn the aggressive actions of Russia,” she said during her first appearance before the Security Council.\n",
      "17 “We do want to better our relations with Russia  …     however, the dire situation in eastern Ukraine is one that demands clear and strong condemnation of Russian actions.\n",
      "18 ” “We have criticized Russia for Crimea and Ukraine, for the actions they’ve taken there.\n",
      "19 We will call them out when we see something wrong.\n",
      "20 If we see where we can work together, of course, we’re going to try and do that,” Haley told an Al Jazeera journalist this week, once again condemning Russia, this time for supporting Syrian dictator Bashar   and opposing resolutions condemning his use of chemical weapons against civilians.\n",
      "21 Haley has also been excellent as a vocal ally of Israel, the only functioning democracy in the Middle East.\n",
      "22 Among her first acts as UN Ambassador were a visit to the family of an Israel soldier killed by the terrorist group Hamas and a rebuke of the Security Council generally for its “obsession” with Israel.\n",
      "23 Calling its attacks on Israel “breathtaking,” Haley highlighted in February that the UN “Department of Political Affairs has an entire department devoted to Palestinian affairs  …     there is not a division devoted to illegal missile launches from North Korea.\n",
      "24 ” “There is no division devoted to the world’s number one state sponsor of terror, Iran,” she noted, a country she demanded the international community take out of Syria entirely this week, despite Iran being Assad’s most prominent ally.\n",
      "25 “I’m here to say the United States will not turn a blind eye to this anymore.\n",
      "26 I’m here to underscore the ironclad support of the United States for Israel,” she concluded.\n",
      "27 Haley’s support of Israel is a particularly striking contrast with her predecessor Samantha Power’s decision to abstain from a Security Council vote against Israel in December, a final abandonment of America’s longtime ally on the world stage before President Obama’s departure.\n",
      "28 In these three key regions  —   Asia, Eastern Europe, and the Middle East  —   Haley has sent a message to the enemies of freedom that her predecessor, Samantha Power, never bothered with: the United States will not allow the UN to be hijacked by allies of Palestinian terror organizations, or allow it to continue ignoring the seemingly endless transgressions of North Korea, or allow the Russian government to flex its diplomatic muscle to silence its critics in the Security Council.\n",
      "29 In doing so, Haley has shattered several myths about the Trump administration, namely, that Trump would take on a permissive international posture towards Russia and abandon South Korea and Japan to fend for themselves against their Communist neighbors.\n",
      "30 She has also reassured critics who feared that being the chief executive of a state offered her little relevant experience to navigate such a   diplomatic job.\n"
     ]
    }
   ],
   "source": [
    "for i,s in enumerate(sent_tokenize(sample.content)):\n",
    "    print(i,s)"
   ]
  },
  {
   "cell_type": "code",
   "execution_count": null,
   "metadata": {},
   "outputs": [],
   "source": []
  },
  {
   "cell_type": "code",
   "execution_count": 21,
   "metadata": {},
   "outputs": [
    {
     "data": {
      "text/plain": [
       "(70, 4)"
      ]
     },
     "execution_count": 21,
     "metadata": {},
     "output_type": "execute_result"
    }
   ],
   "source": [
    "# testing\n",
    "sents = []\n",
    "for i in range(20):\n",
    "    sentList = extractContent(df.iloc[i])\n",
    "    sents.extend(sentList)\n",
    "df2 = pd.DataFrame(sents, columns=['label','text','lexicons','bigrams'])\n",
    "df2.shape"
   ]
  },
  {
   "cell_type": "code",
   "execution_count": 22,
   "metadata": {},
   "outputs": [],
   "source": [
    "def extractSentences(df,n=None):\n",
    "    output = []\n",
    "    for i in range(df.shape[0]):\n",
    "        if n:\n",
    "            sentList = extractContent(df.iloc[i],n)\n",
    "        else:\n",
    "            sentList = extractContent(df.iloc[i])\n",
    "        output.extend(sentList)\n",
    "    df = pd.DataFrame(output)\n",
    "    df.columns = ['label', 'text', 'lexicons', 'bigrams']\n",
    "    return df"
   ]
  },
  {
   "cell_type": "code",
   "execution_count": 22,
   "metadata": {},
   "outputs": [
    {
     "name": "stdout",
     "output_type": "stream",
     "text": [
      "runtime (min):  20.47254857222239\n"
     ]
    },
    {
     "data": {
      "text/html": [
       "<div>\n",
       "<style scoped>\n",
       "    .dataframe tbody tr th:only-of-type {\n",
       "        vertical-align: middle;\n",
       "    }\n",
       "\n",
       "    .dataframe tbody tr th {\n",
       "        vertical-align: top;\n",
       "    }\n",
       "\n",
       "    .dataframe thead th {\n",
       "        text-align: right;\n",
       "    }\n",
       "</style>\n",
       "<table border=\"1\" class=\"dataframe\">\n",
       "  <thead>\n",
       "    <tr style=\"text-align: right;\">\n",
       "      <th></th>\n",
       "      <th>text</th>\n",
       "      <th>lexicons</th>\n",
       "      <th>bigrams</th>\n",
       "    </tr>\n",
       "    <tr>\n",
       "      <th>label</th>\n",
       "      <th></th>\n",
       "      <th></th>\n",
       "      <th></th>\n",
       "    </tr>\n",
       "  </thead>\n",
       "  <tbody>\n",
       "    <tr>\n",
       "      <th>conservative</th>\n",
       "      <td>5292</td>\n",
       "      <td>5292</td>\n",
       "      <td>5292</td>\n",
       "    </tr>\n",
       "    <tr>\n",
       "      <th>liberal</th>\n",
       "      <td>24374</td>\n",
       "      <td>24374</td>\n",
       "      <td>24374</td>\n",
       "    </tr>\n",
       "    <tr>\n",
       "      <th>neutral</th>\n",
       "      <td>127393</td>\n",
       "      <td>127394</td>\n",
       "      <td>127394</td>\n",
       "    </tr>\n",
       "  </tbody>\n",
       "</table>\n",
       "</div>"
      ],
      "text/plain": [
       "                text  lexicons  bigrams\n",
       "label                                  \n",
       "conservative    5292      5292     5292\n",
       "liberal        24374     24374    24374\n",
       "neutral       127393    127394   127394"
      ]
     },
     "execution_count": 22,
     "metadata": {},
     "output_type": "execute_result"
    }
   ],
   "source": [
    "start = time.time()\n",
    "df1 = extractSentences(df,50)\n",
    "print('runtime (min): ', (time.time() - start) / 60)\n",
    "df1.groupby('label').count()"
   ]
  },
  {
   "cell_type": "code",
   "execution_count": 23,
   "metadata": {},
   "outputs": [
    {
     "name": "stdout",
     "output_type": "stream",
     "text": [
      "runtime (min):  19.408843235174814\n"
     ]
    },
    {
     "data": {
      "text/html": [
       "<div>\n",
       "<style scoped>\n",
       "    .dataframe tbody tr th:only-of-type {\n",
       "        vertical-align: middle;\n",
       "    }\n",
       "\n",
       "    .dataframe tbody tr th {\n",
       "        vertical-align: top;\n",
       "    }\n",
       "\n",
       "    .dataframe thead th {\n",
       "        text-align: right;\n",
       "    }\n",
       "</style>\n",
       "<table border=\"1\" class=\"dataframe\">\n",
       "  <thead>\n",
       "    <tr style=\"text-align: right;\">\n",
       "      <th></th>\n",
       "      <th>text</th>\n",
       "      <th>lexicons</th>\n",
       "      <th>bigrams</th>\n",
       "    </tr>\n",
       "    <tr>\n",
       "      <th>label</th>\n",
       "      <th></th>\n",
       "      <th></th>\n",
       "      <th></th>\n",
       "    </tr>\n",
       "  </thead>\n",
       "  <tbody>\n",
       "    <tr>\n",
       "      <th>conservative</th>\n",
       "      <td>55770</td>\n",
       "      <td>55770</td>\n",
       "      <td>55770</td>\n",
       "    </tr>\n",
       "    <tr>\n",
       "      <th>liberal</th>\n",
       "      <td>216875</td>\n",
       "      <td>216875</td>\n",
       "      <td>216875</td>\n",
       "    </tr>\n",
       "    <tr>\n",
       "      <th>neutral</th>\n",
       "      <td>127393</td>\n",
       "      <td>127394</td>\n",
       "      <td>127394</td>\n",
       "    </tr>\n",
       "  </tbody>\n",
       "</table>\n",
       "</div>"
      ],
      "text/plain": [
       "                text  lexicons  bigrams\n",
       "label                                  \n",
       "conservative   55770     55770    55770\n",
       "liberal       216875    216875   216875\n",
       "neutral       127393    127394   127394"
      ]
     },
     "execution_count": 23,
     "metadata": {},
     "output_type": "execute_result"
    }
   ],
   "source": [
    "start = time.time()\n",
    "df2 = extractSentences(df)\n",
    "print('runtime (min): ', (time.time() - start) / 60)\n",
    "df2.groupby('label').count()"
   ]
  },
  {
   "cell_type": "code",
   "execution_count": 24,
   "metadata": {},
   "outputs": [],
   "source": [
    "with open(r'../data/filteredNews_top50grams.pickle', 'wb') as f:\n",
    "    pickle.dump(df1, f, pickle.HIGHEST_PROTOCOL)\n",
    "with open(r'../data/filteredNews_allgrams.pickle', 'wb') as f:\n",
    "    pickle.dump(df2, f, pickle.HIGHEST_PROTOCOL)"
   ]
  },
  {
   "cell_type": "code",
   "execution_count": 2,
   "metadata": {},
   "outputs": [
    {
     "ename": "EOFError",
     "evalue": "Ran out of input",
     "output_type": "error",
     "traceback": [
      "\u001b[0;31m---------------------------------------------------------------------------\u001b[0m",
      "\u001b[0;31mEOFError\u001b[0m                                  Traceback (most recent call last)",
      "\u001b[0;32m<ipython-input-2-a278a4fa7634>\u001b[0m in \u001b[0;36m<module>\u001b[0;34m\u001b[0m\n\u001b[1;32m      1\u001b[0m \u001b[0;32mwith\u001b[0m \u001b[0mopen\u001b[0m\u001b[0;34m(\u001b[0m\u001b[0;34mr'../data/filteredNews_top50grams.pickle'\u001b[0m\u001b[0;34m,\u001b[0m \u001b[0;34m'rb'\u001b[0m\u001b[0;34m)\u001b[0m \u001b[0;32mas\u001b[0m \u001b[0mf\u001b[0m\u001b[0;34m:\u001b[0m\u001b[0;34m\u001b[0m\u001b[0;34m\u001b[0m\u001b[0m\n\u001b[0;32m----> 2\u001b[0;31m     \u001b[0mdf1\u001b[0m \u001b[0;34m=\u001b[0m \u001b[0mpickle\u001b[0m\u001b[0;34m.\u001b[0m\u001b[0mload\u001b[0m\u001b[0;34m(\u001b[0m\u001b[0mf\u001b[0m\u001b[0;34m)\u001b[0m\u001b[0;34m\u001b[0m\u001b[0;34m\u001b[0m\u001b[0m\n\u001b[0m\u001b[1;32m      3\u001b[0m \u001b[0;32mwith\u001b[0m \u001b[0mopen\u001b[0m\u001b[0;34m(\u001b[0m\u001b[0;34mr'../data/filteredNews_allgrams.pickle'\u001b[0m\u001b[0;34m,\u001b[0m \u001b[0;34m'rb'\u001b[0m\u001b[0;34m)\u001b[0m \u001b[0;32mas\u001b[0m \u001b[0mf\u001b[0m\u001b[0;34m:\u001b[0m\u001b[0;34m\u001b[0m\u001b[0;34m\u001b[0m\u001b[0m\n\u001b[1;32m      4\u001b[0m     \u001b[0mdf2\u001b[0m \u001b[0;34m=\u001b[0m \u001b[0mpickle\u001b[0m\u001b[0;34m.\u001b[0m\u001b[0mload\u001b[0m\u001b[0;34m(\u001b[0m\u001b[0mf\u001b[0m\u001b[0;34m)\u001b[0m\u001b[0;34m\u001b[0m\u001b[0;34m\u001b[0m\u001b[0m\n",
      "\u001b[0;31mEOFError\u001b[0m: Ran out of input"
     ]
    }
   ],
   "source": [
    "with open(r'../data/filteredNews_top50grams.pickle', 'rb') as f:\n",
    "    df1 = pickle.load(f)\n",
    "with open(r'../data/filteredNews_allgrams.pickle', 'rb') as f:\n",
    "    df2 = pickle.load(f)"
   ]
  },
  {
   "cell_type": "code",
   "execution_count": null,
   "metadata": {},
   "outputs": [],
   "source": []
  },
  {
   "cell_type": "code",
   "execution_count": null,
   "metadata": {},
   "outputs": [],
   "source": []
  },
  {
   "cell_type": "code",
   "execution_count": 12,
   "metadata": {},
   "outputs": [
    {
     "name": "stdout",
     "output_type": "stream",
     "text": [
      "/home/alex/Documents/MIDS/w266/final_project/w266_final_project\n"
     ]
    }
   ],
   "source": [
    "!pwd"
   ]
  },
  {
   "cell_type": "code",
   "execution_count": 17,
   "metadata": {},
   "outputs": [],
   "source": [
    "df.to_csv('filtered_sentences.csv')"
   ]
  },
  {
   "cell_type": "code",
   "execution_count": 18,
   "metadata": {},
   "outputs": [],
   "source": [
    "import pickle"
   ]
  },
  {
   "cell_type": "code",
   "execution_count": 26,
   "metadata": {},
   "outputs": [
    {
     "data": {
      "text/plain": [
       "0.7255961894989014"
      ]
     },
     "execution_count": 26,
     "metadata": {},
     "output_type": "execute_result"
    }
   ],
   "source": [
    "start = time.time()\n",
    "with open('filtered_sentences.pickle', 'wb') as f:\n",
    "    pickle.dump(df, f, pickle.HIGHEST_PROTOCOL)\n",
    "with open('filtered_sentences.pickle', 'rb') as f:\n",
    "    df2 = pickle.load(f)\n",
    "time.time() - start"
   ]
  },
  {
   "cell_type": "code",
   "execution_count": 27,
   "metadata": {},
   "outputs": [
    {
     "data": {
      "text/plain": [
       "4.2353599071502686"
      ]
     },
     "execution_count": 27,
     "metadata": {},
     "output_type": "execute_result"
    }
   ],
   "source": [
    "start = time.time()\n",
    "df.to_csv('filtered_sentences.csv')\n",
    "df3 = pd.read_csv('filtered_sentences.csv')\n",
    "time.time() - start"
   ]
  },
  {
   "cell_type": "code",
   "execution_count": 24,
   "metadata": {},
   "outputs": [],
   "source": [
    "with open('filtered_sentences.pickle', 'rb') as f:\n",
    "    df2 = pickle.load(f)"
   ]
  },
  {
   "cell_type": "code",
   "execution_count": 25,
   "metadata": {},
   "outputs": [
    {
     "data": {
      "text/html": [
       "<div>\n",
       "<style scoped>\n",
       "    .dataframe tbody tr th:only-of-type {\n",
       "        vertical-align: middle;\n",
       "    }\n",
       "\n",
       "    .dataframe tbody tr th {\n",
       "        vertical-align: top;\n",
       "    }\n",
       "\n",
       "    .dataframe thead th {\n",
       "        text-align: right;\n",
       "    }\n",
       "</style>\n",
       "<table border=\"1\" class=\"dataframe\">\n",
       "  <thead>\n",
       "    <tr style=\"text-align: right;\">\n",
       "      <th></th>\n",
       "      <th>label</th>\n",
       "      <th>text</th>\n",
       "    </tr>\n",
       "  </thead>\n",
       "  <tbody>\n",
       "    <tr>\n",
       "      <th>0</th>\n",
       "      <td>liberal</td>\n",
       "      <td>WASHINGTON  —   Congressional Republicans have...</td>\n",
       "    </tr>\n",
       "    <tr>\n",
       "      <th>1</th>\n",
       "      <td>liberal</td>\n",
       "      <td>The incoming Trump administration could choose...</td>\n",
       "    </tr>\n",
       "    <tr>\n",
       "      <th>2</th>\n",
       "      <td>liberal</td>\n",
       "      <td>In another twist, Donald J. Trump’s administra...</td>\n",
       "    </tr>\n",
       "    <tr>\n",
       "      <th>3</th>\n",
       "      <td>liberal</td>\n",
       "      <td>“Given that this pending litigation involves t...</td>\n",
       "    </tr>\n",
       "    <tr>\n",
       "      <th>4</th>\n",
       "      <td>liberal</td>\n",
       "      <td>“Upon taking office, the Trump administration ...</td>\n",
       "    </tr>\n",
       "  </tbody>\n",
       "</table>\n",
       "</div>"
      ],
      "text/plain": [
       "     label                                               text\n",
       "0  liberal  WASHINGTON  —   Congressional Republicans have...\n",
       "1  liberal  The incoming Trump administration could choose...\n",
       "2  liberal  In another twist, Donald J. Trump’s administra...\n",
       "3  liberal  “Given that this pending litigation involves t...\n",
       "4  liberal  “Upon taking office, the Trump administration ..."
      ]
     },
     "execution_count": 25,
     "metadata": {},
     "output_type": "execute_result"
    }
   ],
   "source": [
    "df2.head()"
   ]
  }
 ],
 "metadata": {
  "kernelspec": {
   "display_name": "Python 3",
   "language": "python",
   "name": "python3"
  },
  "language_info": {
   "codemirror_mode": {
    "name": "ipython",
    "version": 3
   },
   "file_extension": ".py",
   "mimetype": "text/x-python",
   "name": "python",
   "nbconvert_exporter": "python",
   "pygments_lexer": "ipython3",
   "version": "3.7.3"
  }
 },
 "nbformat": 4,
 "nbformat_minor": 2
}
