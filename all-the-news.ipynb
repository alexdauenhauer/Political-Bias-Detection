{
 "cells": [
  {
   "cell_type": "code",
   "execution_count": 13,
   "metadata": {},
   "outputs": [
    {
     "name": "stderr",
     "output_type": "stream",
     "text": [
      "[nltk_data] Downloading package punkt to /home/alex/nltk_data...\n",
      "[nltk_data]   Package punkt is already up-to-date!\n"
     ]
    },
    {
     "data": {
      "text/plain": [
       "True"
      ]
     },
     "execution_count": 13,
     "metadata": {},
     "output_type": "execute_result"
    }
   ],
   "source": [
    "import pandas as pd\n",
    "# import matplotlib.pyplot as plt\n",
    "import nltk\n",
    "import time, os, pickle\n",
    "from nltk.tokenize import word_tokenize, sent_tokenize\n",
    "from itertools import combinations, permutations\n",
    "# plt.style.use('ggplot')\n",
    "nltk.download('punkt')"
   ]
  },
  {
   "cell_type": "markdown",
   "metadata": {},
   "source": [
    "# import data"
   ]
  },
  {
   "cell_type": "code",
   "execution_count": 2,
   "metadata": {},
   "outputs": [
    {
     "data": {
      "text/plain": [
       "(142570, 10)"
      ]
     },
     "execution_count": 2,
     "metadata": {},
     "output_type": "execute_result"
    }
   ],
   "source": [
    "df1 = pd.read_csv(r'../all-the-news/articles1.csv')\n",
    "df2 = pd.read_csv(r'../all-the-news/articles2.csv')\n",
    "df3 = pd.read_csv(r'../all-the-news/articles3.csv')\n",
    "df = df1.append(df2).append(df3)\n",
    "df.index = range(df.shape[0])\n",
    "del df1, df2, df3\n",
    "df.shape"
   ]
  },
  {
   "cell_type": "code",
   "execution_count": 3,
   "metadata": {},
   "outputs": [
    {
     "data": {
      "text/html": [
       "<div>\n",
       "<style scoped>\n",
       "    .dataframe tbody tr th:only-of-type {\n",
       "        vertical-align: middle;\n",
       "    }\n",
       "\n",
       "    .dataframe tbody tr th {\n",
       "        vertical-align: top;\n",
       "    }\n",
       "\n",
       "    .dataframe thead th {\n",
       "        text-align: right;\n",
       "    }\n",
       "</style>\n",
       "<table border=\"1\" class=\"dataframe\">\n",
       "  <thead>\n",
       "    <tr style=\"text-align: right;\">\n",
       "      <th></th>\n",
       "      <th>Unnamed: 0</th>\n",
       "      <th>id</th>\n",
       "      <th>title</th>\n",
       "      <th>publication</th>\n",
       "      <th>author</th>\n",
       "      <th>date</th>\n",
       "      <th>year</th>\n",
       "      <th>month</th>\n",
       "      <th>url</th>\n",
       "      <th>content</th>\n",
       "    </tr>\n",
       "  </thead>\n",
       "  <tbody>\n",
       "    <tr>\n",
       "      <th>99967</th>\n",
       "      <td>103426</td>\n",
       "      <td>151867</td>\n",
       "      <td>Manchester United’s Juan Mata delivers derby d...</td>\n",
       "      <td>Guardian</td>\n",
       "      <td>Paul Wilson</td>\n",
       "      <td>2016-10-26</td>\n",
       "      <td>2016.0</td>\n",
       "      <td>10.0</td>\n",
       "      <td>https://www.theguardian.com/football/2016/oct/...</td>\n",
       "      <td>Manchester United’s week took a much needed tu...</td>\n",
       "    </tr>\n",
       "    <tr>\n",
       "      <th>101096</th>\n",
       "      <td>104556</td>\n",
       "      <td>153340</td>\n",
       "      <td>MLS All-Stars 1-2 Arsenal – as it happened</td>\n",
       "      <td>Guardian</td>\n",
       "      <td>Graham Parker</td>\n",
       "      <td>2017-02-20</td>\n",
       "      <td>2017.0</td>\n",
       "      <td>2.0</td>\n",
       "      <td>https://www.theguardian.com/football/live/2016...</td>\n",
       "      <td>Arsenal win it at the death then, with a few t...</td>\n",
       "    </tr>\n",
       "    <tr>\n",
       "      <th>16672</th>\n",
       "      <td>16673</td>\n",
       "      <td>35410</td>\n",
       "      <td>Wall Street Journal: Twitter Engulfed in Media...</td>\n",
       "      <td>Breitbart</td>\n",
       "      <td>Breitbart News</td>\n",
       "      <td>2016-01-11</td>\n",
       "      <td>2016.0</td>\n",
       "      <td>1.0</td>\n",
       "      <td>NaN</td>\n",
       "      <td>Yoree Koh writes in the Wall Street Journal:[T...</td>\n",
       "    </tr>\n",
       "    <tr>\n",
       "      <th>109643</th>\n",
       "      <td>113105</td>\n",
       "      <td>167812</td>\n",
       "      <td>The Strange And Surprising Debate Over How To ...</td>\n",
       "      <td>NPR</td>\n",
       "      <td>Emily Sohn</td>\n",
       "      <td>2016-03-13</td>\n",
       "      <td>2016.0</td>\n",
       "      <td>3.0</td>\n",
       "      <td>http://www.npr.org/sections/goatsandsoda/2016/...</td>\n",
       "      <td>It used to be common knowledge: Malnourished k...</td>\n",
       "    </tr>\n",
       "    <tr>\n",
       "      <th>96919</th>\n",
       "      <td>100378</td>\n",
       "      <td>147855</td>\n",
       "      <td>La La Land wins best film at Directors Guild a...</td>\n",
       "      <td>Guardian</td>\n",
       "      <td>NaN</td>\n",
       "      <td>2017-02-05</td>\n",
       "      <td>2017.0</td>\n",
       "      <td>2.0</td>\n",
       "      <td>https://www.theguardian.com/film/2017/feb/05/l...</td>\n",
       "      <td>La La Land swept up another major Hollywood pr...</td>\n",
       "    </tr>\n",
       "  </tbody>\n",
       "</table>\n",
       "</div>"
      ],
      "text/plain": [
       "        Unnamed: 0      id                                              title  \\\n",
       "99967       103426  151867  Manchester United’s Juan Mata delivers derby d...   \n",
       "101096      104556  153340         MLS All-Stars 1-2 Arsenal – as it happened   \n",
       "16672        16673   35410  Wall Street Journal: Twitter Engulfed in Media...   \n",
       "109643      113105  167812  The Strange And Surprising Debate Over How To ...   \n",
       "96919       100378  147855  La La Land wins best film at Directors Guild a...   \n",
       "\n",
       "       publication          author        date    year  month  \\\n",
       "99967     Guardian     Paul Wilson  2016-10-26  2016.0   10.0   \n",
       "101096    Guardian   Graham Parker  2017-02-20  2017.0    2.0   \n",
       "16672    Breitbart  Breitbart News  2016-01-11  2016.0    1.0   \n",
       "109643         NPR      Emily Sohn  2016-03-13  2016.0    3.0   \n",
       "96919     Guardian             NaN  2017-02-05  2017.0    2.0   \n",
       "\n",
       "                                                      url  \\\n",
       "99967   https://www.theguardian.com/football/2016/oct/...   \n",
       "101096  https://www.theguardian.com/football/live/2016...   \n",
       "16672                                                 NaN   \n",
       "109643  http://www.npr.org/sections/goatsandsoda/2016/...   \n",
       "96919   https://www.theguardian.com/film/2017/feb/05/l...   \n",
       "\n",
       "                                                  content  \n",
       "99967   Manchester United’s week took a much needed tu...  \n",
       "101096  Arsenal win it at the death then, with a few t...  \n",
       "16672   Yoree Koh writes in the Wall Street Journal:[T...  \n",
       "109643  It used to be common knowledge: Malnourished k...  \n",
       "96919   La La Land swept up another major Hollywood pr...  "
      ]
     },
     "execution_count": 3,
     "metadata": {},
     "output_type": "execute_result"
    }
   ],
   "source": [
    "df.sample(5)"
   ]
  },
  {
   "cell_type": "code",
   "execution_count": 4,
   "metadata": {},
   "outputs": [
    {
     "data": {
      "text/plain": [
       "5607"
      ]
     },
     "execution_count": 4,
     "metadata": {},
     "output_type": "execute_result"
    }
   ],
   "source": [
    "len(df.content[0])"
   ]
  },
  {
   "cell_type": "code",
   "execution_count": 5,
   "metadata": {},
   "outputs": [
    {
     "data": {
      "text/plain": [
       "'WASHINGTON  —   Congressional Republicans have a new fear when it comes to their    health care lawsuit against the Obama administration: They might win. The incoming Trump administration could choose to no longer defend the executive branch against the suit, which challenges the administration’s authority to spend billions of dollars on health insurance subsidies for   and   Americans, handing House Republicans a big victory on    issues. But a sudden loss of the disputed subsidies could conceivably cause the health care program to implode, leaving millions of people without access to health insurance before Republicans have prepared a replacement. That could lead to chaos in the insurance market and spur a political backlash just as Republicans gain full control of the government. To stave off that outcome, Republicans could find themselves in the awkward position of appropriating huge sums to temporarily prop up the Obama health care law, angering conservative voters who have been demanding an end to the law for years. In another twist, Donald J. Trump’s administration, worried about preserving executive branch prerogatives, could choose to fight its Republican allies in the House on some central questions in the dispute. Eager to avoid an ugly political pileup, Republicans on Capitol Hill and the Trump transition team are gaming out how to handle the lawsuit, which, after the election, has been put in limbo until at least late February by the United States Court of Appeals for the District of Columbia Circuit. They are not yet ready to divulge their strategy. “Given that this pending litigation involves the Obama administration and Congress, it would be inappropriate to comment,” said Phillip J. Blando, a spokesman for the Trump transition effort. “Upon taking office, the Trump administration will evaluate this case and all related aspects of the Affordable Care Act. ” In a potentially   decision in 2015, Judge Rosemary M. Collyer ruled that House Republicans had the standing to sue the executive branch over a spending dispute and that the Obama administration had been distributing the health insurance subsidies, in violation of the Constitution, without approval from Congress. The Justice Department, confident that Judge Collyer’s decision would be reversed, quickly appealed, and the subsidies have remained in place during the appeal. In successfully seeking a temporary halt in the proceedings after Mr. Trump won, House Republicans last month told the court that they “and the  ’s transition team currently are discussing potential options for resolution of this matter, to take effect after the  ’s inauguration on Jan. 20, 2017. ” The suspension of the case, House lawyers said, will “provide the   and his future administration time to consider whether to continue prosecuting or to otherwise resolve this appeal. ” Republican leadership officials in the House acknowledge the possibility of “cascading effects” if the   payments, which have totaled an estimated $13 billion, are suddenly stopped. Insurers that receive the subsidies in exchange for paying    costs such as deductibles and   for eligible consumers could race to drop coverage since they would be losing money. Over all, the loss of the subsidies could destabilize the entire program and cause a lack of confidence that leads other insurers to seek a quick exit as well. Anticipating that the Trump administration might not be inclined to mount a vigorous fight against the House Republicans given the  ’s dim view of the health care law, a team of lawyers this month sought to intervene in the case on behalf of two participants in the health care program. In their request, the lawyers predicted that a deal between House Republicans and the new administration to dismiss or settle the case “will produce devastating consequences for the individuals who receive these reductions, as well as for the nation’s health insurance and health care systems generally. ” No matter what happens, House Republicans say, they want to prevail on two overarching concepts: the congressional power of the purse, and the right of Congress to sue the executive branch if it violates the Constitution regarding that spending power. House Republicans contend that Congress never appropriated the money for the subsidies, as required by the Constitution. In the suit, which was initially championed by John A. Boehner, the House speaker at the time, and later in House committee reports, Republicans asserted that the administration, desperate for the funding, had required the Treasury Department to provide it despite widespread internal skepticism that the spending was proper. The White House said that the spending was a permanent part of the law passed in 2010, and that no annual appropriation was required  —   even though the administration initially sought one. Just as important to House Republicans, Judge Collyer found that Congress had the standing to sue the White House on this issue  —   a ruling that many legal experts said was flawed  —   and they want that precedent to be set to restore congressional leverage over the executive branch. But on spending power and standing, the Trump administration may come under pressure from advocates of presidential authority to fight the House no matter their shared views on health care, since those precedents could have broad repercussions. It is a complicated set of dynamics illustrating how a quick legal victory for the House in the Trump era might come with costs that Republicans never anticipated when they took on the Obama White House.'"
      ]
     },
     "execution_count": 5,
     "metadata": {},
     "output_type": "execute_result"
    }
   ],
   "source": [
    "df.content[0]"
   ]
  },
  {
   "cell_type": "code",
   "execution_count": 6,
   "metadata": {},
   "outputs": [
    {
     "data": {
      "text/plain": [
       "array(['New York Times', 'Breitbart', 'CNN', 'Business Insider',\n",
       "       'Atlantic', 'Fox News', 'Talking Points Memo', 'Buzzfeed News',\n",
       "       'National Review', 'New York Post', 'Guardian', 'NPR', 'Reuters',\n",
       "       'Vox', 'Washington Post'], dtype=object)"
      ]
     },
     "execution_count": 6,
     "metadata": {},
     "output_type": "execute_result"
    }
   ],
   "source": [
    "df.publication.unique()"
   ]
  },
  {
   "cell_type": "markdown",
   "metadata": {},
   "source": [
    "# Define bias of each publication based on mediabiasfactcheck.com"
   ]
  },
  {
   "cell_type": "code",
   "execution_count": 7,
   "metadata": {},
   "outputs": [],
   "source": [
    "# actual labels from MBFC\n",
    "bias_dict = {\n",
    "    'New York Times': 'left-center',\n",
    "    'Breitbart': 'extreme-right',\n",
    "    'CNN': 'left',\n",
    "    'Business Insider': 'left-center',\n",
    "    'Atlantic': 'left-center',\n",
    "    'Fox News': 'right',\n",
    "    'Talking Points Memo': 'left',\n",
    "    'Buzzfeed News': 'left-center',\n",
    "    'National Review': 'right',\n",
    "    'New York Post': 'right-center',\n",
    "    'Guardian': 'left-center',\n",
    "    'NPR': 'left-center',\n",
    "    'Reuters': 'neutral',\n",
    "    'Vox': 'left',\n",
    "    'Washington Post': 'left-center'\n",
    "}"
   ]
  },
  {
   "cell_type": "code",
   "execution_count": 8,
   "metadata": {},
   "outputs": [
    {
     "name": "stdout",
     "output_type": "stream",
     "text": [
      "New York Times liberal\n",
      "Breitbart conservative\n",
      "CNN liberal\n",
      "Business Insider liberal\n",
      "Atlantic liberal\n",
      "Fox News conservative\n",
      "Talking Points Memo liberal\n",
      "Buzzfeed News liberal\n",
      "National Review conservative\n",
      "New York Post conservative\n",
      "Guardian liberal\n",
      "NPR liberal\n",
      "Reuters neutral\n",
      "Vox liberal\n",
      "Washington Post liberal\n"
     ]
    }
   ],
   "source": [
    "# simplified labels\n",
    "for k,v in bias_dict.items():\n",
    "    if 'left' in v:\n",
    "        bias_dict[k] = 'liberal'\n",
    "    elif 'right' in v:\n",
    "        bias_dict[k] = 'conservative'\n",
    "    else:\n",
    "        bias_dict[k] = 'neutral'\n",
    "for k,v in bias_dict.items():\n",
    "    print(k,v)"
   ]
  },
  {
   "cell_type": "code",
   "execution_count": 9,
   "metadata": {},
   "outputs": [
    {
     "name": "stdout",
     "output_type": "stream",
     "text": [
      "/home/alex/Documents/MIDS/w266/final_project/w266_final_project\n"
     ]
    }
   ],
   "source": [
    "!pwd"
   ]
  },
  {
   "cell_type": "code",
   "execution_count": 16,
   "metadata": {},
   "outputs": [],
   "source": [
    "# load in the bigrams and lexicons\n",
    "datapath = r'../data'\n",
    "with open(os.path.join(datapath, 'libCons.pickle'), 'rb') as f:\n",
    "    libCons = pickle.load(f)\n",
    "with open(os.path.join(datapath, 'conCons.pickle'), 'rb') as f:\n",
    "    conCons = pickle.load(f)\n",
    "with open(os.path.join(datapath, 'libGrams.pickle'), 'rb') as f:\n",
    "    libGrams = pickle.load(f)\n",
    "with open(os.path.join(datapath, 'conGrams.pickle'), 'rb') as f:\n",
    "    conGrams = pickle.load(f)"
   ]
  },
  {
   "cell_type": "markdown",
   "metadata": {},
   "source": [
    "# testing"
   ]
  },
  {
   "cell_type": "code",
   "execution_count": 17,
   "metadata": {},
   "outputs": [
    {
     "data": {
      "text/plain": [
       "'House Republicans Fret About Winning Their Health Care Suit - The New York Times'"
      ]
     },
     "execution_count": 17,
     "metadata": {},
     "output_type": "execute_result"
    }
   ],
   "source": [
    "df.title[0]"
   ]
  },
  {
   "cell_type": "code",
   "execution_count": 18,
   "metadata": {},
   "outputs": [
    {
     "data": {
      "text/plain": [
       "27"
      ]
     },
     "execution_count": 18,
     "metadata": {},
     "output_type": "execute_result"
    }
   ],
   "source": [
    "sentences = sent_tokenize(df.content[0])\n",
    "sentences.append(df.title[0])\n",
    "len(sentences)"
   ]
  },
  {
   "cell_type": "code",
   "execution_count": 60,
   "metadata": {},
   "outputs": [
    {
     "data": {
      "text/plain": [
       "['WASHINGTON —',\n",
       " '— Congressional',\n",
       " 'Congressional Republicans',\n",
       " 'Republicans have',\n",
       " 'have a',\n",
       " 'a new',\n",
       " 'new fear',\n",
       " 'fear when',\n",
       " 'when it',\n",
       " 'it comes',\n",
       " 'comes to',\n",
       " 'to their',\n",
       " 'their health',\n",
       " 'health care',\n",
       " 'care lawsuit',\n",
       " 'lawsuit against',\n",
       " 'against the',\n",
       " 'the Obama',\n",
       " 'Obama administration',\n",
       " 'administration :',\n",
       " ': They',\n",
       " 'They might',\n",
       " 'might win',\n",
       " 'win .']"
      ]
     },
     "execution_count": 60,
     "metadata": {},
     "output_type": "execute_result"
    }
   ],
   "source": [
    "s = sent_tokenize(df.content[0])\n",
    "w = word_tokenize(s[0])\n",
    "bigrams = []\n",
    "for i in range(len(w) - 1):\n",
    "    bigrams.append(' '.join((w[i], w[i+1])))\n",
    "bigrams"
   ]
  },
  {
   "cell_type": "code",
   "execution_count": 19,
   "metadata": {},
   "outputs": [
    {
     "ename": "AttributeError",
     "evalue": "'list' object has no attribute 'union'",
     "output_type": "error",
     "traceback": [
      "\u001b[0;31m---------------------------------------------------------------------------\u001b[0m",
      "\u001b[0;31mAttributeError\u001b[0m                            Traceback (most recent call last)",
      "\u001b[0;32m<ipython-input-19-530db81e649f>\u001b[0m in \u001b[0;36m<module>\u001b[0;34m\u001b[0m\n\u001b[0;32m----> 1\u001b[0;31m \u001b[0mlibCons\u001b[0m\u001b[0;34m.\u001b[0m\u001b[0munion\u001b[0m\u001b[0;34m(\u001b[0m\u001b[0mconCons\u001b[0m\u001b[0;34m)\u001b[0m\u001b[0;34m\u001b[0m\u001b[0;34m\u001b[0m\u001b[0m\n\u001b[0m",
      "\u001b[0;31mAttributeError\u001b[0m: 'list' object has no attribute 'union'"
     ]
    }
   ],
   "source": [
    "libCons.union(conCons)"
   ]
  },
  {
   "cell_type": "code",
   "execution_count": 23,
   "metadata": {},
   "outputs": [],
   "source": [
    "def extractContent(row):\n",
    "    sentList = []\n",
    "    label = bias_dict[row.publication]\n",
    "    try:\n",
    "        sentences = sent_tokenize(row.content)\n",
    "    except:\n",
    "        sentences = []\n",
    "    sentences.append(row.title)\n",
    "    for s in sentences:\n",
    "        try:\n",
    "            words = word_tokenize(s)\n",
    "            words = [w.lower() for w in words]\n",
    "            bigrams = []\n",
    "            for i in range(len(words) - 1):\n",
    "                bigrams.append(' '.join((words[i], words[i+1])))\n",
    "        except:\n",
    "            words = []\n",
    "        if label == 'liberal':\n",
    "            lexPresent = set(words).intersection(libCons)\n",
    "            gramsPresent = set(bigrams).intersection(libGrams)\n",
    "            if lexPresent or gramsPresent:\n",
    "                sentList.append((label, s))\n",
    "        elif label == 'conservative':\n",
    "            lexPresent = set(words).intersection(conCons)\n",
    "            gramsPresent = set(bigrams).intersection(conGrams)\n",
    "            if lexPresent or gramsPresent:\n",
    "                sentList.append((label, s))\n",
    "        else:\n",
    "            lexPresent = set(words).intersection(set(libCons).union(conCons))\n",
    "            gramsPresent = set(bigrams).intersection(set(libGrams).union(conGrams))\n",
    "            if not lexPresent and not gramsPresent:\n",
    "                sentList.append((label, s))\n",
    "    return sentList"
   ]
  },
  {
   "cell_type": "code",
   "execution_count": 24,
   "metadata": {},
   "outputs": [
    {
     "data": {
      "text/plain": [
       "Unnamed: 0                                                  7813\n",
       "id                                                         26549\n",
       "title          New Orleans Removes Famous ‘Lee Circle’ Monume...\n",
       "publication                                            Breitbart\n",
       "author                                               John Binder\n",
       "date                                                  2017-05-20\n",
       "year                                                        2017\n",
       "month                                                          5\n",
       "url                                                          NaN\n",
       "content        NEW ORLEANS, Louisiana  —   The monument to Ge...\n",
       "Name: 7813, dtype: object"
      ]
     },
     "execution_count": 24,
     "metadata": {},
     "output_type": "execute_result"
    }
   ],
   "source": [
    "sample = df.loc[df.publication == 'Breitbart'].iloc[10]\n",
    "sample"
   ]
  },
  {
   "cell_type": "code",
   "execution_count": 38,
   "metadata": {},
   "outputs": [],
   "source": [
    "sentList = []\n",
    "sample = df.sample().iloc[0]"
   ]
  },
  {
   "cell_type": "code",
   "execution_count": 39,
   "metadata": {},
   "outputs": [
    {
     "data": {
      "text/plain": [
       "(6, 3514)"
      ]
     },
     "execution_count": 39,
     "metadata": {},
     "output_type": "execute_result"
    }
   ],
   "source": [
    "sentList = extractContent(sample)\n",
    "len(sentList), len(sample.content)"
   ]
  },
  {
   "cell_type": "code",
   "execution_count": 40,
   "metadata": {},
   "outputs": [
    {
     "name": "stdout",
     "output_type": "stream",
     "text": [
      "0 ('conservative', 'Trailing   in the first set, but leading   on Young’s serve, Medvedev thought he’d hit a winner down the line and walked to his seat believing he had just broken serve, only to realize the chair umpire had called the forehand wide.')\n",
      "1 ('conservative', 'After a lengthy discussion with Medvedev, Crossland walked over to French in the umpire’s chair and appeared to give his consent for the match to be handed to Young through an unsportsmanlike default against Medvedev.')\n",
      "2 ('conservative', 'The New York Times compared the incident to Lleyton Hewitt’s infamous comments during a   win against American James Blake at the 2001 US Open  —   which Hewitt went on to win by defeating tennis legend Pete Sampras in the final.')\n",
      "3 ('conservative', 'Incident echoes Lleyton Hewitt in 2001, who accused a black line judge of favoring James Blake due to ”similarity.”   —   Ben Rothenberg (@BenRothenberg)  Hewitt, then 20, denied any wrongdoing when he was accused of drawing attention to the physical similarities between Blake and   line judge Marion Johnson, who twice called Hewitt for a foot fault while serving during the third set.')\n",
      "4 ('conservative', 'When he dropped a service game at   in the third set, Hewitt stormed to chair umpire Andreas Egli to demand Johnson be replaced.')\n",
      "5 ('conservative', '” Hewitt has always stressed his call for the linesman to be moved had nothing to do with the color of his skin, though many critics were dubious.')\n"
     ]
    }
   ],
   "source": [
    "for i,s in enumerate(sentList):\n",
    "    print(i,s)"
   ]
  },
  {
   "cell_type": "code",
   "execution_count": 136,
   "metadata": {},
   "outputs": [
    {
     "name": "stdout",
     "output_type": "stream",
     "text": [
      "0 NEW ORLEANS, Louisiana  —   The monument to General Robert E. Lee was removed from its pedestal in Lee Circle at the heart of the city of New Orleans.\n",
      "1 Mayor Mitch Landrieu used the event to claim victory for political correctness.\n",
      "2 [The famous Civil   monument of Robert E. Lee has been at the center of the city’s most famous traffic circle for more than a century.\n",
      "3 The statue was put on the chopping block my Landrieu after he began a crusade against four monuments he deemed “symbols of white supremacy.\n",
      "4 ”  Other monuments removed by the Landrieu Administration include the Battle at Liberty Place, Jefferson Davis, and the P. G. T. Beauregard Monuments, Breitbart Texas reported.\n",
      "5 All the monuments were removed at some expense to taxpayers, as New Orleans Police Department (NOPD) and New Orleans Fire Department (NOFD) officials were present at each of the removal processes.\n",
      "6 The money to physically remove the monuments, though, came from a private donor which Landrieu has refused to disclose to the public.\n",
      "7 In an address to the city, Landrieu derided critics of his now infamous monument removal crusade, saying Davis, Beauregard and Lee were not patriots.\n",
      "8 “These monuments that we took down were meant to rebrand the history of our city and the ideals of the Confederacy” Landrieu said.\n",
      "9 “It is   that these men did not fight for the United States of America.\n",
      "10 They fought against it.\n",
      "11 They may have been warriors, but in this cause, they were not patriots.\n",
      "12 ” “These monuments celebrate a fictional, sanitized Confederacy,” Landrieu said.\n",
      "13 “Ignoring the death, ignoring the enslavement, ignoring the terror that it actually stood for.\n",
      "14 ” Landrieu hinted at what the monuments, specifically the Beauregard and Lee Circle statues, would be replaced with.\n",
      "15 “It immediately begs the question: Why are there no   monuments,” Landrieu said.\n",
      "16 “No public markers on public land to remember the lynchings or the slave blocs?\n",
      "17 Nothing to remember this long chapter of our lives of pain, of sacrifice, of shame, all of it happening on the soil of New Orleans.\n",
      "18 ” Landrieu has been widely criticized for his calling for the removal of the historical monuments, with historians asking him to add context to the monuments, rather than removing them altogether.\n",
      "19 The grassroots activist group Save Our Circle formed solely in opposition to Landrieu’s actions in regards to the monuments.\n",
      "20 They say that the monuments represent the city’s history.\n",
      "21 Take ‘Em Down Nola and STAND With Dignity, two     organizations lobbied Landrieu to go further than just the four monuments.\n",
      "22 Now, they are calling for the removal of more than a dozen monuments and street names, including: Most recently, Landrieu made a broad accusation about the impact of the four Civil   monuments on the city of New Orleans.\n",
      "23 While speaking to local media, Landrieu said the monuments caused a “great migration out of the city,” as Breitbart Texas reported.\n",
      "24 “But I will say this for people that are interested in the cost,” Landrieu said.\n",
      "25 “The cultural and economic and the spiritual loss to this city for having those statues up that have run people out of the city,” Landrieu claimed.\n",
      "26 “The great migration that sent some of our best and brightest to places across the country that we don’t have the benefit of has been incredible.\n",
      "27 ” Historians have refuted this claim in 2015, when Landrieu first demanded the monuments come down.\n",
      "28 They argued that the city serves tourists and locals as a public history museum, unlike any other city in the U. S.\n"
     ]
    }
   ],
   "source": [
    "for i,s in enumerate(sent_tokenize(sample.content)):\n",
    "    print(i,s)"
   ]
  },
  {
   "cell_type": "code",
   "execution_count": null,
   "metadata": {},
   "outputs": [],
   "source": []
  },
  {
   "cell_type": "code",
   "execution_count": null,
   "metadata": {},
   "outputs": [],
   "source": []
  },
  {
   "cell_type": "code",
   "execution_count": 145,
   "metadata": {},
   "outputs": [
    {
     "data": {
      "text/plain": [
       "13"
      ]
     },
     "execution_count": 145,
     "metadata": {},
     "output_type": "execute_result"
    }
   ],
   "source": [
    "sents = []\n",
    "s = extractContent(df.iloc[0])\n",
    "len(s)"
   ]
  },
  {
   "cell_type": "code",
   "execution_count": 146,
   "metadata": {},
   "outputs": [
    {
     "name": "stdout",
     "output_type": "stream",
     "text": [
      "0\n",
      "13\n"
     ]
    }
   ],
   "source": [
    "print(len(sents))\n",
    "sents.extend(s)\n",
    "print(len(sents))"
   ]
  },
  {
   "cell_type": "code",
   "execution_count": 149,
   "metadata": {},
   "outputs": [
    {
     "data": {
      "text/plain": [
       "(44, 2)"
      ]
     },
     "execution_count": 149,
     "metadata": {},
     "output_type": "execute_result"
    }
   ],
   "source": [
    "sents = []\n",
    "for i in range(20):\n",
    "    row = df.iloc[i]\n",
    "    sentList = extractContent(row)\n",
    "    sents.extend(sentList)\n",
    "df2 = pd.DataFrame(sents)\n",
    "df2.columns = ['label', 'sentence']\n",
    "df2.shape"
   ]
  },
  {
   "cell_type": "code",
   "execution_count": 150,
   "metadata": {},
   "outputs": [
    {
     "data": {
      "text/html": [
       "<div>\n",
       "<style scoped>\n",
       "    .dataframe tbody tr th:only-of-type {\n",
       "        vertical-align: middle;\n",
       "    }\n",
       "\n",
       "    .dataframe tbody tr th {\n",
       "        vertical-align: top;\n",
       "    }\n",
       "\n",
       "    .dataframe thead th {\n",
       "        text-align: right;\n",
       "    }\n",
       "</style>\n",
       "<table border=\"1\" class=\"dataframe\">\n",
       "  <thead>\n",
       "    <tr style=\"text-align: right;\">\n",
       "      <th></th>\n",
       "      <th>label</th>\n",
       "      <th>sentence</th>\n",
       "    </tr>\n",
       "  </thead>\n",
       "  <tbody>\n",
       "    <tr>\n",
       "      <th>0</th>\n",
       "      <td>liberal</td>\n",
       "      <td>WASHINGTON  —   Congressional Republicans have...</td>\n",
       "    </tr>\n",
       "    <tr>\n",
       "      <th>1</th>\n",
       "      <td>liberal</td>\n",
       "      <td>The incoming Trump administration could choose...</td>\n",
       "    </tr>\n",
       "    <tr>\n",
       "      <th>2</th>\n",
       "      <td>liberal</td>\n",
       "      <td>In another twist, Donald J. Trump’s administra...</td>\n",
       "    </tr>\n",
       "    <tr>\n",
       "      <th>3</th>\n",
       "      <td>liberal</td>\n",
       "      <td>“Given that this pending litigation involves t...</td>\n",
       "    </tr>\n",
       "    <tr>\n",
       "      <th>4</th>\n",
       "      <td>liberal</td>\n",
       "      <td>“Upon taking office, the Trump administration ...</td>\n",
       "    </tr>\n",
       "  </tbody>\n",
       "</table>\n",
       "</div>"
      ],
      "text/plain": [
       "     label                                           sentence\n",
       "0  liberal  WASHINGTON  —   Congressional Republicans have...\n",
       "1  liberal  The incoming Trump administration could choose...\n",
       "2  liberal  In another twist, Donald J. Trump’s administra...\n",
       "3  liberal  “Given that this pending litigation involves t...\n",
       "4  liberal  “Upon taking office, the Trump administration ..."
      ]
     },
     "execution_count": 150,
     "metadata": {},
     "output_type": "execute_result"
    }
   ],
   "source": [
    "df2.head()"
   ]
  },
  {
   "cell_type": "code",
   "execution_count": 4,
   "metadata": {},
   "outputs": [],
   "source": [
    "def extractSentences(df):\n",
    "    output = []\n",
    "    for i in range(df.shape[0]):\n",
    "        row = df.iloc[i]\n",
    "        sentList = extractContent(row)\n",
    "        output.extend(sentList)\n",
    "    df = pd.DataFrame(output)\n",
    "    df.columns = ['label', 'text']\n",
    "    return df"
   ]
  },
  {
   "cell_type": "code",
   "execution_count": 10,
   "metadata": {},
   "outputs": [
    {
     "name": "stdout",
     "output_type": "stream",
     "text": [
      "runtime (min):  21.079082457224526\n"
     ]
    },
    {
     "data": {
      "text/html": [
       "<div>\n",
       "<style scoped>\n",
       "    .dataframe tbody tr th:only-of-type {\n",
       "        vertical-align: middle;\n",
       "    }\n",
       "\n",
       "    .dataframe tbody tr th {\n",
       "        vertical-align: top;\n",
       "    }\n",
       "\n",
       "    .dataframe thead th {\n",
       "        text-align: right;\n",
       "    }\n",
       "</style>\n",
       "<table border=\"1\" class=\"dataframe\">\n",
       "  <thead>\n",
       "    <tr style=\"text-align: right;\">\n",
       "      <th></th>\n",
       "      <th>label</th>\n",
       "      <th>text</th>\n",
       "    </tr>\n",
       "  </thead>\n",
       "  <tbody>\n",
       "    <tr>\n",
       "      <th>276171</th>\n",
       "      <td>neutral</td>\n",
       "      <td>”It’s a gut check about the health of the cons...</td>\n",
       "    </tr>\n",
       "    <tr>\n",
       "      <th>101859</th>\n",
       "      <td>conservative</td>\n",
       "      <td>“To me it’s [about] illegal immigration.</td>\n",
       "    </tr>\n",
       "    <tr>\n",
       "      <th>193337</th>\n",
       "      <td>neutral</td>\n",
       "      <td>Jay Y. Lee was named as a suspect on Wednesday...</td>\n",
       "    </tr>\n",
       "    <tr>\n",
       "      <th>407326</th>\n",
       "      <td>neutral</td>\n",
       "      <td>Its shares rose 2.</td>\n",
       "    </tr>\n",
       "    <tr>\n",
       "      <th>381828</th>\n",
       "      <td>neutral</td>\n",
       "      <td>Obama praised Merkel for her ”steady leadershi...</td>\n",
       "    </tr>\n",
       "  </tbody>\n",
       "</table>\n",
       "</div>"
      ],
      "text/plain": [
       "               label                                               text\n",
       "276171       neutral  ”It’s a gut check about the health of the cons...\n",
       "101859  conservative           “To me it’s [about] illegal immigration.\n",
       "193337       neutral  Jay Y. Lee was named as a suspect on Wednesday...\n",
       "407326       neutral                                 Its shares rose 2.\n",
       "381828       neutral  Obama praised Merkel for her ”steady leadershi..."
      ]
     },
     "execution_count": 10,
     "metadata": {},
     "output_type": "execute_result"
    }
   ],
   "source": [
    "start = time.time()\n",
    "df = extractSentences(df)\n",
    "print('runtime (min): ', (time.time() - start) / 60)\n",
    "df.sample(5)"
   ]
  },
  {
   "cell_type": "code",
   "execution_count": 11,
   "metadata": {},
   "outputs": [
    {
     "data": {
      "text/plain": [
       "(546544, 2)"
      ]
     },
     "execution_count": 11,
     "metadata": {},
     "output_type": "execute_result"
    }
   ],
   "source": [
    "df.shape"
   ]
  },
  {
   "cell_type": "code",
   "execution_count": 16,
   "metadata": {},
   "outputs": [
    {
     "data": {
      "text/html": [
       "<div>\n",
       "<style scoped>\n",
       "    .dataframe tbody tr th:only-of-type {\n",
       "        vertical-align: middle;\n",
       "    }\n",
       "\n",
       "    .dataframe tbody tr th {\n",
       "        vertical-align: top;\n",
       "    }\n",
       "\n",
       "    .dataframe thead th {\n",
       "        text-align: right;\n",
       "    }\n",
       "</style>\n",
       "<table border=\"1\" class=\"dataframe\">\n",
       "  <thead>\n",
       "    <tr style=\"text-align: right;\">\n",
       "      <th></th>\n",
       "      <th>text</th>\n",
       "    </tr>\n",
       "    <tr>\n",
       "      <th>label</th>\n",
       "      <th></th>\n",
       "    </tr>\n",
       "  </thead>\n",
       "  <tbody>\n",
       "    <tr>\n",
       "      <th>conservative</th>\n",
       "      <td>59668</td>\n",
       "    </tr>\n",
       "    <tr>\n",
       "      <th>liberal</th>\n",
       "      <td>181248</td>\n",
       "    </tr>\n",
       "    <tr>\n",
       "      <th>neutral</th>\n",
       "      <td>305627</td>\n",
       "    </tr>\n",
       "  </tbody>\n",
       "</table>\n",
       "</div>"
      ],
      "text/plain": [
       "                text\n",
       "label               \n",
       "conservative   59668\n",
       "liberal       181248\n",
       "neutral       305627"
      ]
     },
     "execution_count": 16,
     "metadata": {},
     "output_type": "execute_result"
    }
   ],
   "source": [
    "df.groupby('label').count()"
   ]
  },
  {
   "cell_type": "code",
   "execution_count": 12,
   "metadata": {},
   "outputs": [
    {
     "name": "stdout",
     "output_type": "stream",
     "text": [
      "/home/alex/Documents/MIDS/w266/final_project/w266_final_project\n"
     ]
    }
   ],
   "source": [
    "!pwd"
   ]
  },
  {
   "cell_type": "code",
   "execution_count": 17,
   "metadata": {},
   "outputs": [],
   "source": [
    "df.to_csv('filtered_sentences.csv')"
   ]
  },
  {
   "cell_type": "code",
   "execution_count": 18,
   "metadata": {},
   "outputs": [],
   "source": [
    "import pickle"
   ]
  },
  {
   "cell_type": "code",
   "execution_count": 21,
   "metadata": {},
   "outputs": [
    {
     "data": {
      "text/plain": [
       "\u001b[0;31mSignature:\u001b[0m\n",
       "\u001b[0mopen\u001b[0m\u001b[0;34m(\u001b[0m\u001b[0;34m\u001b[0m\n",
       "\u001b[0;34m\u001b[0m    \u001b[0mfile\u001b[0m\u001b[0;34m,\u001b[0m\u001b[0;34m\u001b[0m\n",
       "\u001b[0;34m\u001b[0m    \u001b[0mmode\u001b[0m\u001b[0;34m=\u001b[0m\u001b[0;34m'r'\u001b[0m\u001b[0;34m,\u001b[0m\u001b[0;34m\u001b[0m\n",
       "\u001b[0;34m\u001b[0m    \u001b[0mbuffering\u001b[0m\u001b[0;34m=\u001b[0m\u001b[0;34m-\u001b[0m\u001b[0;36m1\u001b[0m\u001b[0;34m,\u001b[0m\u001b[0;34m\u001b[0m\n",
       "\u001b[0;34m\u001b[0m    \u001b[0mencoding\u001b[0m\u001b[0;34m=\u001b[0m\u001b[0;32mNone\u001b[0m\u001b[0;34m,\u001b[0m\u001b[0;34m\u001b[0m\n",
       "\u001b[0;34m\u001b[0m    \u001b[0merrors\u001b[0m\u001b[0;34m=\u001b[0m\u001b[0;32mNone\u001b[0m\u001b[0;34m,\u001b[0m\u001b[0;34m\u001b[0m\n",
       "\u001b[0;34m\u001b[0m    \u001b[0mnewline\u001b[0m\u001b[0;34m=\u001b[0m\u001b[0;32mNone\u001b[0m\u001b[0;34m,\u001b[0m\u001b[0;34m\u001b[0m\n",
       "\u001b[0;34m\u001b[0m    \u001b[0mclosefd\u001b[0m\u001b[0;34m=\u001b[0m\u001b[0;32mTrue\u001b[0m\u001b[0;34m,\u001b[0m\u001b[0;34m\u001b[0m\n",
       "\u001b[0;34m\u001b[0m    \u001b[0mopener\u001b[0m\u001b[0;34m=\u001b[0m\u001b[0;32mNone\u001b[0m\u001b[0;34m,\u001b[0m\u001b[0;34m\u001b[0m\n",
       "\u001b[0;34m\u001b[0m\u001b[0;34m)\u001b[0m\u001b[0;34m\u001b[0m\u001b[0;34m\u001b[0m\u001b[0m\n",
       "\u001b[0;31mDocstring:\u001b[0m\n",
       "Open file and return a stream.  Raise OSError upon failure.\n",
       "\n",
       "file is either a text or byte string giving the name (and the path\n",
       "if the file isn't in the current working directory) of the file to\n",
       "be opened or an integer file descriptor of the file to be\n",
       "wrapped. (If a file descriptor is given, it is closed when the\n",
       "returned I/O object is closed, unless closefd is set to False.)\n",
       "\n",
       "mode is an optional string that specifies the mode in which the file\n",
       "is opened. It defaults to 'r' which means open for reading in text\n",
       "mode.  Other common values are 'w' for writing (truncating the file if\n",
       "it already exists), 'x' for creating and writing to a new file, and\n",
       "'a' for appending (which on some Unix systems, means that all writes\n",
       "append to the end of the file regardless of the current seek position).\n",
       "In text mode, if encoding is not specified the encoding used is platform\n",
       "dependent: locale.getpreferredencoding(False) is called to get the\n",
       "current locale encoding. (For reading and writing raw bytes use binary\n",
       "mode and leave encoding unspecified.) The available modes are:\n",
       "\n",
       "========= ===============================================================\n",
       "Character Meaning\n",
       "--------- ---------------------------------------------------------------\n",
       "'r'       open for reading (default)\n",
       "'w'       open for writing, truncating the file first\n",
       "'x'       create a new file and open it for writing\n",
       "'a'       open for writing, appending to the end of the file if it exists\n",
       "'b'       binary mode\n",
       "'t'       text mode (default)\n",
       "'+'       open a disk file for updating (reading and writing)\n",
       "'U'       universal newline mode (deprecated)\n",
       "========= ===============================================================\n",
       "\n",
       "The default mode is 'rt' (open for reading text). For binary random\n",
       "access, the mode 'w+b' opens and truncates the file to 0 bytes, while\n",
       "'r+b' opens the file without truncation. The 'x' mode implies 'w' and\n",
       "raises an `FileExistsError` if the file already exists.\n",
       "\n",
       "Python distinguishes between files opened in binary and text modes,\n",
       "even when the underlying operating system doesn't. Files opened in\n",
       "binary mode (appending 'b' to the mode argument) return contents as\n",
       "bytes objects without any decoding. In text mode (the default, or when\n",
       "'t' is appended to the mode argument), the contents of the file are\n",
       "returned as strings, the bytes having been first decoded using a\n",
       "platform-dependent encoding or using the specified encoding if given.\n",
       "\n",
       "'U' mode is deprecated and will raise an exception in future versions\n",
       "of Python.  It has no effect in Python 3.  Use newline to control\n",
       "universal newlines mode.\n",
       "\n",
       "buffering is an optional integer used to set the buffering policy.\n",
       "Pass 0 to switch buffering off (only allowed in binary mode), 1 to select\n",
       "line buffering (only usable in text mode), and an integer > 1 to indicate\n",
       "the size of a fixed-size chunk buffer.  When no buffering argument is\n",
       "given, the default buffering policy works as follows:\n",
       "\n",
       "* Binary files are buffered in fixed-size chunks; the size of the buffer\n",
       "  is chosen using a heuristic trying to determine the underlying device's\n",
       "  \"block size\" and falling back on `io.DEFAULT_BUFFER_SIZE`.\n",
       "  On many systems, the buffer will typically be 4096 or 8192 bytes long.\n",
       "\n",
       "* \"Interactive\" text files (files for which isatty() returns True)\n",
       "  use line buffering.  Other text files use the policy described above\n",
       "  for binary files.\n",
       "\n",
       "encoding is the name of the encoding used to decode or encode the\n",
       "file. This should only be used in text mode. The default encoding is\n",
       "platform dependent, but any encoding supported by Python can be\n",
       "passed.  See the codecs module for the list of supported encodings.\n",
       "\n",
       "errors is an optional string that specifies how encoding errors are to\n",
       "be handled---this argument should not be used in binary mode. Pass\n",
       "'strict' to raise a ValueError exception if there is an encoding error\n",
       "(the default of None has the same effect), or pass 'ignore' to ignore\n",
       "errors. (Note that ignoring encoding errors can lead to data loss.)\n",
       "See the documentation for codecs.register or run 'help(codecs.Codec)'\n",
       "for a list of the permitted encoding error strings.\n",
       "\n",
       "newline controls how universal newlines works (it only applies to text\n",
       "mode). It can be None, '', '\\n', '\\r', and '\\r\\n'.  It works as\n",
       "follows:\n",
       "\n",
       "* On input, if newline is None, universal newlines mode is\n",
       "  enabled. Lines in the input can end in '\\n', '\\r', or '\\r\\n', and\n",
       "  these are translated into '\\n' before being returned to the\n",
       "  caller. If it is '', universal newline mode is enabled, but line\n",
       "  endings are returned to the caller untranslated. If it has any of\n",
       "  the other legal values, input lines are only terminated by the given\n",
       "  string, and the line ending is returned to the caller untranslated.\n",
       "\n",
       "* On output, if newline is None, any '\\n' characters written are\n",
       "  translated to the system default line separator, os.linesep. If\n",
       "  newline is '' or '\\n', no translation takes place. If newline is any\n",
       "  of the other legal values, any '\\n' characters written are translated\n",
       "  to the given string.\n",
       "\n",
       "If closefd is False, the underlying file descriptor will be kept open\n",
       "when the file is closed. This does not work when a file name is given\n",
       "and must be True in that case.\n",
       "\n",
       "A custom opener can be used by passing a callable as *opener*. The\n",
       "underlying file descriptor for the file object is then obtained by\n",
       "calling *opener* with (*file*, *flags*). *opener* must return an open\n",
       "file descriptor (passing os.open as *opener* results in functionality\n",
       "similar to passing None).\n",
       "\n",
       "open() returns a file object whose type depends on the mode, and\n",
       "through which the standard file operations such as reading and writing\n",
       "are performed. When open() is used to open a file in a text mode ('w',\n",
       "'r', 'wt', 'rt', etc.), it returns a TextIOWrapper. When used to open\n",
       "a file in a binary mode, the returned class varies: in read binary\n",
       "mode, it returns a BufferedReader; in write binary and append binary\n",
       "modes, it returns a BufferedWriter, and in read/write mode, it returns\n",
       "a BufferedRandom.\n",
       "\n",
       "It is also possible to use a string or bytearray as a file for both\n",
       "reading and writing. For strings StringIO can be used like a file\n",
       "opened in a text mode, and for bytes a BytesIO can be used like a file\n",
       "opened in a binary mode.\n",
       "\u001b[0;31mType:\u001b[0m      builtin_function_or_method\n"
      ]
     },
     "metadata": {},
     "output_type": "display_data"
    }
   ],
   "source": [
    "?open"
   ]
  },
  {
   "cell_type": "code",
   "execution_count": 26,
   "metadata": {},
   "outputs": [
    {
     "data": {
      "text/plain": [
       "0.7255961894989014"
      ]
     },
     "execution_count": 26,
     "metadata": {},
     "output_type": "execute_result"
    }
   ],
   "source": [
    "start = time.time()\n",
    "with open('filtered_sentences.pickle', 'wb') as f:\n",
    "    pickle.dump(df, f, pickle.HIGHEST_PROTOCOL)\n",
    "with open('filtered_sentences.pickle', 'rb') as f:\n",
    "    df2 = pickle.load(f)\n",
    "time.time() - start"
   ]
  },
  {
   "cell_type": "code",
   "execution_count": 27,
   "metadata": {},
   "outputs": [
    {
     "data": {
      "text/plain": [
       "4.2353599071502686"
      ]
     },
     "execution_count": 27,
     "metadata": {},
     "output_type": "execute_result"
    }
   ],
   "source": [
    "start = time.time()\n",
    "df.to_csv('filtered_sentences.csv')\n",
    "df3 = pd.read_csv('filtered_sentences.csv')\n",
    "time.time() - start"
   ]
  },
  {
   "cell_type": "code",
   "execution_count": 24,
   "metadata": {},
   "outputs": [],
   "source": [
    "with open('filtered_sentences.pickle', 'rb') as f:\n",
    "    df2 = pickle.load(f)"
   ]
  },
  {
   "cell_type": "code",
   "execution_count": 25,
   "metadata": {},
   "outputs": [
    {
     "data": {
      "text/html": [
       "<div>\n",
       "<style scoped>\n",
       "    .dataframe tbody tr th:only-of-type {\n",
       "        vertical-align: middle;\n",
       "    }\n",
       "\n",
       "    .dataframe tbody tr th {\n",
       "        vertical-align: top;\n",
       "    }\n",
       "\n",
       "    .dataframe thead th {\n",
       "        text-align: right;\n",
       "    }\n",
       "</style>\n",
       "<table border=\"1\" class=\"dataframe\">\n",
       "  <thead>\n",
       "    <tr style=\"text-align: right;\">\n",
       "      <th></th>\n",
       "      <th>label</th>\n",
       "      <th>text</th>\n",
       "    </tr>\n",
       "  </thead>\n",
       "  <tbody>\n",
       "    <tr>\n",
       "      <th>0</th>\n",
       "      <td>liberal</td>\n",
       "      <td>WASHINGTON  —   Congressional Republicans have...</td>\n",
       "    </tr>\n",
       "    <tr>\n",
       "      <th>1</th>\n",
       "      <td>liberal</td>\n",
       "      <td>The incoming Trump administration could choose...</td>\n",
       "    </tr>\n",
       "    <tr>\n",
       "      <th>2</th>\n",
       "      <td>liberal</td>\n",
       "      <td>In another twist, Donald J. Trump’s administra...</td>\n",
       "    </tr>\n",
       "    <tr>\n",
       "      <th>3</th>\n",
       "      <td>liberal</td>\n",
       "      <td>“Given that this pending litigation involves t...</td>\n",
       "    </tr>\n",
       "    <tr>\n",
       "      <th>4</th>\n",
       "      <td>liberal</td>\n",
       "      <td>“Upon taking office, the Trump administration ...</td>\n",
       "    </tr>\n",
       "  </tbody>\n",
       "</table>\n",
       "</div>"
      ],
      "text/plain": [
       "     label                                               text\n",
       "0  liberal  WASHINGTON  —   Congressional Republicans have...\n",
       "1  liberal  The incoming Trump administration could choose...\n",
       "2  liberal  In another twist, Donald J. Trump’s administra...\n",
       "3  liberal  “Given that this pending litigation involves t...\n",
       "4  liberal  “Upon taking office, the Trump administration ..."
      ]
     },
     "execution_count": 25,
     "metadata": {},
     "output_type": "execute_result"
    }
   ],
   "source": [
    "df2.head()"
   ]
  }
 ],
 "metadata": {
  "kernelspec": {
   "display_name": "Python 3",
   "language": "python",
   "name": "python3"
  },
  "language_info": {
   "codemirror_mode": {
    "name": "ipython",
    "version": 3
   },
   "file_extension": ".py",
   "mimetype": "text/x-python",
   "name": "python",
   "nbconvert_exporter": "python",
   "pygments_lexer": "ipython3",
   "version": "3.7.3"
  }
 },
 "nbformat": 4,
 "nbformat_minor": 2
}
